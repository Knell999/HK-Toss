{
  "nbformat": 4,
  "nbformat_minor": 0,
  "metadata": {
    "colab": {
      "provenance": [],
      "include_colab_link": true
    },
    "kernelspec": {
      "name": "python3",
      "display_name": "Python 3"
    },
    "language_info": {
      "name": "python"
    }
  },
  "cells": [
    {
      "cell_type": "markdown",
      "metadata": {
        "id": "view-in-github",
        "colab_type": "text"
      },
      "source": [
        "<a href=\"https://colab.research.google.com/github/Knell999/ML_Ops_HK-Toss/blob/main/Chapter_1_%EA%B8%B0%EC%B4%88/01_%ED%8C%8C%EC%9D%B4%EC%8D%AC/02_%ED%8C%8C%EC%9D%B4%EC%8D%AC_%EB%B3%80%EC%88%98%EC%99%80_%EC%9E%90%EB%A3%8C%ED%98%95.ipynb\" target=\"_parent\"><img src=\"https://colab.research.google.com/assets/colab-badge.svg\" alt=\"Open In Colab\"/></a>"
      ]
    },
    {
      "cell_type": "markdown",
      "source": [
        "# 파이썬이란?\n",
        "- 데이터 엔지니어링, 사이언스, 분석, 애플리케이션 개발을 할 때 사용되는 언어"
      ],
      "metadata": {
        "id": "yEV-DgPI42ys"
      }
    },
    {
      "cell_type": "markdown",
      "source": [
        "## 변수\n",
        "- 변수란? 값이 저장될 수 있는 공간\n",
        "- 원할 때 마다 변수에 들어 있는 \" 값 \"을 언제든 바꿀 수 있따."
      ],
      "metadata": {
        "id": "m0Rh_0uB5JRf"
      }
    },
    {
      "cell_type": "code",
      "source": [
        "a = 1\n",
        "print(a)"
      ],
      "metadata": {
        "colab": {
          "base_uri": "https://localhost:8080/"
        },
        "id": "jnKu_4UQ6iyA",
        "outputId": "c6bbfcee-3445-4608-e97a-b964ec6a8b37"
      },
      "execution_count": null,
      "outputs": [
        {
          "output_type": "stream",
          "name": "stdout",
          "text": [
            "1\n"
          ]
        }
      ]
    },
    {
      "cell_type": "code",
      "source": [
        "a = 2\n",
        "print(a)"
      ],
      "metadata": {
        "colab": {
          "base_uri": "https://localhost:8080/"
        },
        "id": "vZEPNeYf6l7J",
        "outputId": "4958a53a-f2dd-4764-a4d5-0de8957b4520"
      },
      "execution_count": null,
      "outputs": [
        {
          "output_type": "stream",
          "name": "stdout",
          "text": [
            "2\n"
          ]
        }
      ]
    },
    {
      "cell_type": "markdown",
      "source": [
        "# Comment(주석)\n",
        "- 코드에서 # 으로 시작하는 부분으로써, 실행이 되지 않습니다.\n",
        "- 개발자가 어떠한 코드인지 코드상에 설명할 때 사용한다.\n"
      ],
      "metadata": {
        "id": "47QZIPpx6wq5"
      }
    },
    {
      "cell_type": "code",
      "source": [
        "# 변수 a에 1을 집어 넣는다.\n",
        "a = 1"
      ],
      "metadata": {
        "id": "WwIcoRJcRq9M"
      },
      "execution_count": null,
      "outputs": []
    },
    {
      "cell_type": "code",
      "source": [
        "b = 1 # 변수 b에 1을 집어 넣는다."
      ],
      "metadata": {
        "id": "yjWopIEaR9MV"
      },
      "execution_count": null,
      "outputs": []
    },
    {
      "cell_type": "markdown",
      "source": [
        "# 변수에 값이 들어가는 과정\n",
        "1. 변수의 선언( Declaration )\n",
        "2. 변수에 값을 할당( Assignment )"
      ],
      "metadata": {
        "id": "1NQhewGeSBWd"
      }
    },
    {
      "cell_type": "code",
      "source": [
        "c = 1 # 변수 c를 선언 하고, 1을 할당했다."
      ],
      "metadata": {
        "id": "AJOp29LUSZ-e"
      },
      "execution_count": null,
      "outputs": []
    },
    {
      "cell_type": "markdown",
      "source": [
        "# 자료형 ( Data Type )\n",
        "파이썬은 기본적으로 4가지 자료형을 가지고 있습니다.\n",
        "- `int(Integer - 정수)` : `-1, -3, 0, 1, 3, 6, 2, 4, ...`\n",
        "- `float - 실수` : `3.14, 1.123, -6.1,, 30.10238, ...`\n",
        "  - `3.0`은 **실수**\n",
        "- `str(String - 문자열)` : 문자들이 열거 되어 있으면 문자열\n",
        "- `bool(Boolean - 논리)` : 참(`True`) / 거짓(`False`)"
      ],
      "metadata": {
        "id": "vNJolFIjTCCW"
      }
    },
    {
      "cell_type": "code",
      "source": [
        "a = 1\n",
        "type(a)"
      ],
      "metadata": {
        "colab": {
          "base_uri": "https://localhost:8080/"
        },
        "id": "cNbfkinUTLnR",
        "outputId": "4954621f-8a8d-457f-a62a-eeab8e89f894"
      },
      "execution_count": null,
      "outputs": [
        {
          "output_type": "execute_result",
          "data": {
            "text/plain": [
              "int"
            ]
          },
          "metadata": {},
          "execution_count": 6
        }
      ]
    },
    {
      "cell_type": "code",
      "source": [
        "a = 1.0\n",
        "type(a)"
      ],
      "metadata": {
        "colab": {
          "base_uri": "https://localhost:8080/"
        },
        "id": "-gXwyfemUIfM",
        "outputId": "6aa53a8f-07f0-4d17-b93c-5342af253c55"
      },
      "execution_count": null,
      "outputs": [
        {
          "output_type": "execute_result",
          "data": {
            "text/plain": [
              "float"
            ]
          },
          "metadata": {},
          "execution_count": 7
        }
      ]
    },
    {
      "cell_type": "code",
      "source": [
        "a = 3.14\n",
        "type(a)"
      ],
      "metadata": {
        "colab": {
          "base_uri": "https://localhost:8080/"
        },
        "id": "HICrGNk4UMNW",
        "outputId": "2c5b14b8-8e8e-4e63-c15f-e054c365a6ed"
      },
      "execution_count": null,
      "outputs": [
        {
          "output_type": "execute_result",
          "data": {
            "text/plain": [
              "float"
            ]
          },
          "metadata": {},
          "execution_count": 8
        }
      ]
    },
    {
      "cell_type": "code",
      "source": [
        "# 문자열을 만들 때는 작은 따옴표('') 또는 큰 따옴표( \"\" )를 사용한다.\n",
        "a = \"Hello~!~!~!~~!😀\"\n",
        "type(a)"
      ],
      "metadata": {
        "colab": {
          "base_uri": "https://localhost:8080/"
        },
        "id": "0UK7ofaRUfmu",
        "outputId": "127b26b6-0b4d-4e84-ca66-7e12b0786c7a"
      },
      "execution_count": null,
      "outputs": [
        {
          "output_type": "execute_result",
          "data": {
            "text/plain": [
              "str"
            ]
          },
          "metadata": {},
          "execution_count": 9
        }
      ]
    },
    {
      "cell_type": "code",
      "source": [
        "a = 'hello'\n",
        "type(a)"
      ],
      "metadata": {
        "colab": {
          "base_uri": "https://localhost:8080/"
        },
        "id": "P6tsG79TU8oq",
        "outputId": "f982b15f-8307-4fc9-97a5-6e45201351cc"
      },
      "execution_count": null,
      "outputs": [
        {
          "output_type": "execute_result",
          "data": {
            "text/plain": [
              "str"
            ]
          },
          "metadata": {},
          "execution_count": 10
        }
      ]
    },
    {
      "cell_type": "code",
      "source": [
        "# 안녕하세요, 제 이름은 '소민호'입니다.\n",
        "a = \"안녕하세요, 제 이름은 '소민호'입니다.\"\n",
        "print(a)"
      ],
      "metadata": {
        "colab": {
          "base_uri": "https://localhost:8080/"
        },
        "id": "AtB3OhMNVDx0",
        "outputId": "ef17060f-9221-422f-f82d-ee0785fcbcc7"
      },
      "execution_count": null,
      "outputs": [
        {
          "output_type": "stream",
          "name": "stdout",
          "text": [
            "안녕하세요, 제 이름은 '소민호'입니다.\n"
          ]
        }
      ]
    },
    {
      "cell_type": "code",
      "source": [
        "a = '안녕하세요, 제 이름은 \"소민호\"입니다.'\n",
        "print(a)"
      ],
      "metadata": {
        "colab": {
          "base_uri": "https://localhost:8080/"
        },
        "id": "xjovUs-RViun",
        "outputId": "8c40bd7c-3ad4-4377-d6c7-75b72a1e5859"
      },
      "execution_count": null,
      "outputs": [
        {
          "output_type": "stream",
          "name": "stdout",
          "text": [
            "안녕하세요, 제 이름은 \"소민호\"입니다.\n"
          ]
        }
      ]
    },
    {
      "cell_type": "code",
      "source": [
        "a = 3 > 2\n",
        "print(a)"
      ],
      "metadata": {
        "colab": {
          "base_uri": "https://localhost:8080/"
        },
        "id": "Z7kKessXVsY3",
        "outputId": "40f248f5-15e9-4bb2-e03d-fce9b834d157"
      },
      "execution_count": null,
      "outputs": [
        {
          "output_type": "stream",
          "name": "stdout",
          "text": [
            "True\n"
          ]
        }
      ]
    },
    {
      "cell_type": "code",
      "source": [
        "a = 2 > 3\n",
        "print(a)"
      ],
      "metadata": {
        "colab": {
          "base_uri": "https://localhost:8080/"
        },
        "id": "2eSfSwsuWFAC",
        "outputId": "1362293c-fa85-418d-dacc-e2d63812e347"
      },
      "execution_count": null,
      "outputs": [
        {
          "output_type": "stream",
          "name": "stdout",
          "text": [
            "False\n"
          ]
        }
      ]
    },
    {
      "cell_type": "code",
      "source": [
        "type(a)"
      ],
      "metadata": {
        "colab": {
          "base_uri": "https://localhost:8080/"
        },
        "id": "8Mi6GRZpWIt2",
        "outputId": "405d89ce-3ef6-4f9a-83ad-0650c237495f"
      },
      "execution_count": null,
      "outputs": [
        {
          "output_type": "execute_result",
          "data": {
            "text/plain": [
              "bool"
            ]
          },
          "metadata": {},
          "execution_count": 16
        }
      ]
    },
    {
      "cell_type": "markdown",
      "source": [
        "# variable naming (변수 이름 규칙)\n",
        "- 변수의 이름을 지을 때의 관례\n",
        "- 지금은 지키지 않아도 상관이 없는데, 나중에 이 규칙을 지키지 않으면 **오류**가 나는 경우가 있음"
      ],
      "metadata": {
        "id": "zjWseSAPWL4d"
      }
    },
    {
      "cell_type": "markdown",
      "source": [
        "1. `snake_case`\n",
        "  * 단어와 단어 사이를 언더바(`_`)를 이용해서 이어줍니다.\n",
        "  * `student_name`\n",
        "\n",
        "2. `CamelCase`\n",
        "  * 단어와 단어를 이어줄 때 뒤에 오는 단어의 첫 글자를 대문자로 이어준다.\n",
        "  * `StudentName` or `studentName`\n",
        "    * 앞 글자부터 대문자 : `클래스(class)`이름을 지어줄 때\n",
        "    * 뒤 글자부터 대문자 : 변수의 이름을 지을 때\n",
        "\n",
        "3. `kebab-case`\n",
        "  * 단어와 단어 사이를 하이푼(`-`)을 이용해서 이어줍니다.\n",
        "  * `student-name`\n",
        "\n",
        "**파이썬의 관례상 변수의 이름은  `snake_case`, 클래스의 이름은 `CamelCase`**"
      ],
      "metadata": {
        "id": "-NO4EWVsZbT0"
      }
    },
    {
      "cell_type": "code",
      "source": [
        "student_name = \"minho\""
      ],
      "metadata": {
        "id": "atVP1r3mZkoC"
      },
      "execution_count": null,
      "outputs": []
    },
    {
      "cell_type": "code",
      "source": [
        "class StudentName:\n",
        "  pass"
      ],
      "metadata": {
        "id": "7fNrqJ8RaT8y"
      },
      "execution_count": null,
      "outputs": []
    },
    {
      "cell_type": "code",
      "source": [
        "학생이름 = \"민호\"\n",
        "print(학생이름)"
      ],
      "metadata": {
        "colab": {
          "base_uri": "https://localhost:8080/"
        },
        "id": "wvSk_7G5aWAQ",
        "outputId": "98170302-b515-4476-e756-940b3302c4bb"
      },
      "execution_count": null,
      "outputs": [
        {
          "output_type": "stream",
          "name": "stdout",
          "text": [
            "민호\n"
          ]
        }
      ]
    },
    {
      "cell_type": "markdown",
      "source": [
        "한글은 비추"
      ],
      "metadata": {
        "id": "O4ja5TqXafLM"
      }
    },
    {
      "cell_type": "markdown",
      "source": [
        "# 상수\n",
        "- 변수는 변하는 수.\n",
        "- 변하지 않는 수. 파이썬에는 상수가 없어요...\n",
        "  - 변수에 특별한 효과를 줘서 상수로 사람이 인지하게끔 합니다."
      ],
      "metadata": {
        "id": "5kNxCHDUamsK"
      }
    },
    {
      "cell_type": "code",
      "source": [
        "# 파이썬에서는 상수가 없지만, 관례적으로 상수처럼 생각하게 하기\n",
        "_jumin_number = \"880129-1xxxxxx\"\n",
        "JUMIN_NUMBER = \"880129-1xxxxxx\""
      ],
      "metadata": {
        "id": "l_nk7Fj_bBQK"
      },
      "execution_count": null,
      "outputs": []
    },
    {
      "cell_type": "code",
      "source": [],
      "metadata": {
        "id": "zwqIJAAfbnYo"
      },
      "execution_count": null,
      "outputs": []
    }
  ]
}
{
  "nbformat": 4,
  "nbformat_minor": 0,
  "metadata": {
    "colab": {
      "provenance": [],
      "include_colab_link": true
    },
    "kernelspec": {
      "name": "python3",
      "display_name": "Python 3"
    },
    "language_info": {
      "name": "python"
    }
  },
  "cells": [
    {
      "cell_type": "markdown",
      "metadata": {
        "id": "view-in-github",
        "colab_type": "text"
      },
      "source": [
        "<a href=\"https://colab.research.google.com/github/Knell999/ML_Ops_HK-Toss/blob/main/Chapter_1_%EA%B8%B0%EC%B4%88/01_%ED%8C%8C%EC%9D%B4%EC%8D%AC/04_%EC%BB%AC%EB%A0%89%EC%85%98_%EB%8D%B0%EC%9D%B4%ED%84%B0_%ED%83%80%EC%9E%85.ipynb\" target=\"_parent\"><img src=\"https://colab.research.google.com/assets/colab-badge.svg\" alt=\"Open In Colab\"/></a>"
      ]
    },
    {
      "cell_type": "markdown",
      "source": [
        "# 컬렉션\n",
        "* 무엇인가를 모은것!\n",
        "* 파이썬의 컬렉션은 **파이썬에 존재하는 모든 것을** 모을 수 있다.\n",
        "  * 문법적인 요소들 빼고는 모두 다 모을 수 있다.\n",
        "  * 데이터, 변수, 함수, 클래스, 오브젝트\n",
        "* 어떠한 데이터를 모아낸 **구조**\n",
        "  * **자료구조**\n",
        "\n"
      ],
      "metadata": {
        "id": "Q2KDQlWQmC72"
      }
    },
    {
      "cell_type": "markdown",
      "source": [
        "# 컬렉션의 종류\n",
        "* `list`\n",
        "  * `Sequence` 자료형\n",
        "  * `Mutable` 자료형\n",
        "    * 추가된 데이터가 바뀔 수 있다.\n",
        "  * 중복 데이터 저장이 가능하다.\n",
        "  * `[]` 또는  `list()` 를 이용해서 만들 수 있다.\n",
        "* `tuple`\n",
        "  * `Sequence` 자료형\n",
        "  * `Immutable` 자료형\n",
        "    * 추가된 데이터가 바뀔 수 없다.\n",
        "    * `str` 형식의 데이터도 `Immutable`\n",
        "  * 중복 데이터 저장이 가능하다.\n",
        "  * `()`를 활용해서 만든다.\n",
        "* `set`\n",
        "  * `Non-Sequence` 자료형\n",
        "    * 데이터 저장의 순서를 보장하지 않는다.\n",
        "  * 중복 데이터의 저장도 허용하지 않는다.\n",
        "  * **집합**의 개념\n",
        "* **`dict`**\n",
        "  * `Non-Sequence` 자료형\n",
        "  * `Key-Value` 구조 자료형\n",
        "* generator"
      ],
      "metadata": {
        "id": "WEdDfySFmV1o"
      }
    },
    {
      "cell_type": "markdown",
      "source": [
        "# list"
      ],
      "metadata": {
        "id": "2AhZNz7PnSMk"
      }
    },
    {
      "cell_type": "code",
      "source": [
        "list1 = [1, 2, 3, \"four\", [6, 7], 7.0, True]\n",
        "list1"
      ],
      "metadata": {
        "colab": {
          "base_uri": "https://localhost:8080/"
        },
        "id": "l_SjDTajvZ2k",
        "outputId": "cf118ef4-cb3e-4195-9cc3-dc6b1186d73d"
      },
      "execution_count": null,
      "outputs": [
        {
          "output_type": "execute_result",
          "data": {
            "text/plain": [
              "[1, 2, 3, 'four', [6, 7], 7.0, True]"
            ]
          },
          "metadata": {},
          "execution_count": 1
        }
      ]
    },
    {
      "cell_type": "code",
      "source": [
        "len(list1)"
      ],
      "metadata": {
        "colab": {
          "base_uri": "https://localhost:8080/"
        },
        "id": "b2gopSGyv2Jn",
        "outputId": "90c759ac-bfc4-43f3-8a36-a9d146fa0ddb"
      },
      "execution_count": null,
      "outputs": [
        {
          "output_type": "execute_result",
          "data": {
            "text/plain": [
              "7"
            ]
          },
          "metadata": {},
          "execution_count": 2
        }
      ]
    },
    {
      "cell_type": "code",
      "source": [
        "print(list1[3])\n",
        "print(list1[2])\n",
        "print(list1[4])"
      ],
      "metadata": {
        "colab": {
          "base_uri": "https://localhost:8080/"
        },
        "id": "Lv86fGN3wKHq",
        "outputId": "bf0b8e3e-271b-4bde-caf1-3e3f7b8a2a9a"
      },
      "execution_count": null,
      "outputs": [
        {
          "output_type": "stream",
          "name": "stdout",
          "text": [
            "four\n",
            "3\n",
            "[6, 7]\n"
          ]
        }
      ]
    },
    {
      "cell_type": "code",
      "source": [
        "print(list1[4][1])"
      ],
      "metadata": {
        "colab": {
          "base_uri": "https://localhost:8080/"
        },
        "id": "P3XPQInlwlrk",
        "outputId": "18eb931f-568d-407e-aa0a-70a9b7267068"
      },
      "execution_count": null,
      "outputs": [
        {
          "output_type": "stream",
          "name": "stdout",
          "text": [
            "7\n"
          ]
        }
      ]
    },
    {
      "cell_type": "code",
      "source": [
        "BTS = [\"정국\", \"슈가\", \"뷔\", \"랩몬스터\", \"지민\", \"제이홉\", \"진\"]\n",
        "\n",
        "# 문제 1 => \"랩몬스터\"에서 \"몬스터\"만 추출\n",
        "print(BTS[3][1:])\n",
        "\n",
        "# 문제 2 => [진, 지민, 뷔, 정국]만 추출\n",
        "print(BTS[::-2])"
      ],
      "metadata": {
        "colab": {
          "base_uri": "https://localhost:8080/"
        },
        "id": "WTLa8qTMwyg-",
        "outputId": "9407fd1e-a948-48cb-ada5-9dbddceeaefd"
      },
      "execution_count": null,
      "outputs": [
        {
          "output_type": "stream",
          "name": "stdout",
          "text": [
            "몬스터\n",
            "['진', '지민', '뷔', '정국']\n"
          ]
        }
      ]
    },
    {
      "cell_type": "markdown",
      "source": [
        "## list의 기능\n",
        "* `append()` ★★★★★\n",
        "  - 리스트의 제일 뒤에 값을 추가한다.\n",
        "* `sort()` ★★★\n",
        "  - 기본적으로 오름차순 정렬\n",
        "  - `reverse=True` 설정하면 내림차순 정렬\n",
        "* `pop()`\n",
        "  - 제일 뒤에 있는 데이터를 **꺼내고** 삭제"
      ],
      "metadata": {
        "id": "5Py2LfrKybfh"
      }
    },
    {
      "cell_type": "code",
      "source": [
        "list2 = [1, 2]\n",
        "list2.append(3)"
      ],
      "metadata": {
        "id": "B0PZmyfqyrUR"
      },
      "execution_count": null,
      "outputs": []
    },
    {
      "cell_type": "code",
      "source": [
        "list2[:2]"
      ],
      "metadata": {
        "colab": {
          "base_uri": "https://localhost:8080/"
        },
        "id": "GHLgJqPpy8DS",
        "outputId": "a8fda278-5488-4333-c200-ba9db068bc0c"
      },
      "execution_count": null,
      "outputs": [
        {
          "output_type": "execute_result",
          "data": {
            "text/plain": [
              "[1, 2]"
            ]
          },
          "metadata": {},
          "execution_count": 7
        }
      ]
    },
    {
      "cell_type": "code",
      "source": [
        "list2"
      ],
      "metadata": {
        "colab": {
          "base_uri": "https://localhost:8080/"
        },
        "id": "k3KI4uo7zmGF",
        "outputId": "f2258fba-6f05-461c-a6bd-fff6bcc4b3a9"
      },
      "execution_count": null,
      "outputs": [
        {
          "output_type": "execute_result",
          "data": {
            "text/plain": [
              "[1, 2, 3]"
            ]
          },
          "metadata": {},
          "execution_count": 8
        }
      ]
    },
    {
      "cell_type": "code",
      "source": [
        "print(list2.append(4))"
      ],
      "metadata": {
        "colab": {
          "base_uri": "https://localhost:8080/"
        },
        "id": "JQhl7HkXz2HE",
        "outputId": "c35dcde3-c787-466d-b5e0-9937f67170fd"
      },
      "execution_count": null,
      "outputs": [
        {
          "output_type": "stream",
          "name": "stdout",
          "text": [
            "None\n"
          ]
        }
      ]
    },
    {
      "cell_type": "code",
      "source": [
        "list2"
      ],
      "metadata": {
        "colab": {
          "base_uri": "https://localhost:8080/"
        },
        "id": "-SaJ5lrD0DPG",
        "outputId": "a295642e-6ea3-437d-cabd-0d6cdd39f332"
      },
      "execution_count": null,
      "outputs": [
        {
          "output_type": "execute_result",
          "data": {
            "text/plain": [
              "[1, 2, 3, 4]"
            ]
          },
          "metadata": {},
          "execution_count": 10
        }
      ]
    },
    {
      "cell_type": "code",
      "source": [
        "list2.append(\"hello\")\n",
        "list2.append(3.141592)\n",
        "list2"
      ],
      "metadata": {
        "colab": {
          "base_uri": "https://localhost:8080/"
        },
        "id": "9vSjaZee0VYs",
        "outputId": "cb3d9205-ebca-465c-e5e6-92eafccb4138"
      },
      "execution_count": null,
      "outputs": [
        {
          "output_type": "execute_result",
          "data": {
            "text/plain": [
              "[1, 2, 3, 4, 'hello', 3.141592]"
            ]
          },
          "metadata": {},
          "execution_count": 11
        }
      ]
    },
    {
      "cell_type": "code",
      "source": [
        "list3 = [5, 1, 4, 7, 2, 3, 6]\n",
        "list3"
      ],
      "metadata": {
        "colab": {
          "base_uri": "https://localhost:8080/"
        },
        "id": "aK9gJHEt0egA",
        "outputId": "c78fcea1-6cea-469f-854b-d0149417ddcf"
      },
      "execution_count": null,
      "outputs": [
        {
          "output_type": "execute_result",
          "data": {
            "text/plain": [
              "[5, 1, 4, 7, 2, 3, 6]"
            ]
          },
          "metadata": {},
          "execution_count": 12
        }
      ]
    },
    {
      "cell_type": "code",
      "source": [
        "list3.sort()"
      ],
      "metadata": {
        "id": "vxXwoHIr0rtA"
      },
      "execution_count": null,
      "outputs": []
    },
    {
      "cell_type": "code",
      "source": [
        "list3"
      ],
      "metadata": {
        "colab": {
          "base_uri": "https://localhost:8080/"
        },
        "id": "63ECC6I-04CN",
        "outputId": "ef06bfd3-8973-4f05-b80c-dcd424724327"
      },
      "execution_count": null,
      "outputs": [
        {
          "output_type": "execute_result",
          "data": {
            "text/plain": [
              "[1, 2, 3, 4, 5, 6, 7]"
            ]
          },
          "metadata": {},
          "execution_count": 14
        }
      ]
    },
    {
      "cell_type": "code",
      "source": [
        "list3.sort(reverse=True)\n",
        "list3"
      ],
      "metadata": {
        "colab": {
          "base_uri": "https://localhost:8080/"
        },
        "id": "Muw9QoK70_QZ",
        "outputId": "355c8268-cda2-4786-ebbe-dcf4703c2339"
      },
      "execution_count": null,
      "outputs": [
        {
          "output_type": "execute_result",
          "data": {
            "text/plain": [
              "[7, 6, 5, 4, 3, 2, 1]"
            ]
          },
          "metadata": {},
          "execution_count": 15
        }
      ]
    },
    {
      "cell_type": "code",
      "source": [
        "list4 = [\"banana\", 'apple', 'avocado', 'cherry', 'mango']\n",
        "list4"
      ],
      "metadata": {
        "colab": {
          "base_uri": "https://localhost:8080/"
        },
        "id": "5RwtKQIc1rli",
        "outputId": "c96cb1a1-fc1f-4656-9057-8569025ad7ed"
      },
      "execution_count": null,
      "outputs": [
        {
          "output_type": "execute_result",
          "data": {
            "text/plain": [
              "['banana', 'apple', 'avocado', 'cherry', 'mango']"
            ]
          },
          "metadata": {},
          "execution_count": 16
        }
      ]
    },
    {
      "cell_type": "code",
      "source": [
        "list4.sort()\n",
        "list4"
      ],
      "metadata": {
        "colab": {
          "base_uri": "https://localhost:8080/"
        },
        "id": "3XyydzGE5KsZ",
        "outputId": "df4c1205-be80-4aab-d4d9-618fc83fd2cc"
      },
      "execution_count": null,
      "outputs": [
        {
          "output_type": "execute_result",
          "data": {
            "text/plain": [
              "['apple', 'avocado', 'banana', 'cherry', 'mango']"
            ]
          },
          "metadata": {},
          "execution_count": 17
        }
      ]
    },
    {
      "cell_type": "code",
      "source": [
        "list5 = [\"Apple\", \"apple\", \"Banana\", \"banana\"]\n",
        "list5.sort()\n",
        "list5"
      ],
      "metadata": {
        "colab": {
          "base_uri": "https://localhost:8080/"
        },
        "id": "Hu034YIZ5Ytv",
        "outputId": "6ced1218-556c-44c7-d6ed-6a7f46a3abcd"
      },
      "execution_count": null,
      "outputs": [
        {
          "output_type": "execute_result",
          "data": {
            "text/plain": [
              "['Apple', 'Banana', 'apple', 'banana']"
            ]
          },
          "metadata": {},
          "execution_count": 18
        }
      ]
    },
    {
      "cell_type": "code",
      "source": [
        "list1"
      ],
      "metadata": {
        "colab": {
          "base_uri": "https://localhost:8080/"
        },
        "id": "vdhm5ni05mqG",
        "outputId": "d4218587-4cde-4d6f-d60b-7821301e282c"
      },
      "execution_count": null,
      "outputs": [
        {
          "output_type": "execute_result",
          "data": {
            "text/plain": [
              "[1, 2, 3, 'four', [6, 7], 7.0, True]"
            ]
          },
          "metadata": {},
          "execution_count": 19
        }
      ]
    },
    {
      "cell_type": "code",
      "source": [
        "item = list1.pop() # 제일 뒤에서 아이템을 빼낸 후 삭제\n",
        "print(item, \" / \", list1)"
      ],
      "metadata": {
        "colab": {
          "base_uri": "https://localhost:8080/",
          "height": 163
        },
        "id": "Og5NZWkM5zMo",
        "outputId": "c9ed1229-1d32-43f7-842b-d927a00662cd"
      },
      "execution_count": null,
      "outputs": [
        {
          "output_type": "error",
          "ename": "IndexError",
          "evalue": "pop from empty list",
          "traceback": [
            "\u001b[0;31m---------------------------------------------------------------------------\u001b[0m",
            "\u001b[0;31mIndexError\u001b[0m                                Traceback (most recent call last)",
            "\u001b[0;32m<ipython-input-27-19c4b22ded66>\u001b[0m in \u001b[0;36m<cell line: 1>\u001b[0;34m()\u001b[0m\n\u001b[0;32m----> 1\u001b[0;31m \u001b[0mitem\u001b[0m \u001b[0;34m=\u001b[0m \u001b[0mlist1\u001b[0m\u001b[0;34m.\u001b[0m\u001b[0mpop\u001b[0m\u001b[0;34m(\u001b[0m\u001b[0;34m)\u001b[0m \u001b[0;31m# 제일 뒤에서 아이템을 빼낸 후 삭제\u001b[0m\u001b[0;34m\u001b[0m\u001b[0;34m\u001b[0m\u001b[0m\n\u001b[0m\u001b[1;32m      2\u001b[0m \u001b[0mprint\u001b[0m\u001b[0;34m(\u001b[0m\u001b[0mitem\u001b[0m\u001b[0;34m,\u001b[0m \u001b[0;34m\" / \"\u001b[0m\u001b[0;34m,\u001b[0m \u001b[0mlist1\u001b[0m\u001b[0;34m)\u001b[0m\u001b[0;34m\u001b[0m\u001b[0;34m\u001b[0m\u001b[0m\n",
            "\u001b[0;31mIndexError\u001b[0m: pop from empty list"
          ]
        }
      ]
    },
    {
      "cell_type": "code",
      "source": [
        "pokemon1 = ['피카츄', '라이츄']\n",
        "pokemon2 = ['꼬부기', '파이리']\n",
        "\n",
        "# 추가(append)\n",
        "pokemon1.append(pokemon2)\n",
        "pokemon1"
      ],
      "metadata": {
        "colab": {
          "base_uri": "https://localhost:8080/"
        },
        "id": "OZZg-Gy46dqY",
        "outputId": "1cf9b5a3-c00f-4388-c016-e23bbb0e7bad"
      },
      "execution_count": null,
      "outputs": [
        {
          "output_type": "execute_result",
          "data": {
            "text/plain": [
              "['피카츄', '라이츄', ['꼬부기', '파이리']]"
            ]
          },
          "metadata": {},
          "execution_count": 28
        }
      ]
    },
    {
      "cell_type": "code",
      "source": [
        "pokemon1 = ['피카츄', '라이츄']\n",
        "pokemon2 = ['꼬부기', '파이리']\n",
        "\n",
        "# 병합(extend)\n",
        "pokemon1.extend(pokemon2)"
      ],
      "metadata": {
        "id": "TRI0MSgV6-Ov"
      },
      "execution_count": null,
      "outputs": []
    },
    {
      "cell_type": "code",
      "source": [
        "pokemon1"
      ],
      "metadata": {
        "colab": {
          "base_uri": "https://localhost:8080/"
        },
        "id": "sX0HwnoC7KMq",
        "outputId": "57caf178-6575-4b54-cd8f-84022bfbd8e4"
      },
      "execution_count": null,
      "outputs": [
        {
          "output_type": "execute_result",
          "data": {
            "text/plain": [
              "['피카츄', '라이츄', '꼬부기', '파이리']"
            ]
          },
          "metadata": {},
          "execution_count": 30
        }
      ]
    },
    {
      "cell_type": "code",
      "source": [
        "pokemon1 = ['피카츄', '라이츄']\n",
        "pokemon2 = ['꼬부기', '파이리']\n",
        "\n",
        "pokemon1 + pokemon2"
      ],
      "metadata": {
        "colab": {
          "base_uri": "https://localhost:8080/"
        },
        "id": "IuRNOUGO7LJD",
        "outputId": "ecfbf586-7540-4210-8f21-ce6a7b3e4366"
      },
      "execution_count": null,
      "outputs": [
        {
          "output_type": "execute_result",
          "data": {
            "text/plain": [
              "['피카츄', '라이츄', '꼬부기', '파이리']"
            ]
          },
          "metadata": {},
          "execution_count": 31
        }
      ]
    },
    {
      "cell_type": "markdown",
      "source": [
        "# tuple\n",
        "- 리스트와 매우 흡사하지만 변경(추가, 삭제, 수정)이 불가\n",
        "- 튜플은 리스트보다 같은 데이터를 가졌을 때 공간을 적게 사용"
      ],
      "metadata": {
        "id": "vTCd5gf_7Z0T"
      }
    },
    {
      "cell_type": "code",
      "source": [
        "# 리스트는 아이템의 수정이 가능하다.\n",
        "lst = [1, 2, 3]\n",
        "lst[1] = \"hahahahaa\"\n",
        "lst"
      ],
      "metadata": {
        "colab": {
          "base_uri": "https://localhost:8080/"
        },
        "id": "zCqOvD_38FWI",
        "outputId": "1cfc5610-3a79-436c-eac7-8d30fb9937ac"
      },
      "execution_count": null,
      "outputs": [
        {
          "output_type": "execute_result",
          "data": {
            "text/plain": [
              "[1, 'hahahahaa', 3]"
            ]
          },
          "metadata": {},
          "execution_count": 32
        }
      ]
    },
    {
      "cell_type": "code",
      "source": [
        "# 튜플은 아이템 수정이 불가능하다.\n",
        "tup = (1, 2, 3)\n",
        "tup"
      ],
      "metadata": {
        "colab": {
          "base_uri": "https://localhost:8080/"
        },
        "id": "5CYxUlyL8PDA",
        "outputId": "9a77d741-282a-4584-cc1f-db475c2a1c15"
      },
      "execution_count": null,
      "outputs": [
        {
          "output_type": "execute_result",
          "data": {
            "text/plain": [
              "(1, 2, 3)"
            ]
          },
          "metadata": {},
          "execution_count": 33
        }
      ]
    },
    {
      "cell_type": "code",
      "source": [
        "tup[1] = \"hahahaha\""
      ],
      "metadata": {
        "colab": {
          "base_uri": "https://localhost:8080/",
          "height": 145
        },
        "id": "K6fi3OhI8epA",
        "outputId": "cfb2434c-3269-4c69-d889-0cdbe476f221"
      },
      "execution_count": null,
      "outputs": [
        {
          "output_type": "error",
          "ename": "TypeError",
          "evalue": "'tuple' object does not support item assignment",
          "traceback": [
            "\u001b[0;31m---------------------------------------------------------------------------\u001b[0m",
            "\u001b[0;31mTypeError\u001b[0m                                 Traceback (most recent call last)",
            "\u001b[0;32m<ipython-input-34-868a3de9baf0>\u001b[0m in \u001b[0;36m<cell line: 1>\u001b[0;34m()\u001b[0m\n\u001b[0;32m----> 1\u001b[0;31m \u001b[0mtup\u001b[0m\u001b[0;34m[\u001b[0m\u001b[0;36m1\u001b[0m\u001b[0;34m]\u001b[0m \u001b[0;34m=\u001b[0m \u001b[0;34m\"hahahaha\"\u001b[0m\u001b[0;34m\u001b[0m\u001b[0;34m\u001b[0m\u001b[0m\n\u001b[0m",
            "\u001b[0;31mTypeError\u001b[0m: 'tuple' object does not support item assignment"
          ]
        }
      ]
    },
    {
      "cell_type": "code",
      "source": [
        "tup[1]"
      ],
      "metadata": {
        "colab": {
          "base_uri": "https://localhost:8080/"
        },
        "id": "7WYhm42t8jFm",
        "outputId": "2ae1c468-8201-412a-a285-94e71e2f02ca"
      },
      "execution_count": null,
      "outputs": [
        {
          "output_type": "execute_result",
          "data": {
            "text/plain": [
              "2"
            ]
          },
          "metadata": {},
          "execution_count": 35
        }
      ]
    },
    {
      "cell_type": "code",
      "source": [
        "tup[:2]"
      ],
      "metadata": {
        "colab": {
          "base_uri": "https://localhost:8080/"
        },
        "id": "Rb6V6rqV8yL_",
        "outputId": "acc15aea-fa4c-4549-8602-8c70ebfb5a5f"
      },
      "execution_count": null,
      "outputs": [
        {
          "output_type": "execute_result",
          "data": {
            "text/plain": [
              "(1, 2)"
            ]
          },
          "metadata": {},
          "execution_count": 36
        }
      ]
    },
    {
      "cell_type": "code",
      "source": [
        "tup[::-1]"
      ],
      "metadata": {
        "colab": {
          "base_uri": "https://localhost:8080/"
        },
        "id": "lOXrAgqf80AK",
        "outputId": "2ca98beb-588c-4854-b55a-45ad0bd64ae1"
      },
      "execution_count": null,
      "outputs": [
        {
          "output_type": "execute_result",
          "data": {
            "text/plain": [
              "(3, 2, 1)"
            ]
          },
          "metadata": {},
          "execution_count": 37
        }
      ]
    },
    {
      "cell_type": "code",
      "source": [
        "# str도 Immutable\n",
        "text = \"abcd\"\n",
        "text[1] = \"f\""
      ],
      "metadata": {
        "colab": {
          "base_uri": "https://localhost:8080/",
          "height": 181
        },
        "id": "6DLxFyqv80_P",
        "outputId": "2b45f695-d90e-4318-8782-a66d6d6d90d5"
      },
      "execution_count": null,
      "outputs": [
        {
          "output_type": "error",
          "ename": "TypeError",
          "evalue": "'str' object does not support item assignment",
          "traceback": [
            "\u001b[0;31m---------------------------------------------------------------------------\u001b[0m",
            "\u001b[0;31mTypeError\u001b[0m                                 Traceback (most recent call last)",
            "\u001b[0;32m<ipython-input-38-fcb0819540f1>\u001b[0m in \u001b[0;36m<cell line: 3>\u001b[0;34m()\u001b[0m\n\u001b[1;32m      1\u001b[0m \u001b[0;31m# str도 Immutable\u001b[0m\u001b[0;34m\u001b[0m\u001b[0;34m\u001b[0m\u001b[0m\n\u001b[1;32m      2\u001b[0m \u001b[0mtext\u001b[0m \u001b[0;34m=\u001b[0m \u001b[0;34m\"abcd\"\u001b[0m\u001b[0;34m\u001b[0m\u001b[0;34m\u001b[0m\u001b[0m\n\u001b[0;32m----> 3\u001b[0;31m \u001b[0mtext\u001b[0m\u001b[0;34m[\u001b[0m\u001b[0;36m1\u001b[0m\u001b[0;34m]\u001b[0m \u001b[0;34m=\u001b[0m \u001b[0;34m\"f\"\u001b[0m\u001b[0;34m\u001b[0m\u001b[0;34m\u001b[0m\u001b[0m\n\u001b[0m",
            "\u001b[0;31mTypeError\u001b[0m: 'str' object does not support item assignment"
          ]
        }
      ]
    },
    {
      "cell_type": "markdown",
      "source": [
        "`\"abcd\"` -> `\"abfcd\"`"
      ],
      "metadata": {
        "id": "hAkMp8VQ9IUN"
      }
    },
    {
      "cell_type": "code",
      "source": [
        "text = \"abcd\"\n",
        "text[:2] + \"f\" + text[2:]"
      ],
      "metadata": {
        "colab": {
          "base_uri": "https://localhost:8080/",
          "height": 36
        },
        "id": "AVdAZQUZ9VQ_",
        "outputId": "2b69ba75-7c42-4bd7-dbea-813760e99458"
      },
      "execution_count": null,
      "outputs": [
        {
          "output_type": "execute_result",
          "data": {
            "text/plain": [
              "'abfcd'"
            ],
            "application/vnd.google.colaboratory.intrinsic+json": {
              "type": "string"
            }
          },
          "metadata": {},
          "execution_count": 39
        }
      ]
    },
    {
      "cell_type": "code",
      "source": [
        "# 리스트와 튜플의 저장공간 비교\n",
        "#   공부하지 마시고 그냥 참고만 하세요\n",
        "import sys\n",
        "lst = [1, 2, 3]\n",
        "tup = 1, 2, 3 # 소괄호 생략이 가능\n",
        "\n",
        "print(sys.getsizeof(lst))\n",
        "print(sys.getsizeof(tup))"
      ],
      "metadata": {
        "colab": {
          "base_uri": "https://localhost:8080/"
        },
        "id": "VvilaOAQ-LKO",
        "outputId": "d128001d-b3a9-4ec0-adc3-41af4a4aec06"
      },
      "execution_count": null,
      "outputs": [
        {
          "output_type": "stream",
          "name": "stdout",
          "text": [
            "88\n",
            "64\n"
          ]
        }
      ]
    },
    {
      "cell_type": "markdown",
      "source": [
        "## 패킹(Packing), 언패킹(UnPacking) ★★★★★\n",
        "- 패킹 : 데이터를 모아내는 작업\n",
        "- 언패킹 : 모아낸 데이터를 풀어 놓는 작업"
      ],
      "metadata": {
        "id": "q-9DhyHu-doU"
      }
    },
    {
      "cell_type": "code",
      "source": [
        "# 패킹\n",
        "tup = (1, \"two\", 3)\n",
        "\n",
        "# 언패킹\n",
        "item1, item2, item3 = tup\n",
        "\n",
        "print(item1)\n",
        "print(item2)\n",
        "print(item3)"
      ],
      "metadata": {
        "colab": {
          "base_uri": "https://localhost:8080/"
        },
        "id": "8AQpaAne-owP",
        "outputId": "d6252ff7-ff63-4672-d204-17f3eb56f4d3"
      },
      "execution_count": null,
      "outputs": [
        {
          "output_type": "stream",
          "name": "stdout",
          "text": [
            "1\n",
            "two\n",
            "3\n"
          ]
        }
      ]
    },
    {
      "cell_type": "code",
      "source": [
        "item1, item2 = tup"
      ],
      "metadata": {
        "colab": {
          "base_uri": "https://localhost:8080/",
          "height": 145
        },
        "id": "Ki6ft8yN_PdL",
        "outputId": "6c02676e-45ea-4e23-96f4-2b1b864cd0d0"
      },
      "execution_count": null,
      "outputs": [
        {
          "output_type": "error",
          "ename": "ValueError",
          "evalue": "too many values to unpack (expected 2)",
          "traceback": [
            "\u001b[0;31m---------------------------------------------------------------------------\u001b[0m",
            "\u001b[0;31mValueError\u001b[0m                                Traceback (most recent call last)",
            "\u001b[0;32m<ipython-input-43-ae8ca12455ca>\u001b[0m in \u001b[0;36m<cell line: 1>\u001b[0;34m()\u001b[0m\n\u001b[0;32m----> 1\u001b[0;31m \u001b[0mitem1\u001b[0m\u001b[0;34m,\u001b[0m \u001b[0mitem2\u001b[0m \u001b[0;34m=\u001b[0m \u001b[0mtup\u001b[0m\u001b[0;34m\u001b[0m\u001b[0;34m\u001b[0m\u001b[0m\n\u001b[0m",
            "\u001b[0;31mValueError\u001b[0m: too many values to unpack (expected 2)"
          ]
        }
      ]
    },
    {
      "cell_type": "code",
      "source": [
        "item1, item2, item3, item4 = tup"
      ],
      "metadata": {
        "colab": {
          "base_uri": "https://localhost:8080/",
          "height": 145
        },
        "id": "wYFH8KHZ_eZH",
        "outputId": "ecc6ab81-8d74-4ac5-91b6-fa1b639055cb"
      },
      "execution_count": null,
      "outputs": [
        {
          "output_type": "error",
          "ename": "ValueError",
          "evalue": "not enough values to unpack (expected 4, got 3)",
          "traceback": [
            "\u001b[0;31m---------------------------------------------------------------------------\u001b[0m",
            "\u001b[0;31mValueError\u001b[0m                                Traceback (most recent call last)",
            "\u001b[0;32m<ipython-input-44-b6d3dd6826f4>\u001b[0m in \u001b[0;36m<cell line: 1>\u001b[0;34m()\u001b[0m\n\u001b[0;32m----> 1\u001b[0;31m \u001b[0mitem1\u001b[0m\u001b[0;34m,\u001b[0m \u001b[0mitem2\u001b[0m\u001b[0;34m,\u001b[0m \u001b[0mitem3\u001b[0m\u001b[0;34m,\u001b[0m \u001b[0mitem4\u001b[0m \u001b[0;34m=\u001b[0m \u001b[0mtup\u001b[0m\u001b[0;34m\u001b[0m\u001b[0;34m\u001b[0m\u001b[0m\n\u001b[0m",
            "\u001b[0;31mValueError\u001b[0m: not enough values to unpack (expected 4, got 3)"
          ]
        }
      ]
    },
    {
      "cell_type": "code",
      "source": [
        "tup = ('one', 2, 'three')\n",
        "\n",
        "item1 = tup[0]\n",
        "item2 = tup[2]"
      ],
      "metadata": {
        "id": "AHgABjeA_kuZ"
      },
      "execution_count": null,
      "outputs": []
    },
    {
      "cell_type": "code",
      "source": [
        "# 관례 상 필요 없는 패킹 데이터는 언더바(_)를 변수명으로 사용한다.\n",
        "#  _로 이름이 지어진 변수는 사용하지 않을 변수\n",
        "item1, _, item2 = tup"
      ],
      "metadata": {
        "id": "QjPsXHWPAA1r"
      },
      "execution_count": null,
      "outputs": []
    },
    {
      "cell_type": "code",
      "source": [
        "_"
      ],
      "metadata": {
        "colab": {
          "base_uri": "https://localhost:8080/"
        },
        "id": "FyGUCXFgAUgR",
        "outputId": "95c70e96-39f4-4851-b822-f57b0d31542c"
      },
      "execution_count": null,
      "outputs": [
        {
          "output_type": "execute_result",
          "data": {
            "text/plain": [
              "2"
            ]
          },
          "metadata": {},
          "execution_count": 47
        }
      ]
    },
    {
      "cell_type": "code",
      "source": [
        "# 1, 3만 언패킹\n",
        "tup = ( 1, 2, 3, 4 )\n",
        "\n",
        "item1, _, item2, _ = tup"
      ],
      "metadata": {
        "id": "xtnbmkaqAXhj"
      },
      "execution_count": null,
      "outputs": []
    },
    {
      "cell_type": "markdown",
      "source": [
        "# Set(집합)"
      ],
      "metadata": {
        "id": "iXzgwzj5A7DS"
      }
    },
    {
      "cell_type": "code",
      "source": [
        "set1 = {1,1,1,2,2,2,3,3,3,4,4,4,5,5,5} # set\n",
        "lst1 = [1,1,1,2,2,2,3,3,3,4,4,4,5,5,5] # list\n",
        "\n",
        "print(set1)\n",
        "print(lst1)"
      ],
      "metadata": {
        "colab": {
          "base_uri": "https://localhost:8080/"
        },
        "id": "r5WAfWAxUqXg",
        "outputId": "e45ef0d2-b11d-417e-b5ef-eee54736a342"
      },
      "execution_count": null,
      "outputs": [
        {
          "output_type": "stream",
          "name": "stdout",
          "text": [
            "{1, 2, 3, 4, 5}\n",
            "[1, 1, 1, 2, 2, 2, 3, 3, 3, 4, 4, 4, 5, 5, 5]\n"
          ]
        }
      ]
    },
    {
      "cell_type": "code",
      "source": [
        "set2 = {\"banana\", \"apple\", \"mango\", \"cherry\", \"orange\"}\n",
        "lst2 = [\"banana\", \"apple\", \"mango\", \"cherry\", \"orange\"]\n",
        "\n",
        "print(set2)\n",
        "print(lst2)"
      ],
      "metadata": {
        "colab": {
          "base_uri": "https://localhost:8080/"
        },
        "id": "ep1jzpnpU4yu",
        "outputId": "29df8764-d2fb-4387-d0f3-fabb9dd071cd"
      },
      "execution_count": null,
      "outputs": [
        {
          "output_type": "stream",
          "name": "stdout",
          "text": [
            "{'cherry', 'orange', 'banana', 'mango', 'apple'}\n",
            "['banana', 'apple', 'mango', 'cherry', 'orange']\n"
          ]
        }
      ]
    },
    {
      "cell_type": "markdown",
      "source": [
        "## Set의 집합 연산\n",
        "- 교집합 : `intersection`\n",
        "- 합집합 : `union`\n",
        "- 차집합 : `difference`\n",
        "- 부분집합 : `issubset`"
      ],
      "metadata": {
        "id": "sIggjxePVL_5"
      }
    },
    {
      "cell_type": "code",
      "source": [
        "A = {1, 2, 3}\n",
        "B = {2, 3, 4}"
      ],
      "metadata": {
        "id": "nqYA9I04VpYY"
      },
      "execution_count": null,
      "outputs": []
    },
    {
      "cell_type": "code",
      "source": [
        "# 교집합\n",
        "A.intersection(B)"
      ],
      "metadata": {
        "colab": {
          "base_uri": "https://localhost:8080/"
        },
        "id": "hF9xF8TeWFrO",
        "outputId": "769a813d-f158-4d3e-f32e-0c285a788028"
      },
      "execution_count": null,
      "outputs": [
        {
          "output_type": "execute_result",
          "data": {
            "text/plain": [
              "{2, 3}"
            ]
          },
          "metadata": {},
          "execution_count": 52
        }
      ]
    },
    {
      "cell_type": "code",
      "source": [
        "# 합집합\n",
        "A.union(B)"
      ],
      "metadata": {
        "colab": {
          "base_uri": "https://localhost:8080/"
        },
        "id": "rf23iuWaWR5Z",
        "outputId": "b4f22fee-747f-4d40-e834-35f685bf12b9"
      },
      "execution_count": null,
      "outputs": [
        {
          "output_type": "execute_result",
          "data": {
            "text/plain": [
              "{1, 2, 3, 4}"
            ]
          },
          "metadata": {},
          "execution_count": 53
        }
      ]
    },
    {
      "cell_type": "code",
      "source": [
        "# 차집합\n",
        "A.difference(B) # A-B"
      ],
      "metadata": {
        "colab": {
          "base_uri": "https://localhost:8080/"
        },
        "id": "AcIYhhKTWYRc",
        "outputId": "9a0e8265-8f4c-409c-ba17-b79ce61df2a8"
      },
      "execution_count": null,
      "outputs": [
        {
          "output_type": "execute_result",
          "data": {
            "text/plain": [
              "{1}"
            ]
          },
          "metadata": {},
          "execution_count": 54
        }
      ]
    },
    {
      "cell_type": "code",
      "source": [
        "B.difference(A) # B-A"
      ],
      "metadata": {
        "colab": {
          "base_uri": "https://localhost:8080/"
        },
        "id": "Cgk5ggjvWliB",
        "outputId": "18fb64ed-594a-4502-8b09-dc6601f43def"
      },
      "execution_count": null,
      "outputs": [
        {
          "output_type": "execute_result",
          "data": {
            "text/plain": [
              "{4}"
            ]
          },
          "metadata": {},
          "execution_count": 55
        }
      ]
    },
    {
      "cell_type": "code",
      "source": [
        "# 부분집합 - True / False\n",
        "C = {2, 3}"
      ],
      "metadata": {
        "id": "8DOh7YFGWpqx"
      },
      "execution_count": null,
      "outputs": []
    },
    {
      "cell_type": "code",
      "source": [
        "# 집합 C가 A의 부분집합인가?\n",
        "C.issubset(A)"
      ],
      "metadata": {
        "colab": {
          "base_uri": "https://localhost:8080/"
        },
        "id": "SMu2LAW4W1xv",
        "outputId": "d250b599-510f-4e77-fdd7-da2e32c7cad5"
      },
      "execution_count": null,
      "outputs": [
        {
          "output_type": "execute_result",
          "data": {
            "text/plain": [
              "True"
            ]
          },
          "metadata": {},
          "execution_count": 57
        }
      ]
    },
    {
      "cell_type": "code",
      "source": [
        "# 집합 C가 B의 부분집합인가?\n",
        "C.issubset(B)"
      ],
      "metadata": {
        "colab": {
          "base_uri": "https://localhost:8080/"
        },
        "id": "c7L6vKp4W6GS",
        "outputId": "dd0edff3-f955-45c9-98cb-6ae733744b87"
      },
      "execution_count": null,
      "outputs": [
        {
          "output_type": "execute_result",
          "data": {
            "text/plain": [
              "True"
            ]
          },
          "metadata": {},
          "execution_count": 58
        }
      ]
    },
    {
      "cell_type": "code",
      "source": [
        "# 집합 B가 A의 부분집합인가?\n",
        "B.issubset(A)"
      ],
      "metadata": {
        "colab": {
          "base_uri": "https://localhost:8080/"
        },
        "id": "FzEImmKgW84Y",
        "outputId": "1d9cc320-1247-4a4b-fbd3-c3c9fbd91c15"
      },
      "execution_count": null,
      "outputs": [
        {
          "output_type": "execute_result",
          "data": {
            "text/plain": [
              "False"
            ]
          },
          "metadata": {},
          "execution_count": 59
        }
      ]
    },
    {
      "cell_type": "markdown",
      "source": [
        "`set`은 Non-Sequence이기 때문에 인덱스 사용이 불가능!"
      ],
      "metadata": {
        "id": "h5XDyot9XDAH"
      }
    },
    {
      "cell_type": "code",
      "source": [
        "A[0]"
      ],
      "metadata": {
        "colab": {
          "base_uri": "https://localhost:8080/",
          "height": 145
        },
        "id": "d6mGvE3-XQN1",
        "outputId": "bb9d6fa3-bcf3-4aa0-e88e-3d638eeb50be"
      },
      "execution_count": null,
      "outputs": [
        {
          "output_type": "error",
          "ename": "TypeError",
          "evalue": "'set' object is not subscriptable",
          "traceback": [
            "\u001b[0;31m---------------------------------------------------------------------------\u001b[0m",
            "\u001b[0;31mTypeError\u001b[0m                                 Traceback (most recent call last)",
            "\u001b[0;32m<ipython-input-60-782c0e2fe61c>\u001b[0m in \u001b[0;36m<cell line: 1>\u001b[0;34m()\u001b[0m\n\u001b[0;32m----> 1\u001b[0;31m \u001b[0mA\u001b[0m\u001b[0;34m[\u001b[0m\u001b[0;36m0\u001b[0m\u001b[0;34m]\u001b[0m\u001b[0;34m\u001b[0m\u001b[0;34m\u001b[0m\u001b[0m\n\u001b[0m",
            "\u001b[0;31mTypeError\u001b[0m: 'set' object is not subscriptable"
          ]
        }
      ]
    },
    {
      "cell_type": "markdown",
      "source": [
        "# `dict`⭐️⭐️⭐️⭐️⭐️\n",
        "- `{key : value}`\n",
        "  - `{key1 : value1, key2 : value2, key3 : value1}`\n",
        "- `key`의 특징\n",
        "  - `key`는 `set`의 형태로 저장된다.\n",
        "  - 정수와 문자열로만 설정이 가능하다.\n",
        "- `value`의 특징\n",
        "  - `value`는 `list`의 형태로 저장된다.\n",
        "  - 중복 저장 허용\n",
        "  - 파이썬에 존재하는 모든 데이터 타입이 저장 될 수 있다."
      ],
      "metadata": {
        "id": "6zR2eInOXRCr"
      }
    },
    {
      "cell_type": "code",
      "source": [
        "city = {\n",
        "    \"Korea\": \"Seoul\",\n",
        "    \"Japan\": \"Tokyo\",\n",
        "    \"Canada\": \"Ottawa\"\n",
        "}\n",
        "\n",
        "city"
      ],
      "metadata": {
        "colab": {
          "base_uri": "https://localhost:8080/"
        },
        "id": "Nx-kLSrMX32X",
        "outputId": "387421cc-ae49-4d10-c856-d54c353d62fe"
      },
      "execution_count": null,
      "outputs": [
        {
          "output_type": "execute_result",
          "data": {
            "text/plain": [
              "{'Japan': 'Tokyo', 'Korea': 'Seoul', 'Canada': 'Ottawa'}"
            ]
          },
          "metadata": {},
          "execution_count": 64
        }
      ]
    },
    {
      "cell_type": "code",
      "source": [
        "# 딕셔너리에서 데이터를 가져오는 방법\n",
        "city[\"Japan\"]"
      ],
      "metadata": {
        "colab": {
          "base_uri": "https://localhost:8080/",
          "height": 36
        },
        "id": "CDb08asyYvaJ",
        "outputId": "af8f5629-93a2-45f8-b1a6-95d91da8e91a"
      },
      "execution_count": null,
      "outputs": [
        {
          "output_type": "execute_result",
          "data": {
            "text/plain": [
              "'Tokyo'"
            ],
            "application/vnd.google.colaboratory.intrinsic+json": {
              "type": "string"
            }
          },
          "metadata": {},
          "execution_count": 65
        }
      ]
    },
    {
      "cell_type": "code",
      "source": [
        "city[\"Korea\"]"
      ],
      "metadata": {
        "colab": {
          "base_uri": "https://localhost:8080/",
          "height": 36
        },
        "id": "UQRaQNzVZLvY",
        "outputId": "0c0396a0-dcbe-46d5-d0c6-6d7a5a712912"
      },
      "execution_count": null,
      "outputs": [
        {
          "output_type": "execute_result",
          "data": {
            "text/plain": [
              "'Seoul'"
            ],
            "application/vnd.google.colaboratory.intrinsic+json": {
              "type": "string"
            }
          },
          "metadata": {},
          "execution_count": 66
        }
      ]
    },
    {
      "cell_type": "code",
      "source": [
        "# 없는 키를 조회하면 에러!\n",
        "city[\"USA\"]"
      ],
      "metadata": {
        "colab": {
          "base_uri": "https://localhost:8080/",
          "height": 163
        },
        "id": "1u3bOgKOZOIe",
        "outputId": "b7bf9881-2f35-46bb-fdd0-8b8997edec62"
      },
      "execution_count": null,
      "outputs": [
        {
          "output_type": "error",
          "ename": "KeyError",
          "evalue": "'USA'",
          "traceback": [
            "\u001b[0;31m---------------------------------------------------------------------------\u001b[0m",
            "\u001b[0;31mKeyError\u001b[0m                                  Traceback (most recent call last)",
            "\u001b[0;32m<ipython-input-69-5712cd99ff00>\u001b[0m in \u001b[0;36m<cell line: 2>\u001b[0;34m()\u001b[0m\n\u001b[1;32m      1\u001b[0m \u001b[0;31m# 없는 키를 조회하면 에러!\u001b[0m\u001b[0;34m\u001b[0m\u001b[0;34m\u001b[0m\u001b[0m\n\u001b[0;32m----> 2\u001b[0;31m \u001b[0mcity\u001b[0m\u001b[0;34m[\u001b[0m\u001b[0;34m\"USA\"\u001b[0m\u001b[0;34m]\u001b[0m\u001b[0;34m\u001b[0m\u001b[0;34m\u001b[0m\u001b[0m\n\u001b[0m",
            "\u001b[0;31mKeyError\u001b[0m: 'USA'"
          ]
        }
      ]
    },
    {
      "cell_type": "code",
      "source": [
        "# 없는 키를 조회한 경우 대체 값을 지정\n",
        "city.get(\"USA\", \"없음!\")"
      ],
      "metadata": {
        "colab": {
          "base_uri": "https://localhost:8080/",
          "height": 36
        },
        "id": "8Y-nrDMTZe27",
        "outputId": "4a672226-f046-4fcf-d936-90e1dfa35ede"
      },
      "execution_count": null,
      "outputs": [
        {
          "output_type": "execute_result",
          "data": {
            "text/plain": [
              "'없음!'"
            ],
            "application/vnd.google.colaboratory.intrinsic+json": {
              "type": "string"
            }
          },
          "metadata": {},
          "execution_count": 70
        }
      ]
    },
    {
      "cell_type": "markdown",
      "source": [
        "## `dict`에 데이터를 추가, 변경\n",
        "- 추가와 변경의 문법이 똑같다.\n",
        "- 키가 없으면 추가, 있으면 수정"
      ],
      "metadata": {
        "id": "NyuJppPqZp8N"
      }
    },
    {
      "cell_type": "code",
      "source": [
        "city[\"China\"] = \"Beijing\"\n",
        "city"
      ],
      "metadata": {
        "colab": {
          "base_uri": "https://localhost:8080/"
        },
        "id": "MdnY6WUoZ3EO",
        "outputId": "4f04ca45-618b-4ac2-a387-7f306e55f57e"
      },
      "execution_count": null,
      "outputs": [
        {
          "output_type": "execute_result",
          "data": {
            "text/plain": [
              "{'Japan': 'Tokyo', 'Korea': 'Seoul', 'Canada': 'Ottawa', 'China': 'Beijing'}"
            ]
          },
          "metadata": {},
          "execution_count": 71
        }
      ]
    },
    {
      "cell_type": "code",
      "source": [
        "city[\"Japan\"] = \"Kyoto\"\n",
        "city"
      ],
      "metadata": {
        "colab": {
          "base_uri": "https://localhost:8080/"
        },
        "id": "-Ni2oR41aCfo",
        "outputId": "b733e3c3-8e6d-46a3-e70b-0aa65cbddcce"
      },
      "execution_count": null,
      "outputs": [
        {
          "output_type": "execute_result",
          "data": {
            "text/plain": [
              "{'Japan': 'Kyoto', 'Korea': 'Seoul', 'Canada': 'Ottawa', 'China': 'Beijing'}"
            ]
          },
          "metadata": {},
          "execution_count": 72
        }
      ]
    },
    {
      "cell_type": "markdown",
      "source": [
        "## `dict`의 원소 삭제\n",
        "- `del` 키워드 활용"
      ],
      "metadata": {
        "id": "as1vgJjAaLxw"
      }
    },
    {
      "cell_type": "code",
      "source": [
        "del city[\"Japan\"]\n",
        "city"
      ],
      "metadata": {
        "colab": {
          "base_uri": "https://localhost:8080/"
        },
        "id": "QjXaWQZcaYLJ",
        "outputId": "1c8e75f4-3621-4bde-f204-c1e6d175594b"
      },
      "execution_count": null,
      "outputs": [
        {
          "output_type": "execute_result",
          "data": {
            "text/plain": [
              "{'Korea': 'Seoul', 'Canada': 'Ottawa', 'China': 'Beijing'}"
            ]
          },
          "metadata": {},
          "execution_count": 73
        }
      ]
    },
    {
      "cell_type": "markdown",
      "source": [
        "## `dict`의 key, value를 확인"
      ],
      "metadata": {
        "id": "qAaaRylaabQf"
      }
    },
    {
      "cell_type": "code",
      "source": [
        "# keys() : 딕셔너리의 전체 키를 확인\n",
        "city.keys()"
      ],
      "metadata": {
        "colab": {
          "base_uri": "https://localhost:8080/"
        },
        "id": "7gSSc5G5alIW",
        "outputId": "730e0143-9080-4940-9afc-a5fe7fce546a"
      },
      "execution_count": null,
      "outputs": [
        {
          "output_type": "execute_result",
          "data": {
            "text/plain": [
              "dict_keys(['Korea', 'Canada', 'China'])"
            ]
          },
          "metadata": {},
          "execution_count": 74
        }
      ]
    },
    {
      "cell_type": "code",
      "source": [
        "# values() : 딕셔너리의 전체 value를 확인\n",
        "city.values()"
      ],
      "metadata": {
        "colab": {
          "base_uri": "https://localhost:8080/"
        },
        "id": "71Owx37KaqIT",
        "outputId": "3fca555f-260e-421f-b8be-a4e73bdda2bf"
      },
      "execution_count": null,
      "outputs": [
        {
          "output_type": "execute_result",
          "data": {
            "text/plain": [
              "dict_values(['Seoul', 'Ottawa', 'Beijing'])"
            ]
          },
          "metadata": {},
          "execution_count": 75
        }
      ]
    },
    {
      "cell_type": "code",
      "source": [
        "# items() : 딕셔너리의 전체 key, value를 튜플 형식으로 확인\n",
        "city.items()"
      ],
      "metadata": {
        "colab": {
          "base_uri": "https://localhost:8080/"
        },
        "id": "Rk1Az-H4avCg",
        "outputId": "0522e89e-806a-4579-e0c5-9e3f18c8e99f"
      },
      "execution_count": null,
      "outputs": [
        {
          "output_type": "execute_result",
          "data": {
            "text/plain": [
              "dict_items([('Korea', 'Seoul'), ('Canada', 'Ottawa'), ('China', 'Beijing')])"
            ]
          },
          "metadata": {},
          "execution_count": 76
        }
      ]
    },
    {
      "cell_type": "markdown",
      "source": [
        "# 컬렉션 끼리의 타입 캐스팅"
      ],
      "metadata": {
        "id": "WVDPcEKea1v0"
      }
    },
    {
      "cell_type": "code",
      "source": [
        "# list -> tuple\n",
        "lst = [1, 2, 3]\n",
        "tuple(lst)"
      ],
      "metadata": {
        "colab": {
          "base_uri": "https://localhost:8080/"
        },
        "id": "d-Xwg6dZbGmN",
        "outputId": "0eac203c-15dc-4213-8a17-d078f9053d56"
      },
      "execution_count": null,
      "outputs": [
        {
          "output_type": "execute_result",
          "data": {
            "text/plain": [
              "(1, 2, 3)"
            ]
          },
          "metadata": {},
          "execution_count": 77
        }
      ]
    },
    {
      "cell_type": "code",
      "source": [
        "# tuple -> list\n",
        "tup = 1, 2, 3\n",
        "list(tup)"
      ],
      "metadata": {
        "colab": {
          "base_uri": "https://localhost:8080/"
        },
        "id": "0yblIKbfbLUK",
        "outputId": "574fa309-600c-4e6e-f05d-7cdf271d73f3"
      },
      "execution_count": null,
      "outputs": [
        {
          "output_type": "execute_result",
          "data": {
            "text/plain": [
              "[1, 2, 3]"
            ]
          },
          "metadata": {},
          "execution_count": 78
        }
      ]
    },
    {
      "cell_type": "code",
      "source": [
        "# Sequence -> Set\n",
        "lst = [1,1,2,2,3,3,4,4,5,5]\n",
        "set(lst)"
      ],
      "metadata": {
        "colab": {
          "base_uri": "https://localhost:8080/"
        },
        "id": "7a_kDFQUbPOV",
        "outputId": "34be756d-5778-46a7-8875-26190e9131df"
      },
      "execution_count": null,
      "outputs": [
        {
          "output_type": "execute_result",
          "data": {
            "text/plain": [
              "{1, 2, 3, 4, 5}"
            ]
          },
          "metadata": {},
          "execution_count": 79
        }
      ]
    },
    {
      "cell_type": "code",
      "source": [
        "# dict -> Sequence\n",
        "list(city)"
      ],
      "metadata": {
        "colab": {
          "base_uri": "https://localhost:8080/"
        },
        "id": "ClNazFG2bYZy",
        "outputId": "33646cda-04d8-44c7-94bc-92323f725a9c"
      },
      "execution_count": null,
      "outputs": [
        {
          "output_type": "execute_result",
          "data": {
            "text/plain": [
              "['Korea', 'Canada', 'China']"
            ]
          },
          "metadata": {},
          "execution_count": 80
        }
      ]
    },
    {
      "cell_type": "code",
      "source": [
        "set(city)"
      ],
      "metadata": {
        "colab": {
          "base_uri": "https://localhost:8080/"
        },
        "id": "MNbf-RP9b0bz",
        "outputId": "9e30222f-37af-4b32-862f-c02468eea635"
      },
      "execution_count": null,
      "outputs": [
        {
          "output_type": "execute_result",
          "data": {
            "text/plain": [
              "{'Canada', 'China', 'Korea'}"
            ]
          },
          "metadata": {},
          "execution_count": 81
        }
      ]
    },
    {
      "cell_type": "code",
      "source": [
        "text = \"hello\"\n",
        "list(text)"
      ],
      "metadata": {
        "colab": {
          "base_uri": "https://localhost:8080/"
        },
        "id": "0w1V5gaeb5qM",
        "outputId": "efe89c15-1d75-4869-cebe-b8eeae559697"
      },
      "execution_count": null,
      "outputs": [
        {
          "output_type": "execute_result",
          "data": {
            "text/plain": [
              "['h', 'e', 'l', 'l', 'o']"
            ]
          },
          "metadata": {},
          "execution_count": 82
        }
      ]
    },
    {
      "cell_type": "code",
      "source": [
        "set(text)"
      ],
      "metadata": {
        "colab": {
          "base_uri": "https://localhost:8080/"
        },
        "id": "hN91N5ZNcHC2",
        "outputId": "ae052e4b-a53a-4c72-a67e-b3aedb50f6c2"
      },
      "execution_count": null,
      "outputs": [
        {
          "output_type": "execute_result",
          "data": {
            "text/plain": [
              "{'e', 'h', 'l', 'o'}"
            ]
          },
          "metadata": {},
          "execution_count": 83
        }
      ]
    },
    {
      "cell_type": "code",
      "source": [],
      "metadata": {
        "id": "TxDbVGIFcQX1"
      },
      "execution_count": null,
      "outputs": []
    }
  ]
}
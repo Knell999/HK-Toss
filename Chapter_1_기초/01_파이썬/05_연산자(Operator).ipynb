{
  "nbformat": 4,
  "nbformat_minor": 0,
  "metadata": {
    "colab": {
      "provenance": [],
      "include_colab_link": true
    },
    "kernelspec": {
      "name": "python3",
      "display_name": "Python 3"
    },
    "language_info": {
      "name": "python"
    }
  },
  "cells": [
    {
      "cell_type": "markdown",
      "metadata": {
        "id": "view-in-github",
        "colab_type": "text"
      },
      "source": [
        "<a href=\"https://colab.research.google.com/github/Knell999/ML_Ops_HK-Toss/blob/main/Chapter_1_%EA%B8%B0%EC%B4%88/01_%ED%8C%8C%EC%9D%B4%EC%8D%AC/05_%EC%97%B0%EC%82%B0%EC%9E%90(Operator).ipynb\" target=\"_parent\"><img src=\"https://colab.research.google.com/assets/colab-badge.svg\" alt=\"Open In Colab\"/></a>"
      ]
    },
    {
      "cell_type": "markdown",
      "source": [
        "# 연산자\n",
        "연산(계산)을 할 수 있는 **기호**"
      ],
      "metadata": {
        "id": "J9_vurOApVik"
      }
    },
    {
      "cell_type": "markdown",
      "source": [
        "# 산술 연산자\n",
        "- 덧뺄곱나(+, -, *, /)\n",
        "- 몫, 나머지( //, % )"
      ],
      "metadata": {
        "id": "bx0sbTzNpnwF"
      }
    },
    {
      "cell_type": "code",
      "source": [
        "print(5 + 2)\n",
        "print(5 - 2)\n",
        "print(5 * 2)\n",
        "print(5 / 2)"
      ],
      "metadata": {
        "colab": {
          "base_uri": "https://localhost:8080/"
        },
        "id": "vb0q5fwaqVGZ",
        "outputId": "26f5069d-474a-4c91-cc26-a68aeb4ae2ed"
      },
      "execution_count": null,
      "outputs": [
        {
          "output_type": "stream",
          "name": "stdout",
          "text": [
            "7\n",
            "3\n",
            "10\n",
            "2.5\n"
          ]
        }
      ]
    },
    {
      "cell_type": "code",
      "source": [
        "print( 5 // 2 ) # 몫\n",
        "print( 5 % 2 ) # 나머지"
      ],
      "metadata": {
        "colab": {
          "base_uri": "https://localhost:8080/"
        },
        "id": "6TPoxLPmqkeN",
        "outputId": "22def37f-388c-4d78-97df-820aa91da7cc"
      },
      "execution_count": null,
      "outputs": [
        {
          "output_type": "stream",
          "name": "stdout",
          "text": [
            "2\n",
            "1\n"
          ]
        }
      ]
    },
    {
      "cell_type": "code",
      "source": [
        "# 연산자에는 기본적인 우선순위 규칙\n",
        "print( 2 + 2 * 2 )"
      ],
      "metadata": {
        "colab": {
          "base_uri": "https://localhost:8080/"
        },
        "id": "g2gQmuA7qz8o",
        "outputId": "73e3b084-707e-4ed2-8b28-edfb8089534f"
      },
      "execution_count": null,
      "outputs": [
        {
          "output_type": "stream",
          "name": "stdout",
          "text": [
            "6\n"
          ]
        }
      ]
    },
    {
      "cell_type": "code",
      "source": [
        "print( ( 2 + 2 ) * 2 )"
      ],
      "metadata": {
        "colab": {
          "base_uri": "https://localhost:8080/"
        },
        "id": "1rLGrW_VrCft",
        "outputId": "a1850504-d224-461e-a56a-fc48fc52ab56"
      },
      "execution_count": null,
      "outputs": [
        {
          "output_type": "stream",
          "name": "stdout",
          "text": [
            "8\n"
          ]
        }
      ]
    },
    {
      "cell_type": "markdown",
      "source": [
        "# 할당(대입) 연산자\n",
        "- 어떤 변수에 값을 대입하는 연산자\n",
        "- 특정 변수에 들어있는 값에 특정 연산을 수행해서 그 변수에 다시 저장(누적)"
      ],
      "metadata": {
        "id": "Lc0ndwXYrIgh"
      }
    },
    {
      "cell_type": "code",
      "source": [
        "# 기본 대입 연산\n",
        "num = 10\n",
        "print(num)"
      ],
      "metadata": {
        "colab": {
          "base_uri": "https://localhost:8080/"
        },
        "id": "1b-ynai6re0Q",
        "outputId": "ecd0f765-c7fd-4e7d-9be2-14132ae230a3"
      },
      "execution_count": null,
      "outputs": [
        {
          "output_type": "stream",
          "name": "stdout",
          "text": [
            "10\n"
          ]
        }
      ]
    },
    {
      "cell_type": "code",
      "source": [
        "num = num + 5\n",
        "print(num)"
      ],
      "metadata": {
        "colab": {
          "base_uri": "https://localhost:8080/"
        },
        "id": "GlRIi-4RrjvO",
        "outputId": "63b737f7-20c1-451f-ba44-80d3d311e36d"
      },
      "execution_count": null,
      "outputs": [
        {
          "output_type": "stream",
          "name": "stdout",
          "text": [
            "15\n"
          ]
        }
      ]
    },
    {
      "cell_type": "code",
      "source": [
        "num += 5\n",
        "print(num)"
      ],
      "metadata": {
        "colab": {
          "base_uri": "https://localhost:8080/"
        },
        "id": "IrHf3vqOsMwT",
        "outputId": "42424ada-af4a-4e4e-d27c-b96d752759d8"
      },
      "execution_count": null,
      "outputs": [
        {
          "output_type": "stream",
          "name": "stdout",
          "text": [
            "20\n"
          ]
        }
      ]
    },
    {
      "cell_type": "code",
      "source": [
        "num -= 10\n",
        "print(num)"
      ],
      "metadata": {
        "colab": {
          "base_uri": "https://localhost:8080/"
        },
        "id": "oMyUEVvxsc9l",
        "outputId": "ef0365d5-9c39-4b78-e7dc-256bc2cb4053"
      },
      "execution_count": null,
      "outputs": [
        {
          "output_type": "stream",
          "name": "stdout",
          "text": [
            "10\n"
          ]
        }
      ]
    },
    {
      "cell_type": "code",
      "source": [
        "num *= 5\n",
        "print(num)"
      ],
      "metadata": {
        "colab": {
          "base_uri": "https://localhost:8080/"
        },
        "id": "ngcNeXvVshpD",
        "outputId": "2a647b1c-b298-4bcc-c380-20a418d3423e"
      },
      "execution_count": null,
      "outputs": [
        {
          "output_type": "stream",
          "name": "stdout",
          "text": [
            "50\n"
          ]
        }
      ]
    },
    {
      "cell_type": "code",
      "source": [
        "num /= 2\n",
        "print(num)"
      ],
      "metadata": {
        "colab": {
          "base_uri": "https://localhost:8080/"
        },
        "id": "P8fex1f5smiG",
        "outputId": "e7c0f377-8a62-43f1-caf3-a95ad444938a"
      },
      "execution_count": null,
      "outputs": [
        {
          "output_type": "stream",
          "name": "stdout",
          "text": [
            "25.0\n"
          ]
        }
      ]
    },
    {
      "cell_type": "code",
      "source": [
        "뜬금없 /= 3"
      ],
      "metadata": {
        "colab": {
          "base_uri": "https://localhost:8080/",
          "height": 145
        },
        "id": "LT0zlSCJspfU",
        "outputId": "2d9e3db8-aef3-4168-caab-1f3745167394"
      },
      "execution_count": null,
      "outputs": [
        {
          "output_type": "error",
          "ename": "NameError",
          "evalue": "name '뜬금없' is not defined",
          "traceback": [
            "\u001b[0;31m---------------------------------------------------------------------------\u001b[0m",
            "\u001b[0;31mNameError\u001b[0m                                 Traceback (most recent call last)",
            "\u001b[0;32m<ipython-input-11-7d011fc9bb02>\u001b[0m in \u001b[0;36m<cell line: 1>\u001b[0;34m()\u001b[0m\n\u001b[0;32m----> 1\u001b[0;31m \u001b[0m뜬금없\u001b[0m \u001b[0;34m/=\u001b[0m \u001b[0;36m3\u001b[0m\u001b[0;34m\u001b[0m\u001b[0;34m\u001b[0m\u001b[0m\n\u001b[0m",
            "\u001b[0;31mNameError\u001b[0m: name '뜬금없' is not defined"
          ]
        }
      ]
    },
    {
      "cell_type": "code",
      "source": [
        "print(뜬금)"
      ],
      "metadata": {
        "colab": {
          "base_uri": "https://localhost:8080/",
          "height": 145
        },
        "id": "2jcuqFm1s1Zt",
        "outputId": "77f4d0d0-35fd-40ac-8b50-c7efdb215dcf"
      },
      "execution_count": null,
      "outputs": [
        {
          "output_type": "error",
          "ename": "NameError",
          "evalue": "name '뜬금' is not defined",
          "traceback": [
            "\u001b[0;31m---------------------------------------------------------------------------\u001b[0m",
            "\u001b[0;31mNameError\u001b[0m                                 Traceback (most recent call last)",
            "\u001b[0;32m<ipython-input-12-38d215cb71bd>\u001b[0m in \u001b[0;36m<cell line: 1>\u001b[0;34m()\u001b[0m\n\u001b[0;32m----> 1\u001b[0;31m \u001b[0mprint\u001b[0m\u001b[0;34m(\u001b[0m\u001b[0m뜬금\u001b[0m\u001b[0;34m)\u001b[0m\u001b[0;34m\u001b[0m\u001b[0;34m\u001b[0m\u001b[0m\n\u001b[0m",
            "\u001b[0;31mNameError\u001b[0m: name '뜬금' is not defined"
          ]
        }
      ]
    },
    {
      "cell_type": "markdown",
      "source": [
        "# 비교연산자\n",
        "- 크기를 비교하는 연산자\n",
        "- `>, <, >=, <=`\n",
        "- `!=, ==`"
      ],
      "metadata": {
        "id": "Zaro7oXqs8Q3"
      }
    },
    {
      "cell_type": "code",
      "source": [
        "a = 5\n",
        "b = 3\n",
        "\n",
        "print( a > b ) # True\n",
        "print( a < b ) # False\n",
        "print( a >= b ) # True\n",
        "print( a <= b ) # False"
      ],
      "metadata": {
        "colab": {
          "base_uri": "https://localhost:8080/"
        },
        "id": "6PLD0H8RtWEy",
        "outputId": "3093f684-e87b-4588-f638-aa0d654c4281"
      },
      "execution_count": null,
      "outputs": [
        {
          "output_type": "stream",
          "name": "stdout",
          "text": [
            "True\n",
            "False\n",
            "True\n",
            "False\n"
          ]
        }
      ]
    },
    {
      "cell_type": "code",
      "source": [
        "# != : 부정연산자( 같지 않다 )\n",
        "# == : 동일연산자( 같다 )\n",
        "\n",
        "print( a == b ) # False\n",
        "print( a != b ) # True"
      ],
      "metadata": {
        "colab": {
          "base_uri": "https://localhost:8080/"
        },
        "id": "gCLNnCI5tyfi",
        "outputId": "a3f5af66-5ccd-4ced-fa75-262f0953e9a5"
      },
      "execution_count": null,
      "outputs": [
        {
          "output_type": "stream",
          "name": "stdout",
          "text": [
            "False\n",
            "True\n"
          ]
        }
      ]
    },
    {
      "cell_type": "markdown",
      "source": [
        "# 논리연산자\n",
        "- 논리 자료형인 `bool`에 대한 연산을 수행\n",
        "- `and(&), or(|), not(! 또는 ~)`"
      ],
      "metadata": {
        "id": "oYCo-poKuCtU"
      }
    },
    {
      "cell_type": "markdown",
      "source": [
        "## AND 연산"
      ],
      "metadata": {
        "id": "ul6P3b8GuTc3"
      }
    },
    {
      "cell_type": "code",
      "source": [
        "1 < 3 and 5 > 3"
      ],
      "metadata": {
        "colab": {
          "base_uri": "https://localhost:8080/"
        },
        "id": "stUHIiU5uoJX",
        "outputId": "c1beeaa8-e9fe-4de3-a530-4fcbcc679b4e"
      },
      "execution_count": null,
      "outputs": [
        {
          "output_type": "execute_result",
          "data": {
            "text/plain": [
              "True"
            ]
          },
          "metadata": {},
          "execution_count": 15
        }
      ]
    },
    {
      "cell_type": "code",
      "source": [
        "1 < 3 and 5 < 3"
      ],
      "metadata": {
        "colab": {
          "base_uri": "https://localhost:8080/"
        },
        "id": "fGOf2wANvOVp",
        "outputId": "10370f9b-6691-4a59-92cd-0bf13153a22e"
      },
      "execution_count": null,
      "outputs": [
        {
          "output_type": "execute_result",
          "data": {
            "text/plain": [
              "False"
            ]
          },
          "metadata": {},
          "execution_count": 16
        }
      ]
    },
    {
      "cell_type": "markdown",
      "source": [
        "예를 들어 A and B 연산을 할건데, A는 10초가 걸리는 작업, B는 0.1초가 걸리는 작업인 경우\n",
        "\n",
        "A and B vs B and A"
      ],
      "metadata": {
        "id": "XL7hSe8vvUUy"
      }
    },
    {
      "cell_type": "code",
      "source": [
        "4 < 3 and 5 > 1 # 4 < 3이 False라서 5 > 1에 대한 연산은 수행하지 않는다."
      ],
      "metadata": {
        "colab": {
          "base_uri": "https://localhost:8080/"
        },
        "id": "EjL5VRllvxqU",
        "outputId": "00405e57-c285-4ce3-f8a6-52bc5321beff"
      },
      "execution_count": null,
      "outputs": [
        {
          "output_type": "execute_result",
          "data": {
            "text/plain": [
              "False"
            ]
          },
          "metadata": {},
          "execution_count": 17
        }
      ]
    },
    {
      "cell_type": "markdown",
      "source": [
        "## OR 연산\n"
      ],
      "metadata": {
        "id": "HqwwADL0wqqY"
      }
    },
    {
      "cell_type": "code",
      "source": [
        "5 > 3 or 6 > 3 # True"
      ],
      "metadata": {
        "colab": {
          "base_uri": "https://localhost:8080/"
        },
        "id": "YxrKKlAewu1h",
        "outputId": "424bb457-930d-4b3c-d6d5-4aa4ed3168b9"
      },
      "execution_count": null,
      "outputs": [
        {
          "output_type": "execute_result",
          "data": {
            "text/plain": [
              "True"
            ]
          },
          "metadata": {},
          "execution_count": 18
        }
      ]
    },
    {
      "cell_type": "code",
      "source": [
        "5 > 3 or 6 < 3 # True"
      ],
      "metadata": {
        "colab": {
          "base_uri": "https://localhost:8080/"
        },
        "id": "MRdnOBbywyrC",
        "outputId": "c0632a92-e979-46c3-f249-78cb97e7a25c"
      },
      "execution_count": null,
      "outputs": [
        {
          "output_type": "execute_result",
          "data": {
            "text/plain": [
              "True"
            ]
          },
          "metadata": {},
          "execution_count": 19
        }
      ]
    },
    {
      "cell_type": "markdown",
      "source": [
        "OR는 앞 부분이 True면 뒷 부분을 연산하지 않는다."
      ],
      "metadata": {
        "id": "NTt1qniPw1RR"
      }
    },
    {
      "cell_type": "markdown",
      "source": [
        "## Not 연산\n",
        "~ 하지 않다"
      ],
      "metadata": {
        "id": "KY8nuEflxN_x"
      }
    },
    {
      "cell_type": "code",
      "source": [
        "not 1 > 3 # 1이 3보다 크지 않다"
      ],
      "metadata": {
        "colab": {
          "base_uri": "https://localhost:8080/"
        },
        "id": "MLwyqwXjxcUp",
        "outputId": "0061c3ed-b79d-479d-d237-cea2db53a3d1"
      },
      "execution_count": null,
      "outputs": [
        {
          "output_type": "execute_result",
          "data": {
            "text/plain": [
              "True"
            ]
          },
          "metadata": {},
          "execution_count": 20
        }
      ]
    },
    {
      "cell_type": "code",
      "source": [
        "not 1 < 3 # 1이 3보다 작지 않다"
      ],
      "metadata": {
        "colab": {
          "base_uri": "https://localhost:8080/"
        },
        "id": "QqeeemTfxgx8",
        "outputId": "6bb4e7ac-ae11-4060-bd64-00d24e2ef100"
      },
      "execution_count": null,
      "outputs": [
        {
          "output_type": "execute_result",
          "data": {
            "text/plain": [
              "False"
            ]
          },
          "metadata": {},
          "execution_count": 21
        }
      ]
    },
    {
      "cell_type": "markdown",
      "source": [
        "# 멤버연산자\n",
        "- 멤버란? 컬렉션 안에 있는 요소, 원소, item\n",
        "- 컬렉션에 원소가 존재하는지 여부를 판단\n",
        "- `in, not in`"
      ],
      "metadata": {
        "id": "AeDD_M_MxjEt"
      }
    },
    {
      "cell_type": "code",
      "source": [
        "lst = [\"a\", 1, 3.1]\n",
        "\n",
        "# 멤버 \"a\"는 lst의 멤버인가?\n",
        "\"a\" in lst"
      ],
      "metadata": {
        "colab": {
          "base_uri": "https://localhost:8080/"
        },
        "id": "JV8-V5srxtvf",
        "outputId": "bbd30c21-6912-4f08-ab94-bada63754e49"
      },
      "execution_count": null,
      "outputs": [
        {
          "output_type": "execute_result",
          "data": {
            "text/plain": [
              "True"
            ]
          },
          "metadata": {},
          "execution_count": 22
        }
      ]
    },
    {
      "cell_type": "code",
      "source": [
        "2 in lst"
      ],
      "metadata": {
        "colab": {
          "base_uri": "https://localhost:8080/"
        },
        "id": "UaGtJciEyF9m",
        "outputId": "a9bf9048-1311-418a-d407-60f1f9242e59"
      },
      "execution_count": null,
      "outputs": [
        {
          "output_type": "execute_result",
          "data": {
            "text/plain": [
              "False"
            ]
          },
          "metadata": {},
          "execution_count": 23
        }
      ]
    },
    {
      "cell_type": "code",
      "source": [
        "\"h\" in \"hello\""
      ],
      "metadata": {
        "colab": {
          "base_uri": "https://localhost:8080/"
        },
        "id": "hC1bqNCIyNN2",
        "outputId": "2ad005b7-c380-4d67-ab04-782ca6c24361"
      },
      "execution_count": null,
      "outputs": [
        {
          "output_type": "execute_result",
          "data": {
            "text/plain": [
              "True"
            ]
          },
          "metadata": {},
          "execution_count": 24
        }
      ]
    },
    {
      "cell_type": "code",
      "source": [
        "temp = {\n",
        "    \"a\": 10,\n",
        "    \"b\": 20\n",
        "}"
      ],
      "metadata": {
        "id": "8RdgOFdhySvn"
      },
      "execution_count": null,
      "outputs": []
    },
    {
      "cell_type": "code",
      "source": [
        "# 딕셔너리의 멤버 연산은 키를 기준으로 수행\n",
        "\"a\" in temp"
      ],
      "metadata": {
        "colab": {
          "base_uri": "https://localhost:8080/"
        },
        "id": "sj3iBPa_yb26",
        "outputId": "1a24286c-0a0b-4c92-eeaa-6360889c0fe8"
      },
      "execution_count": null,
      "outputs": [
        {
          "output_type": "execute_result",
          "data": {
            "text/plain": [
              "True"
            ]
          },
          "metadata": {},
          "execution_count": 26
        }
      ]
    },
    {
      "cell_type": "code",
      "source": [
        "\"c\" in temp"
      ],
      "metadata": {
        "colab": {
          "base_uri": "https://localhost:8080/"
        },
        "id": "iPtYfgXYykGQ",
        "outputId": "3ef09d3b-bae6-4dca-9b37-2f4b479d67cb"
      },
      "execution_count": null,
      "outputs": [
        {
          "output_type": "execute_result",
          "data": {
            "text/plain": [
              "False"
            ]
          },
          "metadata": {},
          "execution_count": 27
        }
      ]
    },
    {
      "cell_type": "code",
      "source": [
        "10 in temp.values()"
      ],
      "metadata": {
        "colab": {
          "base_uri": "https://localhost:8080/"
        },
        "id": "cPqHxYWbylhZ",
        "outputId": "0c581bf4-c4f2-41dd-bb45-610add2291e0"
      },
      "execution_count": null,
      "outputs": [
        {
          "output_type": "execute_result",
          "data": {
            "text/plain": [
              "True"
            ]
          },
          "metadata": {},
          "execution_count": 28
        }
      ]
    },
    {
      "cell_type": "code",
      "source": [],
      "metadata": {
        "id": "OqM20mc7ywqI"
      },
      "execution_count": null,
      "outputs": []
    }
  ]
}
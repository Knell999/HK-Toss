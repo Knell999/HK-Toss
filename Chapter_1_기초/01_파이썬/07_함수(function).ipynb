{
  "nbformat": 4,
  "nbformat_minor": 0,
  "metadata": {
    "colab": {
      "provenance": [],
      "include_colab_link": true
    },
    "kernelspec": {
      "name": "python3",
      "display_name": "Python 3"
    },
    "language_info": {
      "name": "python"
    }
  },
  "cells": [
    {
      "cell_type": "markdown",
      "metadata": {
        "id": "view-in-github",
        "colab_type": "text"
      },
      "source": [
        "<a href=\"https://colab.research.google.com/github/Knell999/ML_Ops_HK-Toss/blob/main/Chapter_1_%EA%B8%B0%EC%B4%88/01_%ED%8C%8C%EC%9D%B4%EC%8D%AC/07_%ED%95%A8%EC%88%98(function).ipynb\" target=\"_parent\"><img src=\"https://colab.research.google.com/assets/colab-badge.svg\" alt=\"Open In Colab\"/></a>"
      ]
    },
    {
      "cell_type": "markdown",
      "source": [
        "# 함수(function)\n",
        "- (재사용 할)코드의 묶음"
      ],
      "metadata": {
        "id": "WG1h5pejSXHh"
      }
    },
    {
      "cell_type": "code",
      "source": [
        "# 성적계산기를 만들어 보자!\n",
        "\n",
        "score = 60\n",
        "\n",
        "if score >= 90:\n",
        "  print(\"A\")\n",
        "elif score >= 80:\n",
        "  print(\"B\")\n",
        "elif score >= 70:\n",
        "  print(\"C\")\n",
        "elif score >= 60:\n",
        "  print(\"D\")\n",
        "else:\n",
        "  print(\"F\")"
      ],
      "metadata": {
        "colab": {
          "base_uri": "https://localhost:8080/"
        },
        "id": "ApTPI0hKSgGG",
        "outputId": "69e1e6b2-0df2-483c-a7d4-b65bfe441bc2"
      },
      "execution_count": null,
      "outputs": [
        {
          "output_type": "stream",
          "name": "stdout",
          "text": [
            "D\n"
          ]
        }
      ]
    },
    {
      "cell_type": "code",
      "source": [
        "# 두 번째 사람에 대한 처리\n",
        "score = 85\n",
        "\n",
        "if score >= 90:\n",
        "  print(\"A\")\n",
        "elif score >= 80:\n",
        "  print(\"B\")\n",
        "elif score >= 70:\n",
        "  print(\"C\")\n",
        "elif score >= 60:\n",
        "  print(\"D\")\n",
        "else:\n",
        "  print(\"F\")"
      ],
      "metadata": {
        "colab": {
          "base_uri": "https://localhost:8080/"
        },
        "id": "CGDzHKMBTEzH",
        "outputId": "c1349f96-409f-4a96-c7dd-3ff906d920dd"
      },
      "execution_count": null,
      "outputs": [
        {
          "output_type": "stream",
          "name": "stdout",
          "text": [
            "B\n"
          ]
        }
      ]
    },
    {
      "cell_type": "code",
      "source": [
        "# 함수화 시키기!\n",
        "#  반복적인 기능을 하는 코드 뭉치(code context)를 \"정의\" 해 놓고, 필요 할 때 \"호출\"\n",
        "# 정의 : def\n",
        "# 사용(호출) : call\n",
        "\n",
        "# print_grade라는 함수를 정의, 구현\n",
        "def print_grade(score):\n",
        "  if score >= 90:\n",
        "    print(\"A\")\n",
        "  elif score >= 80:\n",
        "    print(\"B\")\n",
        "  elif score >=70 :\n",
        "    print(\"C\")\n",
        "  elif score >= 60:\n",
        "    print(\"D\")\n",
        "  else:\n",
        "    print(\"F\")\n",
        "\n",
        "print_grade(80)\n",
        "print_grade(95)\n",
        "print_grade(60)\n",
        "print_grade(70)"
      ],
      "metadata": {
        "colab": {
          "base_uri": "https://localhost:8080/"
        },
        "id": "X8wMAT1gTEmQ",
        "outputId": "3949012c-3cfb-42d8-cce5-07ff33a02684"
      },
      "execution_count": null,
      "outputs": [
        {
          "output_type": "stream",
          "name": "stdout",
          "text": [
            "B\n",
            "A\n",
            "D\n",
            "C\n"
          ]
        }
      ]
    },
    {
      "cell_type": "markdown",
      "source": [
        "# 함수의 정의 방법\n",
        "```python\n",
        "def <function_name>([paramter1, parameter2, ...]):\n",
        "  ...\n",
        "  code context\n",
        "  ...\n",
        "```\n",
        "* 파라미터(Parameter) : 함수를 **정의**할 때 호출하는 곳에서 입력해주는 **데이터를 저장할 변수**\n",
        "* 아규먼트(Argument) : 함수를 호출하는 곳에서 함수에 넣어주는 **데이터**\n",
        "\n",
        "파라미터의 변수명과 아규먼트의 변수명은 항상 같아야 할가요?\n",
        "- No!"
      ],
      "metadata": {
        "id": "hNjNhoYnWe_m"
      }
    },
    {
      "cell_type": "code",
      "source": [
        "# 1. Parameter X, Return X\n",
        "def foo():\n",
        "  print(\"Here is foo\")\n",
        "  print(\"Parameter X, Return X\")\n",
        "\n",
        "# Parameter가 없으니까 Argument를 안 넣어줘도 된다.\n",
        "foo()"
      ],
      "metadata": {
        "colab": {
          "base_uri": "https://localhost:8080/"
        },
        "id": "7F1pLIV1Wtrj",
        "outputId": "a7bf2fe1-bc72-4597-af64-127b06439f3b"
      },
      "execution_count": null,
      "outputs": [
        {
          "output_type": "stream",
          "name": "stdout",
          "text": [
            "Here is foo\n",
            "Parameter X, Return X\n"
          ]
        }
      ]
    },
    {
      "cell_type": "code",
      "source": [
        "# 2. Parameter O, Return X\n",
        "#   대표적으로 print 함수가 있다.\n",
        "\n",
        "def goo(num1, num2):\n",
        "  if num1 + num2 > 10:\n",
        "    print(\"Big\")\n",
        "  else:\n",
        "    print(\"Small\")\n",
        "\n",
        "goo(1, 2)\n",
        "goo(10, 20)"
      ],
      "metadata": {
        "colab": {
          "base_uri": "https://localhost:8080/"
        },
        "id": "I0MO-UKNbECA",
        "outputId": "3fdf2ebf-a939-4ce5-c663-94ec12f7fd87"
      },
      "execution_count": null,
      "outputs": [
        {
          "output_type": "stream",
          "name": "stdout",
          "text": [
            "Small\n",
            "Big\n"
          ]
        }
      ]
    },
    {
      "cell_type": "code",
      "source": [
        "# return이란, 함수를 호출 했을 때의 결과물.\n",
        "#  이 결과물을 다른 변수에 할당하는 것이 가능!!\n",
        "result = goo(10, 20)"
      ],
      "metadata": {
        "colab": {
          "base_uri": "https://localhost:8080/"
        },
        "id": "1jue-FBzcCcB",
        "outputId": "180c32d5-1cf4-416a-d7f9-1aee30731c25"
      },
      "execution_count": null,
      "outputs": [
        {
          "output_type": "stream",
          "name": "stdout",
          "text": [
            "Big\n"
          ]
        }
      ]
    },
    {
      "cell_type": "code",
      "source": [
        "print(result)"
      ],
      "metadata": {
        "colab": {
          "base_uri": "https://localhost:8080/"
        },
        "id": "2LxYD5fJcpqb",
        "outputId": "de14601f-b01c-43fd-d4a9-8a9fdbe232f6"
      },
      "execution_count": null,
      "outputs": [
        {
          "output_type": "stream",
          "name": "stdout",
          "text": [
            "None\n"
          ]
        }
      ]
    },
    {
      "cell_type": "code",
      "source": [
        "result = print(\"안녕하세요 반갑습니다.\")\n",
        "print(result)"
      ],
      "metadata": {
        "colab": {
          "base_uri": "https://localhost:8080/"
        },
        "id": "6QASsfYtcy2v",
        "outputId": "db926b72-65f7-4e54-a2e7-595361bbd6f6"
      },
      "execution_count": null,
      "outputs": [
        {
          "output_type": "stream",
          "name": "stdout",
          "text": [
            "안녕하세요 반갑습니다.\n",
            "None\n"
          ]
        }
      ]
    },
    {
      "cell_type": "code",
      "source": [
        "# 3. Parameter X, Return O\n",
        "def moo():\n",
        "  print(\"moo is called\")\n",
        "  lst = [1, 3, 5, 7, 9]\n",
        "\n",
        "  total = sum(lst)\n",
        "\n",
        "  return total # return 값이 존재\n",
        "\n",
        "moo_result = moo() # 함수 moo는 값을 반환(return)한다. 따라서 리턴 값을 변수로 받아 낼 수 있다.\n",
        "moo_result"
      ],
      "metadata": {
        "colab": {
          "base_uri": "https://localhost:8080/"
        },
        "id": "OlkYnftDdIll",
        "outputId": "d13f44c2-f53e-443b-a026-a7dc4a0e0a37"
      },
      "execution_count": null,
      "outputs": [
        {
          "output_type": "stream",
          "name": "stdout",
          "text": [
            "moo is called\n"
          ]
        },
        {
          "output_type": "execute_result",
          "data": {
            "text/plain": [
              "25"
            ]
          },
          "metadata": {},
          "execution_count": 11
        }
      ]
    },
    {
      "cell_type": "code",
      "source": [
        "moo_result * 100"
      ],
      "metadata": {
        "colab": {
          "base_uri": "https://localhost:8080/"
        },
        "id": "H2As-EqYd43y",
        "outputId": "863c35ce-27d1-4c6d-cd3a-78b9772738b0"
      },
      "execution_count": null,
      "outputs": [
        {
          "output_type": "execute_result",
          "data": {
            "text/plain": [
              "2500"
            ]
          },
          "metadata": {},
          "execution_count": 12
        }
      ]
    },
    {
      "cell_type": "code",
      "source": [
        "# 4. Paramter O, Return O\n",
        "def hoo(num1, num2):\n",
        "  print(\"hoo is called\")\n",
        "  return num1 + num2"
      ],
      "metadata": {
        "id": "ajq0UULBePiG"
      },
      "execution_count": null,
      "outputs": []
    },
    {
      "cell_type": "code",
      "source": [
        "a = 10\n",
        "b = 20\n",
        "\n",
        "hoo_result = hoo(a, b)\n",
        "hoo_result"
      ],
      "metadata": {
        "colab": {
          "base_uri": "https://localhost:8080/"
        },
        "id": "jfpYpfdRehvk",
        "outputId": "9898f795-a1ee-4a2f-f7ac-2b7b5211ff37"
      },
      "execution_count": null,
      "outputs": [
        {
          "output_type": "stream",
          "name": "stdout",
          "text": [
            "hoo is called\n"
          ]
        },
        {
          "output_type": "execute_result",
          "data": {
            "text/plain": [
              "30"
            ]
          },
          "metadata": {},
          "execution_count": 14
        }
      ]
    },
    {
      "cell_type": "markdown",
      "source": [
        "# 파라미터를 정의하는 3가지 방법\n",
        "1. `default parameter` ★★★★★\n",
        "2. 여러 아규먼트를 한꺼번에 묶어서 동시에 포함 시키기 ★★★\n",
        "  * `*args`\n",
        "  * `print` 함수에서 사용되고 있음\n",
        "3. 여러 아규먼트를 `dict` 형태로 받기 ★★\n",
        "  * `**kwargs`\n",
        "  * 직접 만들 일은 생각보다 만히 없으나, 이미 만들어진 것을 사용할 때 주로 사용된다.\n"
      ],
      "metadata": {
        "id": "NDxbqZBTeuYO"
      }
    },
    {
      "cell_type": "markdown",
      "source": [
        "## Default Paramter\n",
        "- 함수를 호출 할 때 Argument를 넣어주지 않아도 기본적으로 파라미터가 가지고 있어야 할 값을 지정"
      ],
      "metadata": {
        "id": "Narwb-A4EzBG"
      }
    },
    {
      "cell_type": "code",
      "source": [
        "def noo(a, b, c):\n",
        "  print(a, b, c)\n",
        "\n",
        "noo(\"Hello\", 30, 5.1212121)"
      ],
      "metadata": {
        "colab": {
          "base_uri": "https://localhost:8080/"
        },
        "id": "8wtBEphQFQul",
        "outputId": "6f710e78-63f0-40d6-9519-ddd4f80e1f3b"
      },
      "execution_count": null,
      "outputs": [
        {
          "output_type": "stream",
          "name": "stdout",
          "text": [
            "Hello 30 5.1212121\n"
          ]
        }
      ]
    },
    {
      "cell_type": "code",
      "source": [
        "noo(10, 20)"
      ],
      "metadata": {
        "colab": {
          "base_uri": "https://localhost:8080/",
          "height": 145
        },
        "id": "6FIMZywCGDdF",
        "outputId": "ffea9d4b-0ebc-43a1-9327-63b422c99491"
      },
      "execution_count": null,
      "outputs": [
        {
          "output_type": "error",
          "ename": "TypeError",
          "evalue": "noo() missing 1 required positional argument: 'c'",
          "traceback": [
            "\u001b[0;31m---------------------------------------------------------------------------\u001b[0m",
            "\u001b[0;31mTypeError\u001b[0m                                 Traceback (most recent call last)",
            "\u001b[0;32m<ipython-input-2-4a0694526a33>\u001b[0m in \u001b[0;36m<cell line: 1>\u001b[0;34m()\u001b[0m\n\u001b[0;32m----> 1\u001b[0;31m \u001b[0mnoo\u001b[0m\u001b[0;34m(\u001b[0m\u001b[0;36m10\u001b[0m\u001b[0;34m,\u001b[0m \u001b[0;36m20\u001b[0m\u001b[0;34m)\u001b[0m\u001b[0;34m\u001b[0m\u001b[0;34m\u001b[0m\u001b[0m\n\u001b[0m",
            "\u001b[0;31mTypeError\u001b[0m: noo() missing 1 required positional argument: 'c'"
          ]
        }
      ]
    },
    {
      "cell_type": "code",
      "source": [
        "# Paramter c에 기본적으로 30을 넣어주기\n",
        "def koo(a, b, c=30):\n",
        "  print(a, b, c)\n",
        "\n",
        "koo(10, 20)"
      ],
      "metadata": {
        "colab": {
          "base_uri": "https://localhost:8080/"
        },
        "id": "wK7NTGOpGPdJ",
        "outputId": "568fdeea-cb45-48ef-9082-84d59f6e0592"
      },
      "execution_count": null,
      "outputs": [
        {
          "output_type": "stream",
          "name": "stdout",
          "text": [
            "10 20 30\n"
          ]
        }
      ]
    },
    {
      "cell_type": "code",
      "source": [
        "koo(10, 20, \"HiHi\")"
      ],
      "metadata": {
        "colab": {
          "base_uri": "https://localhost:8080/"
        },
        "id": "osA3QHu-G0ev",
        "outputId": "1d29f4e3-4180-4ab8-93c0-ebcf01705192"
      },
      "execution_count": null,
      "outputs": [
        {
          "output_type": "stream",
          "name": "stdout",
          "text": [
            "10 20 HiHi\n"
          ]
        }
      ]
    },
    {
      "cell_type": "code",
      "source": [
        "# 잘못된 Default Parameter 설정\n",
        "def roo(a, b=20, c):\n",
        "  print(a, b, c)\n",
        "\n",
        "roo(10, 20, 30)"
      ],
      "metadata": {
        "id": "QKdzlXhTHAnd",
        "colab": {
          "base_uri": "https://localhost:8080/",
          "height": 109
        },
        "outputId": "5c0c33ac-3405-46f6-f414-53af326a6022"
      },
      "execution_count": null,
      "outputs": [
        {
          "output_type": "error",
          "ename": "SyntaxError",
          "evalue": "non-default argument follows default argument (<ipython-input-5-293e97476f26>, line 2)",
          "traceback": [
            "\u001b[0;36m  File \u001b[0;32m\"<ipython-input-5-293e97476f26>\"\u001b[0;36m, line \u001b[0;32m2\u001b[0m\n\u001b[0;31m    def roo(a, b=20, c):\u001b[0m\n\u001b[0m                     ^\u001b[0m\n\u001b[0;31mSyntaxError\u001b[0m\u001b[0;31m:\u001b[0m non-default argument follows default argument\n"
          ]
        }
      ]
    },
    {
      "cell_type": "code",
      "source": [
        "# default parameter는 오른쪽부터 채운다.\n",
        "def woo(a, b=20, c=30):\n",
        "  print(a, b, c)\n",
        "\n",
        "print(\"Hello\")\n"
      ],
      "metadata": {
        "colab": {
          "base_uri": "https://localhost:8080/"
        },
        "id": "DU8RS36IHiED",
        "outputId": "4f9898c7-491b-4028-bf04-aeb93a0bf8ca"
      },
      "execution_count": null,
      "outputs": [
        {
          "output_type": "stream",
          "name": "stdout",
          "text": [
            "Hello\n"
          ]
        }
      ]
    },
    {
      "cell_type": "markdown",
      "source": [
        "Default Parameter는 언제쓸까?\n",
        "- 사용자가 넣어주지 않아도 기본적으로 세팅되어야 할 옵션이 있을 때 사용"
      ],
      "metadata": {
        "id": "_foVQoiDIKcn"
      }
    },
    {
      "cell_type": "markdown",
      "source": [
        "## `*args`\n",
        "- 함수를 정의하면서 Argument가 `n`개가 들어 갈 수 있다!\n",
        "- `*`을 `asterisk`라고 함"
      ],
      "metadata": {
        "id": "6iFCvxLhIXLo"
      }
    },
    {
      "cell_type": "code",
      "source": [
        "def add1(a, b):\n",
        "  print(a+b)\n",
        "\n",
        "def add2(a, b, c):\n",
        "  print(a+b+c)"
      ],
      "metadata": {
        "id": "82CR2xH0IruB"
      },
      "execution_count": null,
      "outputs": []
    },
    {
      "cell_type": "code",
      "source": [
        "# 정해진 개수가 아닌, N개의 Argument를 받아서 처리하고 싶으면 *args 사용\n",
        "def add(*args):\n",
        "  # *args로 Argument를 받으면, 튜플 형태로 Argument가 묶여서 들어온다.\n",
        "  print(args)\n",
        "  total = sum(args)\n",
        "  print(total)\n",
        "\n",
        "add(1,2,3,5,67,1,2,3,6,7,9,101)"
      ],
      "metadata": {
        "colab": {
          "base_uri": "https://localhost:8080/"
        },
        "id": "gjU-0uUYJqTw",
        "outputId": "962d910d-df6a-4217-9c34-77f7146e5a8b"
      },
      "execution_count": null,
      "outputs": [
        {
          "output_type": "stream",
          "name": "stdout",
          "text": [
            "(1, 2, 3, 5, 67, 1, 2, 3, 6, 7, 9, 101)\n",
            "207\n"
          ]
        }
      ]
    },
    {
      "cell_type": "code",
      "source": [
        "# 하나의 함수에 여러 개의 *args를 사용할 수 있을까요?\n",
        "\n",
        "# Error\n",
        "# def qoo(*args1, *args2):\n",
        "#   pass"
      ],
      "metadata": {
        "id": "3noDzJ4PKnRA"
      },
      "execution_count": null,
      "outputs": []
    },
    {
      "cell_type": "code",
      "source": [
        "# Positional Argument와 *args 같이 사용 가능할까요?\n",
        "def qoo(a, b, *args):\n",
        "  print(a)\n",
        "  print(b)\n",
        "  print(args)\n",
        "\n",
        "qoo(1, 2, 3,4,5,6,7,8)"
      ],
      "metadata": {
        "colab": {
          "base_uri": "https://localhost:8080/"
        },
        "id": "0TSjVdQhLT1L",
        "outputId": "e13fc2bd-41c2-461d-fdc2-43624a78860d"
      },
      "execution_count": null,
      "outputs": [
        {
          "output_type": "stream",
          "name": "stdout",
          "text": [
            "1\n",
            "2\n",
            "(3, 4, 5, 6, 7, 8)\n"
          ]
        }
      ]
    },
    {
      "cell_type": "code",
      "source": [
        "# *args가 모든 아규먼트를 먹기 때문에 b가 세팅되지 않는다.\n",
        "def eoo(a, *args, b):\n",
        "  print(a)\n",
        "  print(args)\n",
        "  print(b)\n",
        "\n",
        "eoo(1, 2,3,4,5,6,7, 8)"
      ],
      "metadata": {
        "colab": {
          "base_uri": "https://localhost:8080/",
          "height": 181
        },
        "id": "ctQOuOrgL3Rh",
        "outputId": "037f3056-bf5c-455f-d93f-f06827b3eb2d"
      },
      "execution_count": null,
      "outputs": [
        {
          "output_type": "error",
          "ename": "TypeError",
          "evalue": "eoo() missing 1 required keyword-only argument: 'b'",
          "traceback": [
            "\u001b[0;31m---------------------------------------------------------------------------\u001b[0m",
            "\u001b[0;31mTypeError\u001b[0m                                 Traceback (most recent call last)",
            "\u001b[0;32m<ipython-input-12-ddf1757eed71>\u001b[0m in \u001b[0;36m<cell line: 6>\u001b[0;34m()\u001b[0m\n\u001b[1;32m      4\u001b[0m   \u001b[0mprint\u001b[0m\u001b[0;34m(\u001b[0m\u001b[0mb\u001b[0m\u001b[0;34m)\u001b[0m\u001b[0;34m\u001b[0m\u001b[0;34m\u001b[0m\u001b[0m\n\u001b[1;32m      5\u001b[0m \u001b[0;34m\u001b[0m\u001b[0m\n\u001b[0;32m----> 6\u001b[0;31m \u001b[0meoo\u001b[0m\u001b[0;34m(\u001b[0m\u001b[0;36m1\u001b[0m\u001b[0;34m,\u001b[0m \u001b[0;36m2\u001b[0m\u001b[0;34m,\u001b[0m\u001b[0;36m3\u001b[0m\u001b[0;34m,\u001b[0m\u001b[0;36m4\u001b[0m\u001b[0;34m,\u001b[0m\u001b[0;36m5\u001b[0m\u001b[0;34m,\u001b[0m\u001b[0;36m6\u001b[0m\u001b[0;34m,\u001b[0m\u001b[0;36m7\u001b[0m\u001b[0;34m,\u001b[0m \u001b[0;36m8\u001b[0m\u001b[0;34m)\u001b[0m\u001b[0;34m\u001b[0m\u001b[0;34m\u001b[0m\u001b[0m\n\u001b[0m",
            "\u001b[0;31mTypeError\u001b[0m: eoo() missing 1 required keyword-only argument: 'b'"
          ]
        }
      ]
    },
    {
      "cell_type": "code",
      "source": [
        "# b에 Keyword Argument를 지정\n",
        "eoo( 1,2,3,4,5,6,7, b=8)"
      ],
      "metadata": {
        "colab": {
          "base_uri": "https://localhost:8080/"
        },
        "id": "1DwsqXGHMQ67",
        "outputId": "f877313a-a871-46ec-8fc0-dc524e64b5f6"
      },
      "execution_count": null,
      "outputs": [
        {
          "output_type": "stream",
          "name": "stdout",
          "text": [
            "1\n",
            "(2, 3, 4, 5, 6, 7)\n",
            "8\n"
          ]
        }
      ]
    },
    {
      "cell_type": "code",
      "source": [
        "# b에 Default Parameter를 사용하여 에러 방지\n",
        "def eoo(a, *args, b=\"Hello\"):\n",
        "  print(a)\n",
        "  print(args)\n",
        "  print(b)\n",
        "\n",
        "\n",
        "eoo(1, 2,3,4,5,6,7 )"
      ],
      "metadata": {
        "colab": {
          "base_uri": "https://localhost:8080/"
        },
        "id": "SFNNnScFMoZo",
        "outputId": "f7cb1ddc-6b0c-49b6-d72d-747ca67c509b"
      },
      "execution_count": null,
      "outputs": [
        {
          "output_type": "stream",
          "name": "stdout",
          "text": [
            "1\n",
            "(2, 3, 4, 5, 6, 7)\n",
            "Hello\n"
          ]
        }
      ]
    },
    {
      "cell_type": "code",
      "source": [
        "# 에러는 없지만, Default Parameter를 사용하는 의미가 없다.\n",
        "def eoo(a, b=\"Hello\", *args):\n",
        "  print(a)\n",
        "  print(b)\n",
        "  print(args)\n",
        "\n",
        "eoo(1,2,3,4,5,6,7)"
      ],
      "metadata": {
        "colab": {
          "base_uri": "https://localhost:8080/"
        },
        "id": "sVtIJhHzNDth",
        "outputId": "bf18798a-ec26-47d2-9f0c-4ebed4c942e7"
      },
      "execution_count": null,
      "outputs": [
        {
          "output_type": "stream",
          "name": "stdout",
          "text": [
            "1\n",
            "2\n",
            "(3, 4, 5, 6, 7)\n"
          ]
        }
      ]
    },
    {
      "cell_type": "markdown",
      "source": [
        "## Keyword Argument\n",
        "- 파라미터에 값을 넣어줄 때 파라미터의 변수명을 **직접** 기입하는 것"
      ],
      "metadata": {
        "id": "FcVPSzt0NY_f"
      }
    },
    {
      "cell_type": "code",
      "source": [
        "def too(a, b, c):\n",
        "  print(a, b, c)\n",
        "\n",
        "# 파라미터 a, b, c의 순서에 맞춰서 Argument를 넣는 것 - Positional Argument\n",
        "too(10, 20, 30)\n",
        "\n",
        "# 파라미터의 이름을 직접 기입해서 아규먼트를 넣는 것 - Keyword Argument\n",
        "too(c=30, a=10, b=20)\n",
        "\n",
        "too(10, c=30, b=20)"
      ],
      "metadata": {
        "colab": {
          "base_uri": "https://localhost:8080/"
        },
        "id": "Jltc4hz_N1B3",
        "outputId": "720e484c-d243-4793-89d3-bccc50745b79"
      },
      "execution_count": null,
      "outputs": [
        {
          "output_type": "stream",
          "name": "stdout",
          "text": [
            "10 20 30\n",
            "10 20 30\n",
            "10 20 30\n"
          ]
        }
      ]
    },
    {
      "cell_type": "code",
      "source": [
        "too(c=30, 20, a=10)"
      ],
      "metadata": {
        "colab": {
          "base_uri": "https://localhost:8080/",
          "height": 109
        },
        "id": "K54x674KOnnP",
        "outputId": "20248584-9880-49fa-9a31-3457586f9946"
      },
      "execution_count": null,
      "outputs": [
        {
          "output_type": "error",
          "ename": "SyntaxError",
          "evalue": "positional argument follows keyword argument (<ipython-input-17-af6ddfa98092>, line 1)",
          "traceback": [
            "\u001b[0;36m  File \u001b[0;32m\"<ipython-input-17-af6ddfa98092>\"\u001b[0;36m, line \u001b[0;32m1\u001b[0m\n\u001b[0;31m    too(c=30, 20, a=10)\u001b[0m\n\u001b[0m                      ^\u001b[0m\n\u001b[0;31mSyntaxError\u001b[0m\u001b[0;31m:\u001b[0m positional argument follows keyword argument\n"
          ]
        }
      ]
    },
    {
      "cell_type": "markdown",
      "source": [
        "## `**kwargs`\n",
        "- 직접 정의해서 만드는 경우는 많이 없으나, 알아두기만 해도 좋다\n",
        "- 입력된 Keyword Argument들을 `dict`로 정리"
      ],
      "metadata": {
        "id": "tKJqJhRrR0oS"
      }
    },
    {
      "cell_type": "code",
      "source": [
        "def yoo(a, b, **kwargs):\n",
        "  print(a)\n",
        "  print(b)\n",
        "  print(kwargs)"
      ],
      "metadata": {
        "id": "P4ghE-lMSGvv"
      },
      "execution_count": null,
      "outputs": []
    },
    {
      "cell_type": "code",
      "source": [
        "yoo(10, 20, c=30, hihi=40, gamja=50)"
      ],
      "metadata": {
        "colab": {
          "base_uri": "https://localhost:8080/"
        },
        "id": "5K0KKS7-Sndf",
        "outputId": "84804386-1787-4889-ada9-cd7219809061"
      },
      "execution_count": null,
      "outputs": [
        {
          "output_type": "stream",
          "name": "stdout",
          "text": [
            "10\n",
            "20\n",
            "{'c': 30, 'hihi': 40, 'gamja': 50}\n"
          ]
        }
      ]
    },
    {
      "cell_type": "code",
      "source": [
        "def aoo(a, b, *args, **kwargs):\n",
        "  print(a)\n",
        "  print(b)\n",
        "  print(args)\n",
        "  print(kwargs)\n",
        "\n",
        "aoo(1,2,3,4,5,6,7,8,9, c='hihi', d='goguma')"
      ],
      "metadata": {
        "colab": {
          "base_uri": "https://localhost:8080/"
        },
        "id": "tLBNd7xjThyz",
        "outputId": "ea81ba6d-6dca-4b0b-ac4a-65af9a841069"
      },
      "execution_count": null,
      "outputs": [
        {
          "output_type": "stream",
          "name": "stdout",
          "text": [
            "1\n",
            "2\n",
            "(3, 4, 5, 6, 7, 8, 9)\n",
            "{'c': 'hihi', 'd': 'goguma'}\n"
          ]
        }
      ]
    },
    {
      "cell_type": "code",
      "source": [
        "def boo(a, b, c=30, d=40, *args, **kwargs):\n",
        "  print(a)\n",
        "  print(b)\n",
        "  print(c)\n",
        "  print(d)\n",
        "  print(args)\n",
        "  print(kwargs)"
      ],
      "metadata": {
        "id": "n3AmjXZSUMBP"
      },
      "execution_count": null,
      "outputs": []
    },
    {
      "cell_type": "code",
      "source": [
        "boo(1,2,3,4,5,6,7, e=10, f=30)"
      ],
      "metadata": {
        "colab": {
          "base_uri": "https://localhost:8080/"
        },
        "id": "V2l9pIM7Uy8U",
        "outputId": "987a2b28-a4f2-4bf0-bf2e-6d5ec379b11e"
      },
      "execution_count": null,
      "outputs": [
        {
          "output_type": "stream",
          "name": "stdout",
          "text": [
            "1\n",
            "2\n",
            "3\n",
            "4\n",
            "(5, 6, 7)\n",
            "{'e': 10, 'f': 30}\n"
          ]
        }
      ]
    },
    {
      "cell_type": "code",
      "source": [
        "boo(1,2, e=10, f=40)"
      ],
      "metadata": {
        "colab": {
          "base_uri": "https://localhost:8080/"
        },
        "id": "BiDgzK3WU312",
        "outputId": "704f5ad5-9bbb-4014-bc7c-97dbd391faa7"
      },
      "execution_count": null,
      "outputs": [
        {
          "output_type": "stream",
          "name": "stdout",
          "text": [
            "1\n",
            "2\n",
            "30\n",
            "40\n",
            "()\n",
            "{'e': 10, 'f': 40}\n"
          ]
        }
      ]
    },
    {
      "cell_type": "code",
      "source": [
        "boo(1,2,3,4,5,6,7, e=10, f=30, c=\"gamja\", d=\"goguma\")"
      ],
      "metadata": {
        "colab": {
          "base_uri": "https://localhost:8080/",
          "height": 145
        },
        "id": "utxVlyjHVBeA",
        "outputId": "1d3b8f24-2b2c-4733-b68d-c94838e2ba51"
      },
      "execution_count": null,
      "outputs": [
        {
          "output_type": "error",
          "ename": "TypeError",
          "evalue": "boo() got multiple values for argument 'c'",
          "traceback": [
            "\u001b[0;31m---------------------------------------------------------------------------\u001b[0m",
            "\u001b[0;31mTypeError\u001b[0m                                 Traceback (most recent call last)",
            "\u001b[0;32m<ipython-input-24-32b34eeacbb6>\u001b[0m in \u001b[0;36m<cell line: 1>\u001b[0;34m()\u001b[0m\n\u001b[0;32m----> 1\u001b[0;31m \u001b[0mboo\u001b[0m\u001b[0;34m(\u001b[0m\u001b[0;36m1\u001b[0m\u001b[0;34m,\u001b[0m\u001b[0;36m2\u001b[0m\u001b[0;34m,\u001b[0m\u001b[0;36m3\u001b[0m\u001b[0;34m,\u001b[0m\u001b[0;36m4\u001b[0m\u001b[0;34m,\u001b[0m\u001b[0;36m5\u001b[0m\u001b[0;34m,\u001b[0m\u001b[0;36m6\u001b[0m\u001b[0;34m,\u001b[0m\u001b[0;36m7\u001b[0m\u001b[0;34m,\u001b[0m \u001b[0me\u001b[0m\u001b[0;34m=\u001b[0m\u001b[0;36m10\u001b[0m\u001b[0;34m,\u001b[0m \u001b[0mf\u001b[0m\u001b[0;34m=\u001b[0m\u001b[0;36m30\u001b[0m\u001b[0;34m,\u001b[0m \u001b[0mc\u001b[0m\u001b[0;34m=\u001b[0m\u001b[0;34m\"gamja\"\u001b[0m\u001b[0;34m,\u001b[0m \u001b[0md\u001b[0m\u001b[0;34m=\u001b[0m\u001b[0;34m\"goguma\"\u001b[0m\u001b[0;34m)\u001b[0m\u001b[0;34m\u001b[0m\u001b[0;34m\u001b[0m\u001b[0m\n\u001b[0m",
            "\u001b[0;31mTypeError\u001b[0m: boo() got multiple values for argument 'c'"
          ]
        }
      ]
    },
    {
      "cell_type": "code",
      "source": [
        "def coo(a, b, *args, c=30, d=40, **kwargs):\n",
        "  print(a)\n",
        "  print(b)\n",
        "  print(args)\n",
        "  print(c)\n",
        "  print(d)\n",
        "  print(kwargs)"
      ],
      "metadata": {
        "id": "oZoofOsuVwDp"
      },
      "execution_count": null,
      "outputs": []
    },
    {
      "cell_type": "code",
      "source": [
        "coo(1,2,3,4,5,6,7, e='hihi', f='byebye')"
      ],
      "metadata": {
        "colab": {
          "base_uri": "https://localhost:8080/"
        },
        "id": "zc-4NC4HWwTq",
        "outputId": "c9b2e319-61e7-4f5a-aa11-3df6dde48624"
      },
      "execution_count": null,
      "outputs": [
        {
          "output_type": "stream",
          "name": "stdout",
          "text": [
            "1\n",
            "2\n",
            "(3, 4, 5, 6, 7)\n",
            "30\n",
            "40\n",
            "{'e': 'hihi', 'f': 'byebye'}\n"
          ]
        }
      ]
    },
    {
      "cell_type": "markdown",
      "source": [
        "# Lambda Function\n",
        "- 삼항연산 또는 컴프리헨션과 흡사하게 만들어지는 함수\n",
        "- 한줄 짜리 간단한 함수를 만들 때 사용\n",
        "- 1회용 함수를 만들 때 많이 사용"
      ],
      "metadata": {
        "id": "27kov6DPW3Sg"
      }
    },
    {
      "cell_type": "code",
      "source": [
        "lambda a : print(a)"
      ],
      "metadata": {
        "colab": {
          "base_uri": "https://localhost:8080/"
        },
        "id": "JbQ0YC3cfger",
        "outputId": "81ffa52f-54ee-42a6-acc7-ea6cb53c33d4"
      },
      "execution_count": null,
      "outputs": [
        {
          "output_type": "execute_result",
          "data": {
            "text/plain": [
              "<function __main__.<lambda>(a)>"
            ]
          },
          "metadata": {},
          "execution_count": 27
        }
      ]
    },
    {
      "cell_type": "code",
      "source": [
        "coo"
      ],
      "metadata": {
        "colab": {
          "base_uri": "https://localhost:8080/",
          "height": 103
        },
        "id": "x1wMh35igYL3",
        "outputId": "cbac7f04-be72-4812-d8b0-c2859f9de81b"
      },
      "execution_count": null,
      "outputs": [
        {
          "output_type": "execute_result",
          "data": {
            "text/plain": [
              "<function __main__.coo(a, b, *args, c=30, d=40, **kwargs)>"
            ],
            "text/html": [
              "<div style=\"max-width:800px; border: 1px solid var(--colab-border-color);\"><style>\n",
              "      pre.function-repr-contents {\n",
              "        overflow-x: auto;\n",
              "        padding: 8px 12px;\n",
              "        max-height: 500px;\n",
              "      }\n",
              "\n",
              "      pre.function-repr-contents.function-repr-contents-collapsed {\n",
              "        cursor: pointer;\n",
              "        max-height: 100px;\n",
              "      }\n",
              "    </style>\n",
              "    <pre style=\"white-space: initial; background:\n",
              "         var(--colab-secondary-surface-color); padding: 8px 12px;\n",
              "         border-bottom: 1px solid var(--colab-border-color);\"><b>coo</b><br/>def coo(a, b, *args, c=30, d=40, **kwargs)</pre><pre class=\"function-repr-contents function-repr-contents-collapsed\" style=\"\"><a class=\"filepath\" style=\"display:none\" href=\"#\">/content/&lt;ipython-input-25-cd19d3d7b73c&gt;</a>&lt;no docstring&gt;</pre></div>"
            ]
          },
          "metadata": {},
          "execution_count": 28
        }
      ]
    },
    {
      "cell_type": "code",
      "source": [
        "def add(num1, num2):\n",
        "  return num1 + num2\n",
        "\n",
        "add(1, 2)"
      ],
      "metadata": {
        "colab": {
          "base_uri": "https://localhost:8080/"
        },
        "id": "5iZriJGIgj1l",
        "outputId": "f4cd8837-7962-442c-8e02-c111d1176e28"
      },
      "execution_count": null,
      "outputs": [
        {
          "output_type": "execute_result",
          "data": {
            "text/plain": [
              "3"
            ]
          },
          "metadata": {},
          "execution_count": 29
        }
      ]
    },
    {
      "cell_type": "markdown",
      "source": [
        "`lambda <parameters> : <return>`"
      ],
      "metadata": {
        "id": "0dYmZUTZg-2z"
      }
    },
    {
      "cell_type": "code",
      "source": [
        "add_lambda = lambda num1, num2 : num1 + num2\n",
        "add_lambda(1, 2)"
      ],
      "metadata": {
        "colab": {
          "base_uri": "https://localhost:8080/"
        },
        "id": "Nj0AGnWkhNrI",
        "outputId": "df1b7dcd-ff9e-49a4-d7e7-8efad4a64726"
      },
      "execution_count": null,
      "outputs": [
        {
          "output_type": "execute_result",
          "data": {
            "text/plain": [
              "3"
            ]
          },
          "metadata": {},
          "execution_count": 30
        }
      ]
    },
    {
      "cell_type": "code",
      "source": [
        "# 숫자 x를 받아서 x의 제곱을 리턴하는 람다 함수 만들기\n",
        "square = lambda x : x ** 2\n",
        "square(5)"
      ],
      "metadata": {
        "colab": {
          "base_uri": "https://localhost:8080/"
        },
        "id": "W5Lxl8bVhyIK",
        "outputId": "d92edd1a-2997-4b24-c9d8-0d72b794f4e5"
      },
      "execution_count": null,
      "outputs": [
        {
          "output_type": "execute_result",
          "data": {
            "text/plain": [
              "25"
            ]
          },
          "metadata": {},
          "execution_count": 31
        }
      ]
    },
    {
      "cell_type": "code",
      "source": [
        "def babo():\n",
        "  print(\"babo\")\n",
        "\n",
        "b = babo\n",
        "b()"
      ],
      "metadata": {
        "colab": {
          "base_uri": "https://localhost:8080/"
        },
        "id": "SQMc2FTNiNJt",
        "outputId": "aa6dfa31-0b58-40dd-bcc2-fcbcd70a3ce0"
      },
      "execution_count": null,
      "outputs": [
        {
          "output_type": "stream",
          "name": "stdout",
          "text": [
            "babo\n"
          ]
        }
      ]
    },
    {
      "cell_type": "markdown",
      "source": [
        "# Scope 범위\n",
        "- 제어문(`if, for, while 등`) 및 함수의 내부에서 선언되는 변수와 밖에서 선언되는 변수의 **사용범위(scope)**가 다르다\n",
        "  - 파이썬에서는 제어문은 해당이 안된다.\n",
        "- `global`(전역), `local`(지역)\n"
      ],
      "metadata": {
        "id": "cDxens9UioMf"
      }
    },
    {
      "cell_type": "code",
      "source": [
        "# 전역 변수 - 어디에서든 접근이 가능\n",
        "gv = 10\n",
        "\n",
        "def foo():\n",
        "  print(gv)\n",
        "\n",
        "foo()"
      ],
      "metadata": {
        "colab": {
          "base_uri": "https://localhost:8080/"
        },
        "id": "JGc26tuDjEOd",
        "outputId": "f20f4ae7-3212-478b-cc34-85d10f50a181"
      },
      "execution_count": null,
      "outputs": [
        {
          "output_type": "stream",
          "name": "stdout",
          "text": [
            "10\n"
          ]
        }
      ]
    },
    {
      "cell_type": "code",
      "source": [
        "gv = 10\n",
        "\n",
        "def goo():\n",
        "  gv = 100\n",
        "  print(gv)\n",
        "\n",
        "goo()\n",
        "print(gv)"
      ],
      "metadata": {
        "colab": {
          "base_uri": "https://localhost:8080/"
        },
        "id": "nMrJqsqdoi40",
        "outputId": "5fb91988-63ad-4676-e079-ee14a95372f2"
      },
      "execution_count": null,
      "outputs": [
        {
          "output_type": "stream",
          "name": "stdout",
          "text": [
            "100\n",
            "10\n"
          ]
        }
      ]
    },
    {
      "cell_type": "code",
      "source": [
        "gv = 10\n",
        "\n",
        "def hoo():\n",
        "  # 명시적으로 gv라는 변수가 글로벌 영역의 변수라는 것을 알려주기\n",
        "  global gv\n",
        "\n",
        "  gv = 100\n",
        "  print(gv)\n",
        "\n",
        "hoo()\n",
        "print(gv)"
      ],
      "metadata": {
        "colab": {
          "base_uri": "https://localhost:8080/"
        },
        "id": "LkD0gRWEpXA7",
        "outputId": "fe6c1ae5-0ba2-4507-c553-9a005bfeb44f"
      },
      "execution_count": null,
      "outputs": [
        {
          "output_type": "stream",
          "name": "stdout",
          "text": [
            "100\n",
            "100\n"
          ]
        }
      ]
    },
    {
      "cell_type": "code",
      "source": [
        "def moo():\n",
        "  lv_moo = 10\n",
        "  print(lv_moo)\n",
        "\n",
        "moo()\n",
        "print(lv_moo)"
      ],
      "metadata": {
        "colab": {
          "base_uri": "https://localhost:8080/",
          "height": 199
        },
        "id": "S-QwvSeJp6de",
        "outputId": "6b0631bb-ff8b-41da-dd14-7fa2ea92ebff"
      },
      "execution_count": null,
      "outputs": [
        {
          "output_type": "stream",
          "name": "stdout",
          "text": [
            "10\n"
          ]
        },
        {
          "output_type": "error",
          "ename": "NameError",
          "evalue": "name 'lv_moo' is not defined",
          "traceback": [
            "\u001b[0;31m---------------------------------------------------------------------------\u001b[0m",
            "\u001b[0;31mNameError\u001b[0m                                 Traceback (most recent call last)",
            "\u001b[0;32m<ipython-input-36-fd22912082de>\u001b[0m in \u001b[0;36m<cell line: 6>\u001b[0;34m()\u001b[0m\n\u001b[1;32m      4\u001b[0m \u001b[0;34m\u001b[0m\u001b[0m\n\u001b[1;32m      5\u001b[0m \u001b[0mmoo\u001b[0m\u001b[0;34m(\u001b[0m\u001b[0;34m)\u001b[0m\u001b[0;34m\u001b[0m\u001b[0;34m\u001b[0m\u001b[0m\n\u001b[0;32m----> 6\u001b[0;31m \u001b[0mprint\u001b[0m\u001b[0;34m(\u001b[0m\u001b[0mlv_moo\u001b[0m\u001b[0;34m)\u001b[0m\u001b[0;34m\u001b[0m\u001b[0;34m\u001b[0m\u001b[0m\n\u001b[0m",
            "\u001b[0;31mNameError\u001b[0m: name 'lv_moo' is not defined"
          ]
        }
      ]
    },
    {
      "cell_type": "markdown",
      "source": [
        "- 함수 밖에서 만들어진 전역 변수는 어디에서든 사용이 가능하다.\n",
        "- 함수 내부에서 만들어진 지역 변수는 함수 내에서만 사용이 가능하다.\n",
        "  - 지역 변수에 해당하는 것 : 함수 내에서 선언된 변수, 파라미터"
      ],
      "metadata": {
        "id": "_GoRlugC7Rrr"
      }
    },
    {
      "cell_type": "markdown",
      "source": [
        "# 지역 함수(내부 함수)\n",
        "- 함수 내부에 또 다른 함수가 정의 되는 것"
      ],
      "metadata": {
        "id": "HD5eoisG7dsL"
      }
    },
    {
      "cell_type": "code",
      "source": [
        "\n",
        "def outer(a, b):\n",
        "  print(\"Here is Outer\")\n",
        "\n",
        "  def inner(c, d):\n",
        "    print(\"Here is Inner\")\n",
        "    return c + d\n",
        "\n",
        "  return inner(a, b)\n",
        "\n",
        "# inner 함수의 호출 시점 : outer의 호출 시점\n",
        "# outer가 호출이 되어야 inner가 호출이 된다.\n",
        "outer(10, 20)"
      ],
      "metadata": {
        "colab": {
          "base_uri": "https://localhost:8080/"
        },
        "id": "fCU8p5ob7_-5",
        "outputId": "bb732ec6-635f-43f4-9803-d4d4108dd0bd"
      },
      "execution_count": null,
      "outputs": [
        {
          "output_type": "stream",
          "name": "stdout",
          "text": [
            "Here is Outer\n",
            "Here is Inner\n"
          ]
        },
        {
          "output_type": "execute_result",
          "data": {
            "text/plain": [
              "30"
            ]
          },
          "metadata": {},
          "execution_count": 37
        }
      ]
    },
    {
      "cell_type": "code",
      "source": [
        "# outer 내부에서 정의된 inner를 바로 호출하는 것이 아니고, 내가 원하는 시점에 호출\n",
        "def outer(a, b):\n",
        "  print(\"Here is Outer\")\n",
        "\n",
        "  def inner():\n",
        "    print(\"Here is Inner\")\n",
        "    return a+b\n",
        "\n",
        "  return inner\n",
        "\n",
        "inner_func = outer(10, 20)\n",
        "inner_func"
      ],
      "metadata": {
        "colab": {
          "base_uri": "https://localhost:8080/",
          "height": 121
        },
        "id": "MIX5qNH78sCo",
        "outputId": "713b61a8-cf35-4e37-a872-42ae0abc81be"
      },
      "execution_count": null,
      "outputs": [
        {
          "output_type": "stream",
          "name": "stdout",
          "text": [
            "Here is Outer\n"
          ]
        },
        {
          "output_type": "execute_result",
          "data": {
            "text/plain": [
              "<function __main__.outer.<locals>.inner()>"
            ],
            "text/html": [
              "<div style=\"max-width:800px; border: 1px solid var(--colab-border-color);\"><style>\n",
              "      pre.function-repr-contents {\n",
              "        overflow-x: auto;\n",
              "        padding: 8px 12px;\n",
              "        max-height: 500px;\n",
              "      }\n",
              "\n",
              "      pre.function-repr-contents.function-repr-contents-collapsed {\n",
              "        cursor: pointer;\n",
              "        max-height: 100px;\n",
              "      }\n",
              "    </style>\n",
              "    <pre style=\"white-space: initial; background:\n",
              "         var(--colab-secondary-surface-color); padding: 8px 12px;\n",
              "         border-bottom: 1px solid var(--colab-border-color);\"><b>outer.&lt;locals&gt;.inner</b><br/>def inner()</pre><pre class=\"function-repr-contents function-repr-contents-collapsed\" style=\"\"><a class=\"filepath\" style=\"display:none\" href=\"#\">/content/&lt;ipython-input-44-2aeb02874c99&gt;</a>&lt;no docstring&gt;</pre></div>"
            ]
          },
          "metadata": {},
          "execution_count": 44
        }
      ]
    },
    {
      "cell_type": "code",
      "source": [
        "# 원할 때 outer의 파라미터인 a, b를 inner_func를 통해 사용함\n",
        "#  즉 내부함수가 외부함수의 지역 변수에 접근할 수 있는 권한을 갖고 있기 때문에\n",
        "#  내부함수를 외부함수가 밖으로 노출한 경우 다른 환경에서 외부함수의 내부 지역변수에 접근하는 것 역시 가능하다.\n",
        "#  이러한 현상을 클로저(Closure)라고 한다.\n",
        "inner_func()"
      ],
      "metadata": {
        "colab": {
          "base_uri": "https://localhost:8080/"
        },
        "id": "ei-VqGrS-9Gf",
        "outputId": "66e4eba4-ca0a-48c1-a7ab-7359efffe0b5"
      },
      "execution_count": null,
      "outputs": [
        {
          "output_type": "stream",
          "name": "stdout",
          "text": [
            "Here is Inner\n"
          ]
        },
        {
          "output_type": "execute_result",
          "data": {
            "text/plain": [
              "300"
            ]
          },
          "metadata": {},
          "execution_count": 43
        }
      ]
    },
    {
      "cell_type": "markdown",
      "source": [
        "# Callback Function ★★★\n",
        "- 함수의 Argument로 함수가 넘어가는 것\n",
        "- 함수 Argument를 받는 Parameter를 Callback Function 이라고 한다."
      ],
      "metadata": {
        "id": "c0YTzWS4_VwZ"
      }
    },
    {
      "cell_type": "code",
      "source": [
        "# 값 두개를 받아서 제곱을 한 후 더하거나, 빼는 함수를 만들고 싶다.\n",
        "def foo(a, b, op):\n",
        "  a **= 2\n",
        "  b **= 2\n",
        "\n",
        "  if op == '+':\n",
        "    return a+b\n",
        "  else:\n",
        "    return a-b\n",
        "\n",
        "foo(10, 20, '+')"
      ],
      "metadata": {
        "colab": {
          "base_uri": "https://localhost:8080/"
        },
        "id": "Hpuu-lq3IyCN",
        "outputId": "0815cb7b-32ec-4228-85ad-76bbba4b10de"
      },
      "execution_count": null,
      "outputs": [
        {
          "output_type": "execute_result",
          "data": {
            "text/plain": [
              "500"
            ]
          },
          "metadata": {},
          "execution_count": 45
        }
      ]
    },
    {
      "cell_type": "code",
      "source": [
        "def foo(callback, a, b):\n",
        "  a **= 2\n",
        "  b **= 2\n",
        "\n",
        "  print(callback(a, b))"
      ],
      "metadata": {
        "id": "pLLsXxOdJjJ0"
      },
      "execution_count": null,
      "outputs": []
    },
    {
      "cell_type": "code",
      "source": [
        "def add_func(num1, num2):\n",
        "  return num1 + num2\n",
        "\n",
        "def sub_func(num1, num2):\n",
        "  return num1 - num2\n",
        "\n",
        "foo(add_func, 10, 20)"
      ],
      "metadata": {
        "colab": {
          "base_uri": "https://localhost:8080/"
        },
        "id": "6uH9C_3HKw30",
        "outputId": "755236d5-5fd9-48ec-8309-c3bea4c23849"
      },
      "execution_count": null,
      "outputs": [
        {
          "output_type": "stream",
          "name": "stdout",
          "text": [
            "500\n"
          ]
        }
      ]
    },
    {
      "cell_type": "code",
      "source": [
        "foo(sub_func, 20, 10)"
      ],
      "metadata": {
        "colab": {
          "base_uri": "https://localhost:8080/"
        },
        "id": "E7TG-OX7Le9J",
        "outputId": "ffa61214-e315-4480-ce99-d77b8720f04b"
      },
      "execution_count": null,
      "outputs": [
        {
          "output_type": "stream",
          "name": "stdout",
          "text": [
            "300\n"
          ]
        }
      ]
    },
    {
      "cell_type": "code",
      "source": [
        "multi_func = lambda num1, num2 : num1 * num2\n",
        "div_func = lambda num1, num2 : num1 / num2"
      ],
      "metadata": {
        "id": "vtaGeQgXLn1F"
      },
      "execution_count": null,
      "outputs": []
    },
    {
      "cell_type": "code",
      "source": [
        "foo(multi_func, 10, 20)"
      ],
      "metadata": {
        "colab": {
          "base_uri": "https://localhost:8080/"
        },
        "id": "iVS6fgLmMA9v",
        "outputId": "911b0bae-066a-4ead-f1bb-932d301a0a70"
      },
      "execution_count": null,
      "outputs": [
        {
          "output_type": "stream",
          "name": "stdout",
          "text": [
            "40000\n"
          ]
        }
      ]
    },
    {
      "cell_type": "code",
      "source": [
        "foo(div_func, 10, 20)"
      ],
      "metadata": {
        "colab": {
          "base_uri": "https://localhost:8080/"
        },
        "id": "Z29vvksbMDFv",
        "outputId": "eea35439-02b6-4679-bc99-4913c032522c"
      },
      "execution_count": null,
      "outputs": [
        {
          "output_type": "stream",
          "name": "stdout",
          "text": [
            "0.25\n"
          ]
        }
      ]
    },
    {
      "cell_type": "markdown",
      "source": [
        "# Decorator\n",
        "코드를 바꾸지 않고 기능을 추가하거나 수정하고 싶을 때 사용하는 문법"
      ],
      "metadata": {
        "id": "b_BMxnTjMEjg"
      }
    },
    {
      "cell_type": "code",
      "source": [
        "def bus(fee):\n",
        "  print(\"카드를 찍고 탑니다.\")\n",
        "  print(f\"{fee}를 내고 버스를 탑니다.\")\n",
        "  print(\"카드를 찍고 내립니다.\")\n",
        "\n",
        "def subway(fee):\n",
        "  print(\"카드를 찍고 탑니다.\")\n",
        "  print(f\"{fee}를 내고 지하철을 탑니다.\")\n",
        "  print(\"카드를 찍고 내립니다.\")"
      ],
      "metadata": {
        "id": "xPpfOrs5MeEY"
      },
      "execution_count": null,
      "outputs": []
    },
    {
      "cell_type": "code",
      "source": [
        "# 카드를 찍은 다음 타고, 찍은 다음 내리는 메인 로직을 꾸며주는 부가적인 로직\n",
        "def tag_card(callback): # callback : 수행할 메인 로직\n",
        "\n",
        "  # 메인 로직을 꾸며줄 함수를 작성\n",
        "  #  메인 로직을 꾸며주는 로직으로 감싸면 된다.\n",
        "  def wrapper(*args, **kwargs):\n",
        "    print(\"카드를 찍고 탑니다.\")\n",
        "    callback(*args, **kwargs)\n",
        "    print(\"카드를 찍고 내립니다.\")\n",
        "\n",
        "  return wrapper"
      ],
      "metadata": {
        "id": "bvv3oSpEOZcG"
      },
      "execution_count": null,
      "outputs": []
    },
    {
      "cell_type": "code",
      "source": [
        "# Decorator 연산자 @\n",
        "@tag_card\n",
        "def bus(fee):\n",
        "  print(f\"{fee}를 내고 버스를 탑니다.\")"
      ],
      "metadata": {
        "id": "5dRIA1uZQGAc"
      },
      "execution_count": null,
      "outputs": []
    },
    {
      "cell_type": "code",
      "source": [
        "bus(2750)"
      ],
      "metadata": {
        "colab": {
          "base_uri": "https://localhost:8080/"
        },
        "id": "4BcyPC5AQk8E",
        "outputId": "423321e2-b980-4e4f-cb34-873d0a82d289"
      },
      "execution_count": null,
      "outputs": [
        {
          "output_type": "stream",
          "name": "stdout",
          "text": [
            "카드를 찍고 탑니다.\n",
            "2750를 내고 버스를 탑니다.\n",
            "카드를 찍고 내립니다.\n"
          ]
        }
      ]
    },
    {
      "cell_type": "code",
      "source": [
        "@tag_card\n",
        "def subway(fee):\n",
        "  print(f\"{fee}를 내고 지하철을 탑니다.\")\n",
        "\n",
        "subway(1700)"
      ],
      "metadata": {
        "colab": {
          "base_uri": "https://localhost:8080/"
        },
        "id": "QyZtksGnQ0bw",
        "outputId": "e6b9ade5-bf65-4b81-f1dc-a298e8576019"
      },
      "execution_count": null,
      "outputs": [
        {
          "output_type": "stream",
          "name": "stdout",
          "text": [
            "카드를 찍고 탑니다.\n",
            "1700를 내고 지하철을 탑니다.\n",
            "카드를 찍고 내립니다.\n"
          ]
        }
      ]
    },
    {
      "cell_type": "code",
      "source": [],
      "metadata": {
        "id": "quufct2-RMvM"
      },
      "execution_count": null,
      "outputs": []
    }
  ]
}
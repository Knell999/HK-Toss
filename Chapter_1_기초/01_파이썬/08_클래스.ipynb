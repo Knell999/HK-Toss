{
  "nbformat": 4,
  "nbformat_minor": 0,
  "metadata": {
    "colab": {
      "provenance": [],
      "include_colab_link": true
    },
    "kernelspec": {
      "name": "python3",
      "display_name": "Python 3"
    },
    "language_info": {
      "name": "python"
    }
  },
  "cells": [
    {
      "cell_type": "markdown",
      "metadata": {
        "id": "view-in-github",
        "colab_type": "text"
      },
      "source": [
        "<a href=\"https://colab.research.google.com/github/Knell999/ML_Ops_HK-Toss/blob/main/Chapter_1_%EA%B8%B0%EC%B4%88/01_%ED%8C%8C%EC%9D%B4%EC%8D%AC/08_%ED%81%B4%EB%9E%98%EC%8A%A4.ipynb\" target=\"_parent\"><img src=\"https://colab.research.google.com/assets/colab-badge.svg\" alt=\"Open In Colab\"/></a>"
      ]
    },
    {
      "cell_type": "markdown",
      "source": [
        "# 클래스( Class )\n",
        "- 변수와 함수를 묶어 놓은 **개념**\n",
        "  - 데이터와 기능을 함께 **표현**\n",
        "- 현실 세상에 존재하는 모든 것들을 **표현** 한다.\n",
        "- 사용자가 정의하는 데이터 타입"
      ],
      "metadata": {
        "id": "tlktGUnaWN4G"
      }
    },
    {
      "cell_type": "markdown",
      "source": [
        "## 클래스의 구조\n",
        "- 변수, 메소드(함수)\n",
        "  - 변수 : 데이터\n",
        "  - 메소드 : 기능\n",
        "- `Car` 클래스를 만드려면?\n",
        "  - `Car`의 데이터 : 브랜드, 배기량, 가격, 중량, 색상 등등등....\n",
        "  - `Car`의 기능 : 에어컨 켜기, 전진, 후진, 음악 재생, 라디오 등등..."
      ],
      "metadata": {
        "id": "AFPgCxSxYbAE"
      }
    },
    {
      "cell_type": "code",
      "source": [
        "# 클래스의 이름은 CamelCase\n",
        "class Car:\n",
        "  # 변수 선언 부분\n",
        "  #   멤버 변수 ( 속성, 특성 )\n",
        "  color = \"black\"\n",
        "  price = 8000\n",
        "\n",
        "  # 메소드 선언 부분\n",
        "  def drive(self):\n",
        "    print(\"차가 앞으로 갑니다.\")\n",
        "\n",
        "  def brake(self):\n",
        "    print(\"차가 멈춥니다.\")"
      ],
      "metadata": {
        "id": "xK-T1mg0Z_hC"
      },
      "execution_count": null,
      "outputs": []
    },
    {
      "cell_type": "markdown",
      "source": [
        "클래스는 설계도!"
      ],
      "metadata": {
        "id": "cWpLBo9ncP12"
      }
    },
    {
      "cell_type": "code",
      "source": [
        "car = Car()\n",
        "print(car.price, car.color)"
      ],
      "metadata": {
        "colab": {
          "base_uri": "https://localhost:8080/"
        },
        "id": "1I9sKVPxciPd",
        "outputId": "b7242363-2ea2-4154-a73b-22c43cf88006"
      },
      "execution_count": null,
      "outputs": [
        {
          "output_type": "stream",
          "name": "stdout",
          "text": [
            "8000 black\n"
          ]
        }
      ]
    },
    {
      "cell_type": "code",
      "source": [
        "car.drive()\n",
        "car.brake()"
      ],
      "metadata": {
        "colab": {
          "base_uri": "https://localhost:8080/"
        },
        "id": "rpacHyEJfSlw",
        "outputId": "4c3dcf7e-7280-4695-8b8b-b73cd092ec0f"
      },
      "execution_count": null,
      "outputs": [
        {
          "output_type": "stream",
          "name": "stdout",
          "text": [
            "차가 앞으로 갑니다.\n",
            "차가 멈춥니다.\n"
          ]
        }
      ]
    },
    {
      "cell_type": "code",
      "source": [
        "car2 = Car()\n",
        "car2.price, car2.color"
      ],
      "metadata": {
        "colab": {
          "base_uri": "https://localhost:8080/"
        },
        "id": "8XtFjG-kfzPk",
        "outputId": "c2299a72-b8ed-4352-e5f5-b272488800a2"
      },
      "execution_count": null,
      "outputs": [
        {
          "output_type": "execute_result",
          "data": {
            "text/plain": [
              "(8000, 'black')"
            ]
          },
          "metadata": {},
          "execution_count": 5
        }
      ]
    },
    {
      "cell_type": "code",
      "source": [
        "car2.color = 'white'\n",
        "car2.price = 3000\n",
        "\n",
        "car2.color, car2.price"
      ],
      "metadata": {
        "colab": {
          "base_uri": "https://localhost:8080/"
        },
        "id": "1ZFJmJZTf9je",
        "outputId": "5aca61c0-fa09-46c8-9bbc-eb6e55a013db"
      },
      "execution_count": null,
      "outputs": [
        {
          "output_type": "execute_result",
          "data": {
            "text/plain": [
              "('white', 3000)"
            ]
          },
          "metadata": {},
          "execution_count": 6
        }
      ]
    },
    {
      "cell_type": "code",
      "source": [
        "car2.drive()\n",
        "car2.brake()"
      ],
      "metadata": {
        "colab": {
          "base_uri": "https://localhost:8080/"
        },
        "id": "vISir468iAnb",
        "outputId": "47d1b316-b30a-42fa-c4a4-7a2150a3c5ce"
      },
      "execution_count": null,
      "outputs": [
        {
          "output_type": "stream",
          "name": "stdout",
          "text": [
            "차가 앞으로 갑니다.\n",
            "차가 멈춥니다.\n"
          ]
        }
      ]
    },
    {
      "cell_type": "markdown",
      "source": [
        "# 객체(Object), 인스턴스(instance)\n",
        "- 인스턴스 : 실체화된 객체(object)\n",
        "- 객체 : 클래스를 이용해서 만들 수 있는 사용할 수 있는 것을 개념적으로 부르는 말"
      ],
      "metadata": {
        "id": "CR4Ig1Q7iYDZ"
      }
    },
    {
      "cell_type": "code",
      "source": [
        "# Car 클래스를 이용해서 객체를 생성한다.\n",
        "# Car 인스턴스를 2개 생성한다.\n",
        "\n",
        "car1 = Car()\n",
        "car2 = Car()"
      ],
      "metadata": {
        "id": "lGa542HAlRF9"
      },
      "execution_count": null,
      "outputs": []
    },
    {
      "cell_type": "code",
      "source": [
        "# 인스턴스의 동일성 비교\n",
        "car1 == car2"
      ],
      "metadata": {
        "colab": {
          "base_uri": "https://localhost:8080/"
        },
        "id": "NaN-o0comB2E",
        "outputId": "be374fba-a9c4-436f-fb7b-b649d52b1fd1"
      },
      "execution_count": null,
      "outputs": [
        {
          "output_type": "execute_result",
          "data": {
            "text/plain": [
              "False"
            ]
          },
          "metadata": {},
          "execution_count": 9
        }
      ]
    },
    {
      "cell_type": "code",
      "source": [
        "car3 = car1\n",
        "car1 == car3"
      ],
      "metadata": {
        "colab": {
          "base_uri": "https://localhost:8080/"
        },
        "id": "2kNb2q1pmYut",
        "outputId": "762afcb4-c5fb-4c23-e00e-13c394f70848"
      },
      "execution_count": null,
      "outputs": [
        {
          "output_type": "execute_result",
          "data": {
            "text/plain": [
              "True"
            ]
          },
          "metadata": {},
          "execution_count": 10
        }
      ]
    },
    {
      "cell_type": "markdown",
      "source": [
        "# 객체가 만들어지는 과정 ★★★★★\n",
        "* `__init__` 메소드 : 생성자( `Constructor` )\n",
        "* 객체의 초기화를 담당\n",
        "  - 초기화(`initialization`)? : 변수 및 객체가 만들어 질 때 **최초**로 값이 세팅되는 것\n",
        "* 객체가 처음 만들어 질 때 벌어지는 일들을 `__init__` 메소드에 작성한다.\n",
        "  - 보통 하는 일은 멤버 변수 초기화"
      ],
      "metadata": {
        "id": "7sxHQ03Cmlau"
      }
    },
    {
      "cell_type": "code",
      "source": [
        "class Car:\n",
        "  color = 'black'\n",
        "  price = 3000"
      ],
      "metadata": {
        "id": "UlWiA7P7nHiw"
      },
      "execution_count": null,
      "outputs": []
    },
    {
      "cell_type": "code",
      "source": [
        "car1 = Car()\n",
        "car1.color, car1.price"
      ],
      "metadata": {
        "colab": {
          "base_uri": "https://localhost:8080/"
        },
        "id": "z69WVKSun2JS",
        "outputId": "621a2a70-d402-46da-d2d9-16270df6e568"
      },
      "execution_count": null,
      "outputs": [
        {
          "output_type": "execute_result",
          "data": {
            "text/plain": [
              "('black', 3000)"
            ]
          },
          "metadata": {},
          "execution_count": 12
        }
      ]
    },
    {
      "cell_type": "code",
      "source": [
        "class Car:\n",
        "\n",
        "  def __init__(self, color, price):\n",
        "    print(\"자동차가 만들어 지고 있습니다.\")\n",
        "    self.color = color\n",
        "    self.price = price"
      ],
      "metadata": {
        "id": "LOtfcZmzn4s4"
      },
      "execution_count": null,
      "outputs": []
    },
    {
      "cell_type": "code",
      "source": [
        "car2 = Car(\"white\", 3500)"
      ],
      "metadata": {
        "colab": {
          "base_uri": "https://localhost:8080/"
        },
        "id": "m5NlrrfzoT2e",
        "outputId": "51ab7afd-feec-40a7-dc46-5b87dada3dd5"
      },
      "execution_count": null,
      "outputs": [
        {
          "output_type": "stream",
          "name": "stdout",
          "text": [
            "자동차가 만들어 지고 있습니다.\n"
          ]
        }
      ]
    },
    {
      "cell_type": "code",
      "source": [
        "car2.color, car2.price"
      ],
      "metadata": {
        "colab": {
          "base_uri": "https://localhost:8080/"
        },
        "id": "inW-z4aGo1v8",
        "outputId": "398503e8-0051-494f-ce52-cd0f44743457"
      },
      "execution_count": null,
      "outputs": [
        {
          "output_type": "execute_result",
          "data": {
            "text/plain": [
              "('white', 3500)"
            ]
          },
          "metadata": {},
          "execution_count": 15
        }
      ]
    },
    {
      "cell_type": "markdown",
      "source": [
        "`__init__` 메소드의 `Parameter`를 설정하여 원하는 값으로 객체의 멤버 변수들을 초기화 할 수있다."
      ],
      "metadata": {
        "id": "s76OnGg0pCSf"
      }
    },
    {
      "cell_type": "markdown",
      "source": [
        "## self\n",
        "- 객체 자기 자신을 참조하는 키워드\n",
        "- **멤버 메소드(메소드)**의 제일 앞에 있는 Parameter\n",
        "\n",
        "- 멤버 변수나, 멤버 메소드\n",
        "  - **반드시** 객체가 만들어 져야만 사용 할 수 있는 것들\n",
        "\n",
        "`self` : 나의 ~"
      ],
      "metadata": {
        "id": "be90oh-qpLwg"
      }
    },
    {
      "cell_type": "code",
      "source": [
        "class Person:\n",
        "\n",
        "  def __init__(self, name, job):\n",
        "    self.name = name\n",
        "    self.job = job\n",
        "\n",
        "  def print_info(self, param):\n",
        "\n",
        "    print(param)\n",
        "    # self의 메모리 주소값 확인\n",
        "    print(hex(id(self)))\n",
        "    print(f\"{self.name}의 직업은 {self.job}입니다.\")"
      ],
      "metadata": {
        "id": "FhH4H04IOsGY"
      },
      "execution_count": null,
      "outputs": []
    },
    {
      "cell_type": "code",
      "source": [
        "p1 = Person(\"소민호\",\"강사\")"
      ],
      "metadata": {
        "id": "o8AaAxm1ScEX"
      },
      "execution_count": null,
      "outputs": []
    },
    {
      "cell_type": "code",
      "source": [
        "p1.print_info(\"Hello\")"
      ],
      "metadata": {
        "colab": {
          "base_uri": "https://localhost:8080/"
        },
        "id": "UV0H3QeGSqIJ",
        "outputId": "40856916-df51-4879-f7d5-404e5be3563e"
      },
      "execution_count": null,
      "outputs": [
        {
          "output_type": "stream",
          "name": "stdout",
          "text": [
            "Hello\n",
            "0x782b444d01f0\n",
            "소민호의 직업은 강사입니다.\n"
          ]
        }
      ]
    },
    {
      "cell_type": "code",
      "source": [
        "p2 = Person(\"김철수\", \"학생\")\n",
        "p2.print_info(\"Hello\")"
      ],
      "metadata": {
        "colab": {
          "base_uri": "https://localhost:8080/"
        },
        "id": "qmxCTmqcSv00",
        "outputId": "7561ce6f-4403-4903-abb6-1804ba7ee06c"
      },
      "execution_count": null,
      "outputs": [
        {
          "output_type": "stream",
          "name": "stdout",
          "text": [
            "Hello\n",
            "0x782b444d0670\n",
            "김철수의 직업은 학생입니다.\n"
          ]
        }
      ]
    },
    {
      "cell_type": "code",
      "source": [
        "print(hex(id(p1)))"
      ],
      "metadata": {
        "colab": {
          "base_uri": "https://localhost:8080/"
        },
        "id": "aiT2vAyyTQib",
        "outputId": "0d0b0289-5406-47a7-9116-9006ad5405a0"
      },
      "execution_count": null,
      "outputs": [
        {
          "output_type": "stream",
          "name": "stdout",
          "text": [
            "0x782b444d01f0\n"
          ]
        }
      ]
    },
    {
      "cell_type": "code",
      "source": [
        "print(hex(id(p2)))"
      ],
      "metadata": {
        "colab": {
          "base_uri": "https://localhost:8080/"
        },
        "id": "JgJvRTt-UXsN",
        "outputId": "f624f936-5167-4bc5-896c-b8200b29ccfa"
      },
      "execution_count": null,
      "outputs": [
        {
          "output_type": "stream",
          "name": "stdout",
          "text": [
            "0x782b444d0670\n"
          ]
        }
      ]
    },
    {
      "cell_type": "code",
      "source": [
        "class Foo:\n",
        "\n",
        "  def foo1(self):\n",
        "    print(\"foo1\")\n",
        "\n",
        "  def foo2(self):\n",
        "    print(\"foo2\")\n",
        "\n",
        "    # 나의 foo1을 호출한다.\n",
        "    self.foo1()\n",
        "\n",
        "f = Foo()\n",
        "f.foo2()"
      ],
      "metadata": {
        "colab": {
          "base_uri": "https://localhost:8080/"
        },
        "id": "LTGZpGyBU5zE",
        "outputId": "1f0efbd2-3f5c-4a9b-9a4a-ecc490332b4c"
      },
      "execution_count": null,
      "outputs": [
        {
          "output_type": "stream",
          "name": "stdout",
          "text": [
            "foo2\n",
            "foo1\n"
          ]
        }
      ]
    },
    {
      "cell_type": "markdown",
      "source": [
        "# 상속\n",
        "- 클래스의 기능을 가져다가 그 기능을 수정하거나, 추가 할 때 사용하는 방법\n",
        "- **확장**의 개념"
      ],
      "metadata": {
        "id": "ifQ5AIDVWuog"
      }
    },
    {
      "cell_type": "code",
      "source": [
        "class A:\n",
        "\n",
        "  def __init__(self):\n",
        "    self.msg = \"Here is A\"\n",
        "\n",
        "  def foo(self):\n",
        "    print(f\"foo() => {self.msg}\")"
      ],
      "metadata": {
        "id": "0rvq80A5bRE7"
      },
      "execution_count": null,
      "outputs": []
    },
    {
      "cell_type": "code",
      "source": [
        "# A 클래스를 상속한 B 클래스 정의\n",
        "class B(A):\n",
        "  def goo(self):\n",
        "    print(\"Here is Goo\")"
      ],
      "metadata": {
        "id": "FMSikBVMcgic"
      },
      "execution_count": null,
      "outputs": []
    },
    {
      "cell_type": "code",
      "source": [
        "b = B()"
      ],
      "metadata": {
        "id": "0s50Q2VUdKpG"
      },
      "execution_count": null,
      "outputs": []
    },
    {
      "cell_type": "code",
      "source": [
        "b.goo()"
      ],
      "metadata": {
        "colab": {
          "base_uri": "https://localhost:8080/"
        },
        "id": "vay-zRkKehOG",
        "outputId": "f4f08e24-34fc-4d4c-f74e-2628fa53cc91"
      },
      "execution_count": null,
      "outputs": [
        {
          "output_type": "stream",
          "name": "stdout",
          "text": [
            "Here is Goo\n"
          ]
        }
      ]
    },
    {
      "cell_type": "code",
      "source": [
        "# A의 기능인 foo()도 사용 가능\n",
        "b.foo()"
      ],
      "metadata": {
        "colab": {
          "base_uri": "https://localhost:8080/"
        },
        "id": "Xc167JVte22-",
        "outputId": "82d43091-27b1-420f-917e-8522b7e98f48"
      },
      "execution_count": null,
      "outputs": [
        {
          "output_type": "stream",
          "name": "stdout",
          "text": [
            "foo() => Here is A\n"
          ]
        }
      ]
    },
    {
      "cell_type": "code",
      "source": [
        "b.msg"
      ],
      "metadata": {
        "colab": {
          "base_uri": "https://localhost:8080/",
          "height": 36
        },
        "id": "CWYL9FL-e4xw",
        "outputId": "ecb0be04-5b48-4220-d495-cee18bc33a2f"
      },
      "execution_count": null,
      "outputs": [
        {
          "output_type": "execute_result",
          "data": {
            "text/plain": [
              "'Here is A'"
            ],
            "application/vnd.google.colaboratory.intrinsic+json": {
              "type": "string"
            }
          },
          "metadata": {},
          "execution_count": 26
        }
      ]
    },
    {
      "cell_type": "code",
      "source": [
        "a = A()\n",
        "a.foo()"
      ],
      "metadata": {
        "colab": {
          "base_uri": "https://localhost:8080/"
        },
        "id": "k6gCGQvrfECb",
        "outputId": "2ee831ff-2af0-4a37-cc6d-935dd0d95c47"
      },
      "execution_count": null,
      "outputs": [
        {
          "output_type": "stream",
          "name": "stdout",
          "text": [
            "foo() => Here is A\n"
          ]
        }
      ]
    },
    {
      "cell_type": "code",
      "source": [
        "a.goo()"
      ],
      "metadata": {
        "colab": {
          "base_uri": "https://localhost:8080/",
          "height": 145
        },
        "id": "CPu7Sb5SfN2h",
        "outputId": "30d4e161-5378-4926-fa23-84b3f5d15e44"
      },
      "execution_count": null,
      "outputs": [
        {
          "output_type": "error",
          "ename": "AttributeError",
          "evalue": "'A' object has no attribute 'goo'",
          "traceback": [
            "\u001b[0;31m---------------------------------------------------------------------------\u001b[0m",
            "\u001b[0;31mAttributeError\u001b[0m                            Traceback (most recent call last)",
            "\u001b[0;32m<ipython-input-28-9ecd6ff8138f>\u001b[0m in \u001b[0;36m<cell line: 1>\u001b[0;34m()\u001b[0m\n\u001b[0;32m----> 1\u001b[0;31m \u001b[0ma\u001b[0m\u001b[0;34m.\u001b[0m\u001b[0mgoo\u001b[0m\u001b[0;34m(\u001b[0m\u001b[0;34m)\u001b[0m\u001b[0;34m\u001b[0m\u001b[0;34m\u001b[0m\u001b[0m\n\u001b[0m",
            "\u001b[0;31mAttributeError\u001b[0m: 'A' object has no attribute 'goo'"
          ]
        }
      ]
    },
    {
      "cell_type": "markdown",
      "source": [
        "핸드폰 만들어 보기\n",
        "- 기초(부모) 클래스에서는? : 파생 클래스의 공통적인 기능, 데이터를 정의한다.\n",
        "- 파생(자식) 클래스에서는? : 부모클래스로 부터 받아온 기능, 데이터를 자식 클래스에 맞게 수정하거나 기능을 추가"
      ],
      "metadata": {
        "id": "BEuAxFRwfSu2"
      }
    },
    {
      "cell_type": "code",
      "source": [
        "# 스마트폰의 기능 - 전화 걸기, 인터넷\n",
        "class SmartPhone:\n",
        "\n",
        "  def call(self):\n",
        "    print(\"전화하기\")\n",
        "\n",
        "  def do_internet(self):\n",
        "    print(\"인터넷 하기\")"
      ],
      "metadata": {
        "id": "qBqoAz7nfaYS"
      },
      "execution_count": null,
      "outputs": []
    },
    {
      "cell_type": "code",
      "source": [
        "class Galaxy(SmartPhone):\n",
        "\n",
        "  def record(self):\n",
        "    print(\"통화 녹음 하기\")\n",
        "\n",
        "  def samsung_pay(self):\n",
        "    print(\"삼페로 결제\")\n",
        "\n",
        "class IPhone(SmartPhone):\n",
        "\n",
        "  def app_store(self):\n",
        "    print(\"앱 다운로드\")\n",
        "\n",
        "  def airdrop(self):\n",
        "    print(\"에어드랍\")"
      ],
      "metadata": {
        "id": "p4Z72B0njizD"
      },
      "execution_count": null,
      "outputs": []
    },
    {
      "cell_type": "markdown",
      "source": [
        "### 실습\n",
        "```\n",
        "  동물농장\n",
        "\n",
        "  Animal 클래스\n",
        "    - eat() \"동물이 먹이를 먹습니다.\"\n",
        "    - sleep() \"동물이 잠에 들었습니다.\"\n",
        "\n",
        "  Lion 클래스를 만들어서 Animal 클래스를 상속\n",
        "    - hunt() \"사자가 사냥을 합니다.\"\n",
        "  Bird 클래스를 만들어서 Animal 클래스를 상속\n",
        "    - fly() \"새가 날아다닙니다.\"\n",
        "```"
      ],
      "metadata": {
        "id": "qsiQXrj6mK8o"
      }
    },
    {
      "cell_type": "code",
      "source": [
        "class A:\n",
        "  def foo(self):\n",
        "    print(\"foo\")\n",
        "\n",
        "class B(A):\n",
        "  def goo(self):\n",
        "    print(\"goo\")\n",
        "\n",
        "class C(A):\n",
        "  def hoo(self):\n",
        "    print(\"hoo\")\n",
        "\n",
        "class D(B, C):\n",
        "  def moo(self):\n",
        "    print(\"moo\")"
      ],
      "metadata": {
        "id": "CSI_rD8jmMu8"
      },
      "execution_count": null,
      "outputs": []
    },
    {
      "cell_type": "code",
      "source": [
        "d = D()\n",
        "d.foo()\n",
        "d.goo()\n",
        "d.hoo()\n",
        "d.moo()"
      ],
      "metadata": {
        "colab": {
          "base_uri": "https://localhost:8080/"
        },
        "id": "Kik_vc8Hq_lC",
        "outputId": "6b767b40-d853-4fec-89a7-7fe46ec8c707"
      },
      "execution_count": null,
      "outputs": [
        {
          "output_type": "stream",
          "name": "stdout",
          "text": [
            "foo\n",
            "goo\n",
            "hoo\n",
            "moo\n"
          ]
        }
      ]
    },
    {
      "cell_type": "markdown",
      "source": [
        "# 오버라이딩(override)⭐️⭐️⭐️⭐️⭐️\n",
        "- 부모로부터 받는 메소드를 **수정**하고 싶을 때 사용한다.\n",
        "- 자식클래스에서 부모클래스로부터 물려받은 메소드를 **재정의**\n",
        "\n",
        "## 오버라이딩의 규칙\n",
        "  - 부모클래스의 메소드 형식(이름, 파라미터 등)을 자식클래스에서 **똑같이** 따라해야 합니다."
      ],
      "metadata": {
        "id": "kDFCuBIIrODW"
      }
    },
    {
      "cell_type": "code",
      "source": [
        "class Animal:\n",
        "\n",
        "  def eat(self):\n",
        "    print(\"먹이를 먹습니다\")\n",
        "\n",
        "def Lion(Animal):\n",
        "\n",
        "  def hunt(self):\n",
        "    print(\"사자가 사냥을 합니다.\")"
      ],
      "metadata": {
        "id": "hKY4XmWbr3ND"
      },
      "execution_count": null,
      "outputs": []
    },
    {
      "cell_type": "code",
      "source": [
        "# Animal의 eat 메소드 오버라이딩\n",
        "#  사자는 eat()을 할 때 \"사자가 고기를 먹는다\"\n",
        "\n",
        "class Lion2(Animal):\n",
        "  def hunt(self):\n",
        "    print(\"사자가 사냥을 합니다.\")\n",
        "\n",
        "  # eat을 오버라이딩\n",
        "  def eat(self):\n",
        "    super().eat()\n",
        "    print(\"사자가 고기를 먹습니다.\")"
      ],
      "metadata": {
        "id": "eosycO4VtnJ5"
      },
      "execution_count": null,
      "outputs": []
    },
    {
      "cell_type": "code",
      "source": [
        "lion2 = Lion2()\n",
        "lion2.eat()"
      ],
      "metadata": {
        "colab": {
          "base_uri": "https://localhost:8080/"
        },
        "id": "Ek_TuplYuGG3",
        "outputId": "2188ca7d-3c1e-4521-8a9e-f46088138f97"
      },
      "execution_count": null,
      "outputs": [
        {
          "output_type": "stream",
          "name": "stdout",
          "text": [
            "먹이를 먹습니다\n",
            "사자가 고기를 먹습니다.\n"
          ]
        }
      ]
    },
    {
      "cell_type": "markdown",
      "source": [
        "# 상속의 법칙\n",
        "- 자식클래스의 객체를 생성하면 부모클래스의 객체가 먼저 만들어 진다."
      ],
      "metadata": {
        "id": "YWWCQL6DuNOJ"
      }
    },
    {
      "cell_type": "code",
      "source": [
        "class Animal:\n",
        "\n",
        "  def __init__(self, name):\n",
        "    print(\"동물 객체가 만들어 집니다.\")\n",
        "    self.name = name\n",
        "\n",
        "  def eat(self):\n",
        "    print(f\"{self.name}이(가) 먹이를 먹습니다.\")"
      ],
      "metadata": {
        "id": "ymdkFLdav1jo"
      },
      "execution_count": null,
      "outputs": []
    },
    {
      "cell_type": "code",
      "source": [
        "class Dog(Animal):\n",
        "name} : 월월\")\n",
        "  # 자식 클래스인 Dog 클래스는 부모 클래스 Animal의 생성 책임을 져야 한다.\n",
        "  #  - Animal 클래스의 객체가 생성되기 위해서는 name이 필요하다\n",
        "  #  - 따라서 Dog 클래스에서 Animal 클래스의 객체 생성 책임을 지기 위해 name을 대신 받는다.\n",
        "  def __init__(self, name):\n",
        "    # 멤버 변수 오버라이딩 - 하지 말 것\n",
        "    # self.name = name\n",
        "\n",
        "    # 자식 클래스에서 받아온 name argument를 부모클래스로 \"올려\"줍니다.\n",
        "    super(Dog, self).__init__(name)\n",
        "\n",
        "  def bark(self):\n",
        "    print(f\"{self."
      ],
      "metadata": {
        "id": "rFmVOiuNwffJ"
      },
      "execution_count": null,
      "outputs": []
    },
    {
      "cell_type": "code",
      "source": [
        "dog = Dog(\"코코\")"
      ],
      "metadata": {
        "colab": {
          "base_uri": "https://localhost:8080/"
        },
        "id": "RHYM3g6bxBZj",
        "outputId": "c1cc70c9-d6b4-4d4d-e233-4ac0a123066a"
      },
      "execution_count": null,
      "outputs": [
        {
          "output_type": "stream",
          "name": "stdout",
          "text": [
            "동물 객체가 만들어 집니다.\n"
          ]
        }
      ]
    },
    {
      "cell_type": "code",
      "source": [
        "dog.bark()"
      ],
      "metadata": {
        "colab": {
          "base_uri": "https://localhost:8080/"
        },
        "id": "GVwLwmNnxJtV",
        "outputId": "9c896493-fb5d-4947-e1f4-9cee5ae60941"
      },
      "execution_count": null,
      "outputs": [
        {
          "output_type": "stream",
          "name": "stdout",
          "text": [
            "코코 : 월월\n"
          ]
        }
      ]
    },
    {
      "cell_type": "markdown",
      "source": [
        "# Getter & Setter\n",
        "- 멤버 변수에 접근할 때 특정 로직을 거쳐서 접근 시키는 방법"
      ],
      "metadata": {
        "id": "m6ndb7vUzSe9"
      }
    },
    {
      "cell_type": "code",
      "source": [
        "a = 10 # set\n",
        "a * 10 # get"
      ],
      "metadata": {
        "colab": {
          "base_uri": "https://localhost:8080/"
        },
        "id": "-Y2NyV3-gYJq",
        "outputId": "9c3fcf14-fa99-4e16-ac27-2928b04e9f5e"
      },
      "execution_count": null,
      "outputs": [
        {
          "output_type": "execute_result",
          "data": {
            "text/plain": [
              "100"
            ]
          },
          "metadata": {},
          "execution_count": 1
        }
      ]
    },
    {
      "cell_type": "code",
      "source": [
        "class User1:\n",
        "\n",
        "  def __init__(self, name):\n",
        "\n",
        "    if len(name) >= 3:\n",
        "      self.name = name\n",
        "    else:\n",
        "      self.name = None\n",
        "      print(\"길이가 짧습니다.\")"
      ],
      "metadata": {
        "id": "uIl_cYOWgvHf"
      },
      "execution_count": null,
      "outputs": []
    },
    {
      "cell_type": "code",
      "source": [
        "user1 = User1(\"a\")"
      ],
      "metadata": {
        "colab": {
          "base_uri": "https://localhost:8080/"
        },
        "id": "X3dBY0czhcpQ",
        "outputId": "5532d0c3-712b-407d-f950-1720880cddda"
      },
      "execution_count": null,
      "outputs": [
        {
          "output_type": "stream",
          "name": "stdout",
          "text": [
            "길이가 짧습니다.\n"
          ]
        }
      ]
    },
    {
      "cell_type": "code",
      "source": [
        "# 생성자에는 멤버변수를 초기화 하는 코드만 있으면 되고,\n",
        "#  멤버 변수에 어떤 값이 들어가야 할지 검사하는 로직은 따로 분리\n",
        "class User2:\n",
        "\n",
        "  def __init__(self, first_name):\n",
        "    self.first_name = first_name\n",
        "\n",
        "  # 멤버 변수 first_name에 \"값이 들어갈 때 수행\"되는 메소드\n",
        "  def set_first_name(self, first_name):\n",
        "    print(\"Set First Name\")\n",
        "\n",
        "    if len(first_name) >= 3:\n",
        "      print(\"Set First Name Success\")\n",
        "      self.first_name = first_name\n",
        "    else:\n",
        "      print(\"Set First Name Failed\")\n",
        "      self.first_name = None\n",
        "\n",
        "  def get_first_name(self):\n",
        "    # 가지고 올 때는 대문자로 만들어서 가지고 오기\n",
        "    print(\"Get First Name UPPER\")\n",
        "    return self.first_name.upper()\n",
        "\n",
        "  # setter와 getter 등록\n",
        "  name = property(get_first_name, set_first_name)"
      ],
      "metadata": {
        "id": "rWcTBOGiiLLl"
      },
      "execution_count": null,
      "outputs": []
    },
    {
      "cell_type": "code",
      "source": [
        "user2 = User2(\"m\")\n",
        "user2.first_name"
      ],
      "metadata": {
        "colab": {
          "base_uri": "https://localhost:8080/",
          "height": 36
        },
        "id": "D2LFKWD2komD",
        "outputId": "f822f3e7-2257-426d-f431-e366a6d975d5"
      },
      "execution_count": null,
      "outputs": [
        {
          "output_type": "execute_result",
          "data": {
            "text/plain": [
              "'m'"
            ],
            "application/vnd.google.colaboratory.intrinsic+json": {
              "type": "string"
            }
          },
          "metadata": {},
          "execution_count": 5
        }
      ]
    },
    {
      "cell_type": "code",
      "source": [
        "user2.name = \"m\""
      ],
      "metadata": {
        "colab": {
          "base_uri": "https://localhost:8080/"
        },
        "id": "3ViE_MyDkt9L",
        "outputId": "8372f093-ba39-4705-e52d-756281753b4f"
      },
      "execution_count": null,
      "outputs": [
        {
          "output_type": "stream",
          "name": "stdout",
          "text": [
            "Set First Name\n",
            "Set First Name Failed\n"
          ]
        }
      ]
    },
    {
      "cell_type": "code",
      "source": [
        "user2.name = \"minho\""
      ],
      "metadata": {
        "colab": {
          "base_uri": "https://localhost:8080/"
        },
        "id": "AkexqWi8k-kY",
        "outputId": "a8fb29ce-1e58-4c89-e376-476da090ed25"
      },
      "execution_count": null,
      "outputs": [
        {
          "output_type": "stream",
          "name": "stdout",
          "text": [
            "Set First Name\n",
            "Set First Name Success\n"
          ]
        }
      ]
    },
    {
      "cell_type": "code",
      "source": [
        "user2.first_name"
      ],
      "metadata": {
        "colab": {
          "base_uri": "https://localhost:8080/",
          "height": 36
        },
        "id": "s6CpyeMglM-m",
        "outputId": "0c9b6809-a1b3-4a51-f18f-1618f05d4d0d"
      },
      "execution_count": null,
      "outputs": [
        {
          "output_type": "execute_result",
          "data": {
            "text/plain": [
              "'minho'"
            ],
            "application/vnd.google.colaboratory.intrinsic+json": {
              "type": "string"
            }
          },
          "metadata": {},
          "execution_count": 8
        }
      ]
    },
    {
      "cell_type": "code",
      "source": [
        "user2.name"
      ],
      "metadata": {
        "colab": {
          "base_uri": "https://localhost:8080/",
          "height": 54
        },
        "id": "9U1njqmwlR6x",
        "outputId": "ba6c9242-9c71-4ae4-f1b6-97fb1935f65d"
      },
      "execution_count": null,
      "outputs": [
        {
          "output_type": "stream",
          "name": "stdout",
          "text": [
            "Get First Name UPPER\n"
          ]
        },
        {
          "output_type": "execute_result",
          "data": {
            "text/plain": [
              "'MINHO'"
            ],
            "application/vnd.google.colaboratory.intrinsic+json": {
              "type": "string"
            }
          },
          "metadata": {},
          "execution_count": 9
        }
      ]
    },
    {
      "cell_type": "markdown",
      "source": [
        "# non public ( private화 )\n",
        "- `private` : 클래스의 멤버 변수를 클래스 내부에서만 사용하게 하는 것\n",
        "- `first_name`은 `getter`와 `setter`를 거쳐서 값을 집어 넣고, 가져오기로 했기 때문에\n",
        "- 바깥에서( 클래스 내부가 아닌 곳 ) 사용이 불가능 하도록 설정\n",
        "- **맹글링(mangling)** 기법을 이용해서 외부에서 직접적으로 변수나 메소드에 접근하는 것을 막을 수 있다."
      ],
      "metadata": {
        "id": "8CcCeJvklZkM"
      }
    },
    {
      "cell_type": "code",
      "source": [
        "class User3:\n",
        "\n",
        "  def __init__(self, first_name, age):\n",
        "    # 파이썬에서 멤버 변수를 외부에 노출 되는 것을 막으려면 변수 명 앞에 언더바를 두번 붙인다.\n",
        "    self.__first_name = first_name # 맹글링이 된 상태\n",
        "    self.age = age # 맹글링이 되지 않은 상태\n",
        "\n",
        "  # 멤버 변수 first_name에 \"값이 들어갈 때 수행\"되는 메소드\n",
        "  def set_first_name(self, first_name):\n",
        "    print(\"Set First Name\")\n",
        "\n",
        "    if len(first_name) >= 3:\n",
        "      print(\"Set First Name Success\")\n",
        "      self.__first_name = first_name\n",
        "    else:\n",
        "      print(\"Set First Name Failed\")\n",
        "      self.__first_name = None\n",
        "\n",
        "  def get_first_name(self):\n",
        "    # 가지고 올 때는 대문자로 만들어서 가지고 오기\n",
        "    print(\"Get First Name UPPER\")\n",
        "    return self.__first_name.upper()\n",
        "\n",
        "  # setter와 getter 등록\n",
        "  name = property(get_first_name, set_first_name)"
      ],
      "metadata": {
        "id": "Yf2Q_6UkmGmi"
      },
      "execution_count": null,
      "outputs": []
    },
    {
      "cell_type": "code",
      "source": [
        "user3 = User3(\"minho\", 30)"
      ],
      "metadata": {
        "id": "kLegtK-8nwr6"
      },
      "execution_count": null,
      "outputs": []
    },
    {
      "cell_type": "code",
      "source": [
        "user3.name = \"m\""
      ],
      "metadata": {
        "colab": {
          "base_uri": "https://localhost:8080/"
        },
        "id": "eyEuoO3hn0DZ",
        "outputId": "067a9dec-0517-463a-9256-13f3b0630cac"
      },
      "execution_count": null,
      "outputs": [
        {
          "output_type": "stream",
          "name": "stdout",
          "text": [
            "Set First Name\n",
            "Set First Name Failed\n"
          ]
        }
      ]
    },
    {
      "cell_type": "code",
      "source": [
        "user3.name = \"minho\"\n",
        "user3.name"
      ],
      "metadata": {
        "colab": {
          "base_uri": "https://localhost:8080/",
          "height": 90
        },
        "id": "8hGyKHnWn5uE",
        "outputId": "c09b8908-3b36-46cf-f384-fb6b5b792f56"
      },
      "execution_count": null,
      "outputs": [
        {
          "output_type": "stream",
          "name": "stdout",
          "text": [
            "Set First Name\n",
            "Set First Name Success\n",
            "Get First Name UPPER\n"
          ]
        },
        {
          "output_type": "execute_result",
          "data": {
            "text/plain": [
              "'MINHO'"
            ],
            "application/vnd.google.colaboratory.intrinsic+json": {
              "type": "string"
            }
          },
          "metadata": {},
          "execution_count": 14
        }
      ]
    },
    {
      "cell_type": "code",
      "source": [
        "user3.__first_name"
      ],
      "metadata": {
        "colab": {
          "base_uri": "https://localhost:8080/",
          "height": 145
        },
        "id": "xAYD7aBXn8R8",
        "outputId": "800146ae-1497-42f3-a464-21fcb2e47f67"
      },
      "execution_count": null,
      "outputs": [
        {
          "output_type": "error",
          "ename": "AttributeError",
          "evalue": "'User3' object has no attribute '__first_name'",
          "traceback": [
            "\u001b[0;31m---------------------------------------------------------------------------\u001b[0m",
            "\u001b[0;31mAttributeError\u001b[0m                            Traceback (most recent call last)",
            "\u001b[0;32m<ipython-input-15-bb75ee7cc091>\u001b[0m in \u001b[0;36m<cell line: 1>\u001b[0;34m()\u001b[0m\n\u001b[0;32m----> 1\u001b[0;31m \u001b[0muser3\u001b[0m\u001b[0;34m.\u001b[0m\u001b[0m__first_name\u001b[0m\u001b[0;34m\u001b[0m\u001b[0;34m\u001b[0m\u001b[0m\n\u001b[0m",
            "\u001b[0;31mAttributeError\u001b[0m: 'User3' object has no attribute '__first_name'"
          ]
        }
      ]
    },
    {
      "cell_type": "code",
      "source": [
        "user3._User3__first_name"
      ],
      "metadata": {
        "colab": {
          "base_uri": "https://localhost:8080/",
          "height": 36
        },
        "id": "GPJL-iAioVJv",
        "outputId": "ce4b15b6-a6ef-450e-c42c-90f9cfe05754"
      },
      "execution_count": null,
      "outputs": [
        {
          "output_type": "execute_result",
          "data": {
            "text/plain": [
              "'minho'"
            ],
            "application/vnd.google.colaboratory.intrinsic+json": {
              "type": "string"
            }
          },
          "metadata": {},
          "execution_count": 16
        }
      ]
    },
    {
      "cell_type": "code",
      "source": [
        "user3.__first_name = \"아무거나 집어넣기\"\n",
        "user3.name"
      ],
      "metadata": {
        "colab": {
          "base_uri": "https://localhost:8080/",
          "height": 54
        },
        "id": "s3UM0L4zonns",
        "outputId": "170dc76a-08b1-4045-9c44-1e6ece572d7a"
      },
      "execution_count": null,
      "outputs": [
        {
          "output_type": "stream",
          "name": "stdout",
          "text": [
            "Get First Name UPPER\n"
          ]
        },
        {
          "output_type": "execute_result",
          "data": {
            "text/plain": [
              "'MINHO'"
            ],
            "application/vnd.google.colaboratory.intrinsic+json": {
              "type": "string"
            }
          },
          "metadata": {},
          "execution_count": 17
        }
      ]
    },
    {
      "cell_type": "code",
      "source": [
        "user3.age"
      ],
      "metadata": {
        "colab": {
          "base_uri": "https://localhost:8080/"
        },
        "id": "Z0I82k1ko0cZ",
        "outputId": "04799756-dfb2-4865-9e5b-3195872636be"
      },
      "execution_count": null,
      "outputs": [
        {
          "output_type": "execute_result",
          "data": {
            "text/plain": [
              "30"
            ]
          },
          "metadata": {},
          "execution_count": 18
        }
      ]
    },
    {
      "cell_type": "markdown",
      "source": [
        "# 메소드 맹글링"
      ],
      "metadata": {
        "id": "6aQOnDcco-lR"
      }
    },
    {
      "cell_type": "code",
      "source": [
        "class User4:\n",
        "\n",
        "  def __init__(self, first_name, age):\n",
        "\n",
        "    # setter를 이용해서 초기화\n",
        "    self.set_first_name(first_name)\n",
        "    self.set_age(age)\n",
        "\n",
        "  # first_name에 대한 setter\n",
        "  def set_first_name(self, first_name):\n",
        "\n",
        "    if len(first_name) >= 3:\n",
        "      self.__first_name = first_name\n",
        "    else:\n",
        "      self.__first_name = None\n",
        "\n",
        "  # age에 대한 setter\n",
        "  def set_age(self, age):\n",
        "\n",
        "    if age > 0 :\n",
        "      self.__age = age\n",
        "    else:\n",
        "      self.__age = None\n",
        "\n",
        "  # first_name에 대한 getter\n",
        "  def get_first_name(self):\n",
        "    # 이름 중간의 모든 글자가 *로 표시 될 수 있도록\n",
        "    # minho -> m***o\n",
        "    first_char = self.__first_name[0]\n",
        "    last_char  = self.__first_name[-1]\n",
        "    star_len   = len(self.__first_name)-2\n",
        "    stars      = \"*\" * star_len\n",
        "\n",
        "    return f\"{first_char}{stars}{last_char}\"\n",
        "\n",
        "  # 사람의 정보를 표기하기 위한 문자열을 만드는 메소드를 구현( 클래스 내부에서만 사용 )\n",
        "  def __make_user_info(self):\n",
        "    return f\"{self.get_first_name()}의 나이는 {self.get_age()}입니다.\"\n",
        "\n",
        "  def print_user_info(self):\n",
        "    user_info_text = self.__make_user_info()\n",
        "    print(\"😀\", user_info_text, \"❤️\")\n",
        "\n",
        "  # age에 대한 getter\n",
        "  def get_age(self):\n",
        "    return self.__age\n",
        "\n",
        "  # getter & setter 등록\n",
        "  first_name = property(get_first_name, set_first_name)\n",
        "  age = property(get_age, set_age)"
      ],
      "metadata": {
        "id": "eKzWv1z6pXUK"
      },
      "execution_count": null,
      "outputs": []
    },
    {
      "cell_type": "code",
      "source": [
        "user4 = User4(\"minho\", 30)\n",
        "user4.print_user_info()"
      ],
      "metadata": {
        "colab": {
          "base_uri": "https://localhost:8080/"
        },
        "id": "I2iALJcjrlQy",
        "outputId": "4c2b3cdd-3699-49be-dbd8-c821be76b930"
      },
      "execution_count": null,
      "outputs": [
        {
          "output_type": "stream",
          "name": "stdout",
          "text": [
            "😀 m***o의 나이는 30입니다. ❤️\n"
          ]
        }
      ]
    },
    {
      "cell_type": "code",
      "source": [
        "user4.__make_user_info()"
      ],
      "metadata": {
        "colab": {
          "base_uri": "https://localhost:8080/",
          "height": 145
        },
        "id": "09KilMy2rp_y",
        "outputId": "16481b89-34d1-48d9-b47e-64ea291834d2"
      },
      "execution_count": null,
      "outputs": [
        {
          "output_type": "error",
          "ename": "AttributeError",
          "evalue": "'User4' object has no attribute '__make_user_info'",
          "traceback": [
            "\u001b[0;31m---------------------------------------------------------------------------\u001b[0m",
            "\u001b[0;31mAttributeError\u001b[0m                            Traceback (most recent call last)",
            "\u001b[0;32m<ipython-input-21-4e3414d8c0d2>\u001b[0m in \u001b[0;36m<cell line: 1>\u001b[0;34m()\u001b[0m\n\u001b[0;32m----> 1\u001b[0;31m \u001b[0muser4\u001b[0m\u001b[0;34m.\u001b[0m\u001b[0m__make_user_info\u001b[0m\u001b[0;34m(\u001b[0m\u001b[0;34m)\u001b[0m\u001b[0;34m\u001b[0m\u001b[0;34m\u001b[0m\u001b[0m\n\u001b[0m",
            "\u001b[0;31mAttributeError\u001b[0m: 'User4' object has no attribute '__make_user_info'"
          ]
        }
      ]
    },
    {
      "cell_type": "markdown",
      "source": [
        "# 클래스의 관계"
      ],
      "metadata": {
        "id": "vWQVb0SgvA3g"
      }
    },
    {
      "cell_type": "markdown",
      "source": [
        "## `is - a` 관계\n",
        "- `A is a B` : **클래스 A는 클래스 B이다** 라는 명제가 성립하는 관계\n",
        "  - A : 자식클래스, B : 부모클래스\n",
        "- **상속**에 의해 구현 된다.\n",
        "```python\n",
        "class Animal:\n",
        "    pass\n",
        "```\n",
        "```python\n",
        "class Lion(Animal): # Lion is a Animal\n",
        "    pass\n",
        "```\n",
        "\n"
      ],
      "metadata": {
        "id": "OPyFfLxEr0fy"
      }
    },
    {
      "cell_type": "markdown",
      "source": [
        "### 상속을 잘못 사용하는 경우\n",
        "- 클래스 하나 구현 해 놓고 돌려가면서 쓰고 싶어요\n",
        "- 메소드나 변수를 만들어 놓고 여러 클래스가 돌려가면서 쓰고 싶어요\n",
        "\n",
        "> 예시 : 오토바이랑 자동차를 만들고 싶어요. 오토바이도 엔진을 이용해서 시동을 켜고, 자동차도 엔진을 이용해서 시동을 켜야 해요\n",
        "\n",
        "Engine 클래스를 만들어서 자동차, 오토바이 클래스에 각각 상속 시키면 되지 않을까?"
      ],
      "metadata": {
        "id": "ohms8v9ru_q_"
      }
    },
    {
      "cell_type": "code",
      "source": [
        "class Engine:\n",
        "\n",
        "  def turn_on(self):\n",
        "    print(\"엔진 시동을 걸었습니다.\")\n",
        "\n",
        "  def turn_off(self):\n",
        "    print(\"엔진 시동을 껐습니다.\")"
      ],
      "metadata": {
        "id": "V96B0Ixqvhir"
      },
      "execution_count": null,
      "outputs": []
    },
    {
      "cell_type": "code",
      "source": [
        "class Car(Engine): # 자동차는 엔진입니다. - 성립하지 않는 명제\n",
        "\n",
        "  def drive(self):\n",
        "    self.turn_on()\n",
        "    print(\"자동차가 앞으로 갑니다.\")\n",
        "\n",
        "  def stop(self):\n",
        "    print(\"자동차가 멈췄습니다.\")\n",
        "    self.turn_off()"
      ],
      "metadata": {
        "id": "9RCR4qYrwTUz"
      },
      "execution_count": null,
      "outputs": []
    },
    {
      "cell_type": "code",
      "source": [
        "car = Car()\n",
        "car.drive()\n",
        "car.stop()"
      ],
      "metadata": {
        "colab": {
          "base_uri": "https://localhost:8080/"
        },
        "id": "06IUXGwbwaAZ",
        "outputId": "8f4e6670-621d-46ac-8adc-9b3a02344e85"
      },
      "execution_count": null,
      "outputs": [
        {
          "output_type": "stream",
          "name": "stdout",
          "text": [
            "엔진 시동을 걸었습니다.\n",
            "자동차가 앞으로 갑니다.\n",
            "자동차가 멈췄습니다.\n",
            "엔진 시동을 껐습니다.\n"
          ]
        }
      ]
    },
    {
      "cell_type": "code",
      "source": [
        "class 바퀴가_두개인_이동수단(Engine): # 바퀴가 두개인 이동수단은 엔진이다.\n",
        "\n",
        "  def drive(self):\n",
        "    self.turn_on()\n",
        "\n",
        "  def stop(self):\n",
        "    self.turn_off()\n",
        "\n",
        "class 오토바이(바퀴가_두개인_이동수단):\n",
        "  # 엔진으로 가는거 맞죠\n",
        "  pass\n",
        "\n",
        "class 자전거(바퀴가_두개인_이동수단):\n",
        "  # 엔진으로 가는게 아닌데\n",
        "  # 엔진으로 갈 수 있게 되어요\n",
        "  pass"
      ],
      "metadata": {
        "id": "A-kQdaTDwbjb"
      },
      "execution_count": null,
      "outputs": []
    },
    {
      "cell_type": "markdown",
      "source": [
        "## `Has a` 관계\n",
        "- `A has a B` : 클래스 A는 클래스 B를 갖는다.\n",
        "- A 클래스의 **멤버 변수**로 B 클래스의 객체를 가지고 있으면 된다."
      ],
      "metadata": {
        "id": "shLvRiXXxv0k"
      }
    },
    {
      "cell_type": "code",
      "source": [
        "class LamboEngine(Engine):\n",
        "\n",
        "  def __init__(self, version):\n",
        "    super(LamboEngine, self).__init__(\"람보르기니\")\n",
        "    self.version = version"
      ],
      "metadata": {
        "id": "kDhGgJJZ2Dbw"
      },
      "execution_count": null,
      "outputs": []
    },
    {
      "cell_type": "code",
      "source": [
        "class Car:\n",
        "  def __init__(self):\n",
        "    # 엔진이 강결합된 상태 : 무조건 람보르기니 엔진만 갖다가 쓰고 싶어요~!\n",
        "    self.engine = Engine(\"람보르기니\") # 소유관계 has a 관계\n",
        "\n",
        "  def drive(self):\n",
        "    # 내 부품 중에 하나인 engine의 시동을 켠다.\n",
        "    self.engine.turn_on()\n",
        "    print(\"자동차가 앞으로 갑니다.\")"
      ],
      "metadata": {
        "id": "LTeDlU2gxwJp"
      },
      "execution_count": null,
      "outputs": []
    },
    {
      "cell_type": "code",
      "source": [
        "class Car:\n",
        "  def __init__(self, engine):\n",
        "    # 엔진이 약결합된 상태 : 자동차를 만들 때 엔진을 교체 해가면서 쓰고 싶어요~!\n",
        "    self.engine = engine # 소유관계 has a 관계\n",
        "\n",
        "  def drive(self):\n",
        "    # 내 부품 중에 하나인 engine의 시동을 켠다.\n",
        "    self.engine.turn_on()\n",
        "    print(\"자동차가 앞으로 갑니다.\")"
      ],
      "metadata": {
        "id": "c_l0wC-tylyV"
      },
      "execution_count": null,
      "outputs": []
    },
    {
      "cell_type": "code",
      "source": [
        "class Engine:\n",
        "  def __init__(self, name):\n",
        "    self.name = name\n",
        "  def turn_on(self):\n",
        "    print(f\"{self.name} 엔진 시동을 걸었습니다.\")\n",
        "  def turn_off(self):\n",
        "    print(f\"{self.name} 엔진 시동을 껐습니다.\")"
      ],
      "metadata": {
        "id": "0T6TTUSDzGyl"
      },
      "execution_count": null,
      "outputs": []
    },
    {
      "cell_type": "code",
      "source": [
        "lambo_engine = Engine(\"람보르기니\")\n",
        "\n",
        "car = Car(lambo_engine)\n",
        "car.drive()"
      ],
      "metadata": {
        "colab": {
          "base_uri": "https://localhost:8080/"
        },
        "id": "_0s1Z8JlzLnn",
        "outputId": "cf0e3426-662c-4401-f0a2-602f9f0b7425"
      },
      "execution_count": null,
      "outputs": [
        {
          "output_type": "stream",
          "name": "stdout",
          "text": [
            "람보르기니 엔진 시동을 걸었습니다.\n",
            "자동차가 앞으로 갑니다.\n"
          ]
        }
      ]
    },
    {
      "cell_type": "code",
      "source": [
        "bongo_engine = Engine(\"봉고\")\n",
        "\n",
        "car = Car(bongo_engine)\n",
        "car.drive()"
      ],
      "metadata": {
        "colab": {
          "base_uri": "https://localhost:8080/"
        },
        "id": "s-9O5JbVzPmR",
        "outputId": "73735bde-2c88-478b-c480-90a822f30ff4"
      },
      "execution_count": null,
      "outputs": [
        {
          "output_type": "stream",
          "name": "stdout",
          "text": [
            "봉고 엔진 시동을 걸었습니다.\n",
            "자동차가 앞으로 갑니다.\n"
          ]
        }
      ]
    },
    {
      "cell_type": "markdown",
      "source": [
        "## `Use A` 관계\n",
        "- `A use a B` : A가 B를 사용하는 관계\n",
        "- 부품은 아니지만, A 클래스 특정 **메소드**를 사용할 때 B 객체를 넣어야 하는 관계"
      ],
      "metadata": {
        "id": "6FAKyoYdzS2m"
      }
    },
    {
      "cell_type": "code",
      "source": [
        "class Car:\n",
        "  def drive_through(self, food):\n",
        "    print(\"드라이브 쓰루하면서\")\n",
        "    food.eat()\n",
        "\n",
        "class Hamburger:\n",
        "  def eat(self):\n",
        "    print(\"참깨빵 위에~~~~특별한 소스 양상추까지~ 빨빠빠밤\")\n",
        "\n",
        "h = Hamburger()\n",
        "c = Car()\n",
        "\n",
        "# 자동차로 드라이브 쓰루를 하면서 햄버거를 먹는것\n",
        "c.drive_through(h)"
      ],
      "metadata": {
        "colab": {
          "base_uri": "https://localhost:8080/"
        },
        "id": "MmosnLWJzoCr",
        "outputId": "e9110c10-a1f4-4681-fd70-d46c5338ecc5"
      },
      "execution_count": null,
      "outputs": [
        {
          "output_type": "stream",
          "name": "stdout",
          "text": [
            "드라이브 쓰루하면서\n",
            "참깨빵 위에~~~~특별한 소스 양상추까지~ 빨빠빠밤\n"
          ]
        }
      ]
    },
    {
      "cell_type": "markdown",
      "source": [
        "# 정적 메소드(static method)"
      ],
      "metadata": {
        "id": "0ZBM8DhL0WiE"
      }
    },
    {
      "cell_type": "code",
      "source": [
        "class A:\n",
        "\n",
        "  def goo(self):\n",
        "    pass\n",
        "\n",
        "  @staticmethod\n",
        "  def foo():\n",
        "    print(\"Hello\")\n",
        "\n",
        "# 클래스 네임스페이스(클래스 명)을 통해 접근\n",
        "A.foo()"
      ],
      "metadata": {
        "colab": {
          "base_uri": "https://localhost:8080/"
        },
        "id": "5R_7mvlBO1VW",
        "outputId": "ee1526af-c335-4f98-b468-3ea213b1d209"
      },
      "execution_count": null,
      "outputs": [
        {
          "output_type": "stream",
          "name": "stdout",
          "text": [
            "Hello\n"
          ]
        }
      ]
    },
    {
      "cell_type": "code",
      "source": [
        "class B:\n",
        "\n",
        "  def __init__(self):\n",
        "    self.var1 = \"Hi\"\n",
        "\n",
        "  @staticmethod\n",
        "  def foo():\n",
        "    # var1을 출력 할 수 있을까?\n",
        "\n",
        "    #  멤버 변수 사용 불가!!\n",
        "    print()"
      ],
      "metadata": {
        "id": "v2FYYj0IQepP"
      },
      "execution_count": null,
      "outputs": []
    },
    {
      "cell_type": "markdown",
      "source": [
        "# 클래스 메소드 & 클래스 변수"
      ],
      "metadata": {
        "id": "N9szNFgJTO66"
      }
    },
    {
      "cell_type": "code",
      "source": [
        "class A:\n",
        "  class_var = 10\n",
        "\n",
        "  def foo(self):\n",
        "    # 클래스 변수는 멤버 변수처럼 인스턴스를 통한 접근도 가능!\n",
        "    print(self.class_var)\n",
        "\n",
        "A.class_var"
      ],
      "metadata": {
        "colab": {
          "base_uri": "https://localhost:8080/"
        },
        "id": "o-GYIL1tTPvq",
        "outputId": "cd2a224e-0910-4942-dd1c-cdad5d4c700c"
      },
      "execution_count": null,
      "outputs": [
        {
          "output_type": "execute_result",
          "data": {
            "text/plain": [
              "10"
            ]
          },
          "metadata": {},
          "execution_count": 6
        }
      ]
    },
    {
      "cell_type": "code",
      "source": [
        "class B:\n",
        "  class_var = \"Hello\"\n",
        "\n",
        "  @classmethod\n",
        "  def goo(cls):\n",
        "    print(cls)\n",
        "    print(cls.class_var)\n",
        "\n",
        "B.goo()"
      ],
      "metadata": {
        "colab": {
          "base_uri": "https://localhost:8080/"
        },
        "id": "y23tSZF0UfnA",
        "outputId": "74641f3d-0731-487b-c4c0-f09f8b99d9bf"
      },
      "execution_count": null,
      "outputs": [
        {
          "output_type": "stream",
          "name": "stdout",
          "text": [
            "<class '__main__.B'>\n",
            "Hello\n"
          ]
        }
      ]
    },
    {
      "cell_type": "code",
      "source": [
        "class C(B):\n",
        "  pass\n",
        "\n",
        "C.goo()"
      ],
      "metadata": {
        "colab": {
          "base_uri": "https://localhost:8080/"
        },
        "id": "lUEBXhRNVIwl",
        "outputId": "22634a6c-053e-4418-fafd-abd477be97b2"
      },
      "execution_count": null,
      "outputs": [
        {
          "output_type": "stream",
          "name": "stdout",
          "text": [
            "<class '__main__.C'>\n",
            "Hello\n"
          ]
        }
      ]
    },
    {
      "cell_type": "code",
      "source": [],
      "metadata": {
        "id": "8cvayn56V4oD"
      },
      "execution_count": null,
      "outputs": []
    }
  ]
}
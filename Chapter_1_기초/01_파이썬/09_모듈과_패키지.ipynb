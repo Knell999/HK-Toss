{
  "nbformat": 4,
  "nbformat_minor": 0,
  "metadata": {
    "colab": {
      "provenance": [],
      "include_colab_link": true
    },
    "kernelspec": {
      "name": "python3",
      "display_name": "Python 3"
    },
    "language_info": {
      "name": "python"
    }
  },
  "cells": [
    {
      "cell_type": "markdown",
      "metadata": {
        "id": "view-in-github",
        "colab_type": "text"
      },
      "source": [
        "<a href=\"https://colab.research.google.com/github/Knell999/ML_Ops_HK-Toss/blob/main/Chapter_1_%EA%B8%B0%EC%B4%88/01_%ED%8C%8C%EC%9D%B4%EC%8D%AC/09_%EB%AA%A8%EB%93%88%EA%B3%BC_%ED%8C%A8%ED%82%A4%EC%A7%80.ipynb\" target=\"_parent\"><img src=\"https://colab.research.google.com/assets/colab-badge.svg\" alt=\"Open In Colab\"/></a>"
      ]
    },
    {
      "cell_type": "markdown",
      "source": [
        "# 모듈(Module), 패키지(Package)\n",
        "- 모듈 : 변수, 함수, 클래스를 모아놓은 `.py` 확장자 파일\n",
        "  - `.py` 파일 : 마크다운이나 셀 같은 정보는 없고, 순수한 파이썬 코드만 존재\n",
        "  - `.ipynb` 파일 : 마크다운 및 시각화 등 여러 정보를 예쁘게 볼 수 있도록 꾸며진 파일\n",
        "- 패키지 : 모듈의 기능을 디렉토리(폴더) 별로 정리해 놓은 개념\n"
      ],
      "metadata": {
        "id": "wVsBp3mrWUq2"
      }
    },
    {
      "cell_type": "code",
      "source": [],
      "metadata": {
        "id": "gSv5GLo0YKWa"
      },
      "execution_count": null,
      "outputs": []
    },
    {
      "cell_type": "code",
      "source": [
        "%%writefile demo.py\n",
        "\n",
        "num = 10\n",
        "\n",
        "def foo(msg):\n",
        "  print(f\"foo() => {msg}\")\n",
        "\n",
        "def goo(num1, num2):\n",
        "  # 여러 개의 리턴 값을 튜플로 묶어서 리턴\n",
        "  return num1+num2, num1-num2, num1*num2, num1/num2\n",
        "\n",
        "class DemoCalc:\n",
        "  def sum_all(self, *args):\n",
        "    return sum(args)"
      ],
      "metadata": {
        "colab": {
          "base_uri": "https://localhost:8080/"
        },
        "id": "wgi8GAqvXTcS",
        "outputId": "eeba8c9a-5765-4d2d-f8a2-e843d62f64ce"
      },
      "execution_count": null,
      "outputs": [
        {
          "output_type": "stream",
          "name": "stdout",
          "text": [
            "Writing demo.py\n"
          ]
        }
      ]
    },
    {
      "cell_type": "code",
      "source": [
        "foo(\"hello\")"
      ],
      "metadata": {
        "colab": {
          "base_uri": "https://localhost:8080/",
          "height": 145
        },
        "id": "VrpTjo0XYo2B",
        "outputId": "8e3ba288-8e0a-4790-cf8b-291295a0520e"
      },
      "execution_count": null,
      "outputs": [
        {
          "output_type": "error",
          "ename": "NameError",
          "evalue": "name 'foo' is not defined",
          "traceback": [
            "\u001b[0;31m---------------------------------------------------------------------------\u001b[0m",
            "\u001b[0;31mNameError\u001b[0m                                 Traceback (most recent call last)",
            "\u001b[0;32m<ipython-input-2-7dc7f74c1548>\u001b[0m in \u001b[0;36m<cell line: 1>\u001b[0;34m()\u001b[0m\n\u001b[0;32m----> 1\u001b[0;31m \u001b[0mfoo\u001b[0m\u001b[0;34m(\u001b[0m\u001b[0;34m\"hello\"\u001b[0m\u001b[0;34m)\u001b[0m\u001b[0;34m\u001b[0m\u001b[0;34m\u001b[0m\u001b[0m\n\u001b[0m",
            "\u001b[0;31mNameError\u001b[0m: name 'foo' is not defined"
          ]
        }
      ]
    },
    {
      "cell_type": "markdown",
      "source": [
        "## 모듈 불러오기\n",
        "`import 모듈명` : 모듈을 불러오는 키워드"
      ],
      "metadata": {
        "id": "b2PKaF_LYx_G"
      }
    },
    {
      "cell_type": "code",
      "source": [
        "import demo"
      ],
      "metadata": {
        "id": "nz0ZiRkVY6ox"
      },
      "execution_count": null,
      "outputs": []
    },
    {
      "cell_type": "code",
      "source": [
        "demo.foo(\"Hello\")"
      ],
      "metadata": {
        "colab": {
          "base_uri": "https://localhost:8080/"
        },
        "id": "7doA2-ssY8hP",
        "outputId": "eb2d8e2e-c489-45ef-df8b-67ddb645b989"
      },
      "execution_count": null,
      "outputs": [
        {
          "output_type": "stream",
          "name": "stdout",
          "text": [
            "foo() => Hello\n"
          ]
        }
      ]
    },
    {
      "cell_type": "code",
      "source": [
        "demo.num"
      ],
      "metadata": {
        "colab": {
          "base_uri": "https://localhost:8080/"
        },
        "id": "a9CKRQhoZGw5",
        "outputId": "1283e1b6-9345-43cd-f169-2cd89bdd2799"
      },
      "execution_count": null,
      "outputs": [
        {
          "output_type": "execute_result",
          "data": {
            "text/plain": [
              "10"
            ]
          },
          "metadata": {},
          "execution_count": 5
        }
      ]
    },
    {
      "cell_type": "code",
      "source": [
        "calc = demo.DemoCalc()\n",
        "calc.sum_all(1,2,3,4,5,6,7,8,9,10)"
      ],
      "metadata": {
        "colab": {
          "base_uri": "https://localhost:8080/"
        },
        "id": "NlhZ8WqNZcrz",
        "outputId": "7ec3c2f6-c749-45d7-e3e0-d5ed58025b29"
      },
      "execution_count": null,
      "outputs": [
        {
          "output_type": "execute_result",
          "data": {
            "text/plain": [
              "55"
            ]
          },
          "metadata": {},
          "execution_count": 6
        }
      ]
    },
    {
      "cell_type": "markdown",
      "source": [
        "**모듈 내에 있는 함수, 변수, 클래스를 따로 따로 불러오기**\n",
        "- `from 모듈명 import [변수명 또는 함수명 또는 클래스명]`"
      ],
      "metadata": {
        "id": "rdYI9v83cLAQ"
      }
    },
    {
      "cell_type": "code",
      "source": [
        "from demo import goo"
      ],
      "metadata": {
        "id": "VnzXiNdBcYNo"
      },
      "execution_count": null,
      "outputs": []
    },
    {
      "cell_type": "code",
      "source": [
        "goo(1, 5)"
      ],
      "metadata": {
        "colab": {
          "base_uri": "https://localhost:8080/"
        },
        "id": "njFMs7iEcdkL",
        "outputId": "f49f169e-056b-41d5-98f4-b91d4f12d25a"
      },
      "execution_count": null,
      "outputs": [
        {
          "output_type": "execute_result",
          "data": {
            "text/plain": [
              "(6, -4, 5, 0.2)"
            ]
          },
          "metadata": {},
          "execution_count": 8
        }
      ]
    },
    {
      "cell_type": "markdown",
      "source": [
        "**모듈을 불러올 때 별명 지어주기(alias)**\n",
        "- `import 모듈명 as 별명`"
      ],
      "metadata": {
        "id": "s8nnIZKMco7E"
      }
    },
    {
      "cell_type": "code",
      "source": [
        "import demo as dm\n",
        "\n",
        "dm.goo(2, 8)"
      ],
      "metadata": {
        "colab": {
          "base_uri": "https://localhost:8080/"
        },
        "id": "5_hCADJCcu_x",
        "outputId": "38061080-cf65-4305-e7db-96aadfffe36a"
      },
      "execution_count": null,
      "outputs": [
        {
          "output_type": "execute_result",
          "data": {
            "text/plain": [
              "(10, -6, 16, 0.25)"
            ]
          },
          "metadata": {},
          "execution_count": 9
        }
      ]
    },
    {
      "cell_type": "markdown",
      "source": [
        "**모듈 내의 모든 항목 불러오기**\n"
      ],
      "metadata": {
        "id": "5RrP9RSIc1Dg"
      }
    },
    {
      "cell_type": "code",
      "source": [
        "from demo import *\n",
        "foo(\"HIhiHIHI\")"
      ],
      "metadata": {
        "colab": {
          "base_uri": "https://localhost:8080/"
        },
        "id": "hbQPz8Yqc75t",
        "outputId": "7c133211-c360-43c0-aefd-2c7bb47e9dc6"
      },
      "execution_count": null,
      "outputs": [
        {
          "output_type": "stream",
          "name": "stdout",
          "text": [
            "foo() => HIhiHIHI\n"
          ]
        }
      ]
    },
    {
      "cell_type": "markdown",
      "source": [
        "## 패키지(Package)\n",
        "- 패키지 생성\n",
        "  - 디렉토리(폴더)를 만든 것과 비슷한 작업\n",
        "- 패키지 호출"
      ],
      "metadata": {
        "id": "-PRlz0oqc_57"
      }
    },
    {
      "cell_type": "code",
      "source": [
        "!mkdir -p hk_pkg/pkg1"
      ],
      "metadata": {
        "id": "hVcoozBPdXK6"
      },
      "execution_count": null,
      "outputs": []
    },
    {
      "cell_type": "code",
      "source": [
        "!mkdir -p hk_pkg/pkg2"
      ],
      "metadata": {
        "id": "4-6Z3lMIdw8Z"
      },
      "execution_count": null,
      "outputs": []
    },
    {
      "cell_type": "code",
      "source": [
        "%%writefile hk_pkg/pkg1/my_module.py\n",
        "\n",
        "def my_func(msg):\n",
        "  print(\"Here is pkg1.my_module\")\n",
        "  print(\"Good bye\")"
      ],
      "metadata": {
        "colab": {
          "base_uri": "https://localhost:8080/"
        },
        "id": "QmtoBbM3d2e4",
        "outputId": "c179cdd2-df27-4690-af12-ba95d24e840b"
      },
      "execution_count": null,
      "outputs": [
        {
          "output_type": "stream",
          "name": "stdout",
          "text": [
            "Writing hk_pkg/pkg1/my_module.py\n"
          ]
        }
      ]
    },
    {
      "cell_type": "code",
      "source": [
        "%%writefile hk_pkg/pkg2/your_module.py\n",
        "\n",
        "def your_func():\n",
        "  print(\"여기는 pkg2의 your_module 입니다.\")\n",
        "  print(\"Hi~\")"
      ],
      "metadata": {
        "colab": {
          "base_uri": "https://localhost:8080/"
        },
        "id": "FHvc-EOmeKYz",
        "outputId": "dec23001-0bdd-4f78-bd99-2f5f0c44cb0f"
      },
      "execution_count": null,
      "outputs": [
        {
          "output_type": "stream",
          "name": "stdout",
          "text": [
            "Writing hk_pkg/pkg2/your_module.py\n"
          ]
        }
      ]
    },
    {
      "cell_type": "code",
      "source": [
        "%%writefile hk_pkg/pkg2/hello.py\n",
        "\n",
        "def hello_func():\n",
        "  print(\"Hello~\")"
      ],
      "metadata": {
        "colab": {
          "base_uri": "https://localhost:8080/"
        },
        "id": "ef8fcE7NeOcG",
        "outputId": "2720b28e-97bb-422d-f369-9faaa2238d71"
      },
      "execution_count": null,
      "outputs": [
        {
          "output_type": "stream",
          "name": "stdout",
          "text": [
            "Writing hk_pkg/pkg2/hello.py\n"
          ]
        }
      ]
    },
    {
      "cell_type": "code",
      "source": [
        "# 패키지~모듈 까지 불러오기\n",
        "#  hello 모듈 불러오기\n",
        "import hk_pkg.pkg2.hello"
      ],
      "metadata": {
        "id": "1mCtjqtyeSv3"
      },
      "execution_count": null,
      "outputs": []
    },
    {
      "cell_type": "code",
      "source": [
        "hk_pkg.pkg2.hello.hello_func()"
      ],
      "metadata": {
        "colab": {
          "base_uri": "https://localhost:8080/"
        },
        "id": "V-D89pxje9cc",
        "outputId": "c0c227e2-0e1b-426c-cfe6-c64f02cce98b"
      },
      "execution_count": null,
      "outputs": [
        {
          "output_type": "stream",
          "name": "stdout",
          "text": [
            "Hello~\n"
          ]
        }
      ]
    },
    {
      "cell_type": "code",
      "source": [
        "import hk_pkg.pkg2.hello as hi\n",
        "\n",
        "hi.hello_func()"
      ],
      "metadata": {
        "colab": {
          "base_uri": "https://localhost:8080/"
        },
        "id": "_BMETY3jfJhw",
        "outputId": "5bbac7d5-22df-4780-e05f-6cfea1b2caea"
      },
      "execution_count": null,
      "outputs": [
        {
          "output_type": "stream",
          "name": "stdout",
          "text": [
            "Hello~\n"
          ]
        }
      ]
    },
    {
      "cell_type": "code",
      "source": [
        "from hk_pkg.pkg1.my_module import my_func\n",
        "\n",
        "my_func(\"gkdlgkdl\")"
      ],
      "metadata": {
        "colab": {
          "base_uri": "https://localhost:8080/"
        },
        "id": "bO4Sf_FPfWBe",
        "outputId": "e128e683-5181-4747-e2bd-ea7feb5bc084"
      },
      "execution_count": null,
      "outputs": [
        {
          "output_type": "stream",
          "name": "stdout",
          "text": [
            "Here is pkg1.my_module\n",
            "Good bye\n"
          ]
        }
      ]
    },
    {
      "cell_type": "code",
      "source": [],
      "metadata": {
        "id": "blT4TIbwf1k1"
      },
      "execution_count": null,
      "outputs": []
    }
  ]
}